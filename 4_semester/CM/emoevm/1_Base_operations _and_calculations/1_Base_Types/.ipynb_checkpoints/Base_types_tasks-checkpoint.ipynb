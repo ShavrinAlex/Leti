{
 "cells": [
  {
   "cell_type": "markdown",
   "id": "1ebf9dd7",
   "metadata": {},
   "source": [
    "#1 **Вам дан список из элементов различных типов. Выведите все попарные универсумы элементов.**"
   ]
  },
  {
   "cell_type": "code",
   "execution_count": 4,
   "id": "cbf3b664",
   "metadata": {},
   "outputs": [
    {
     "data": {
      "text/plain": [
       "['Rational Field',\n",
       " 'Integer Ring',\n",
       " 'Integer Ring',\n",
       " 'Rational Field',\n",
       " 'Rational Field',\n",
       " 'Integer Ring']"
      ]
     },
     "execution_count": 4,
     "metadata": {},
     "output_type": "execute_result"
    }
   ],
   "source": [
    "def solve(list_arg):\n",
    "    answer = []\n",
    "    for i in range(len(list_arg) - 1):\n",
    "        for j in range(i + 1, len(list_arg)):\n",
    "            tmp_seq = Sequence([list_arg[i], list_arg[j]])\n",
    "            answer.append(str(tmp_seq.universe()))     \n",
    "    return answer\n",
    "\n",
    "solve([1, 2/3, 45, 67])"
   ]
  },
  {
   "cell_type": "markdown",
   "id": "55bcc088",
   "metadata": {},
   "source": [
    "#2 **Вам дан список чисел. Необходимо выполнить следующее:**\n",
    "    - Вывести элементы только на четных индексах (напоминаем о 0-индексации).\n",
    "    - Вывести наибольший элемент и его индекс.\n",
    "    - Вывести элементы в обратном порядке.\n",
    "    - Переставить в списке соседние элементы и вывести полученный список.\n",
    "    - Отсортировать элементы списка по значению в кольце вычетов по модулю 7.\n"
   ]
  },
  {
   "cell_type": "code",
   "execution_count": 5,
   "id": "478939f1",
   "metadata": {},
   "outputs": [
    {
     "name": "stdout",
     "output_type": "stream",
     "text": [
      "5 10 42 1 0 -12 32 30 7 6 5 8 7\n",
      "5 42 0 32 7 5 7 \n",
      "42 2\n",
      "7 8 5 6 7 30 32 -12 0 1 42 10 5\n",
      "10 5 1 42 -12 0 30 32 6 7 8 5 7\n",
      "42 0 7 7 1 8 -12 30 10 32 5 5 6\n"
     ]
    }
   ],
   "source": [
    "inp_list = list(map(int, input().split()))\n",
    "\n",
    "for i in range(0, len(inp_list), 2):\n",
    "    print(inp_list[i], end=' ')\n",
    "print()\n",
    "\n",
    "print(max(inp_list), inp_list.index(max(inp_list)))\n",
    "\n",
    "rev_list = reversed(inp_list)\n",
    "print(*rev_list)\n",
    "\n",
    "switch_list = inp_list.copy()\n",
    "for i in range(0, len(switch_list) - 1, 2):\n",
    "    switch_list[i], switch_list[i + 1] = switch_list[i + 1], switch_list[i]\n",
    "print(*switch_list)\n",
    "\n",
    "sorted_list = inp_list.copy()\n",
    "sorted_list.sort(key = lambda x: x % 7)\n",
    "print(*sorted_list)\n",
    "\n"
   ]
  },
  {
   "cell_type": "markdown",
   "id": "d352cc08",
   "metadata": {},
   "source": [
    "#3 **Вам дан список. Подсчитайте и выведите, сколько в нем различных элементов, список нельзя изменять.**"
   ]
  },
  {
   "cell_type": "code",
   "execution_count": 8,
   "id": "c1951f46",
   "metadata": {},
   "outputs": [
    {
     "name": "stdout",
     "output_type": "stream",
     "text": [
      "1 9 1 1 1 1 2 2 9 7 7 9 2 9 1\n",
      "4\n"
     ]
    }
   ],
   "source": [
    "inp_list = input().split()\n",
    "\n",
    "unique_list = []\n",
    "for elem in inp_list:\n",
    "    if elem not in unique_list:\n",
    "        unique_list.append(elem)\n",
    "print(len(unique_list))"
   ]
  },
  {
   "cell_type": "markdown",
   "id": "6865122c",
   "metadata": {},
   "source": [
    "#4 **Дан список стран и городов каждой страны. Затем даны названия городов. \n",
    "     Для каждого города укажите, в какой стране он находится.**"
   ]
  },
  {
   "cell_type": "code",
   "execution_count": 11,
   "id": "761e6fd7",
   "metadata": {},
   "outputs": [
    {
     "name": "stdout",
     "output_type": "stream",
     "text": [
      "3\n",
      "qwe ty i\n",
      "asd g h\n",
      "swe t i\n",
      "3\n",
      "ty\n",
      "h\n",
      "i\n",
      "qwe\n",
      "asd\n",
      "qwe\n",
      "swe\n"
     ]
    }
   ],
   "source": [
    "N = int(input())\n",
    "\n",
    "cities_map = dict()\n",
    "for i in range(N):\n",
    "    string = input().split()  \n",
    "    cities_map[string[0]] = string[1:]\n",
    "\n",
    "M = int(input())\n",
    "requests = [input() for i in range(M)]\n",
    "answer = []\n",
    "for i in range(M):\n",
    "    for country in cities_map.keys():\n",
    "        if requests[i] in cities_map[country]:\n",
    "            answer.append(country)\n",
    "print(*answer, sep='\\n')"
   ]
  },
  {
   "cell_type": "markdown",
   "id": "0d801f35",
   "metadata": {},
   "source": [
    "#5 **Как известно, в США президент выбирается не прямым голосованием, а путем двухуровневого голосования. Сначала проводятся выборы в каждом штате и определяется победитель выборов в данном штате. Затем проводятся государственные выборы: на этих выборах каждый штат имеет определенное число голосов — число выборщиков от этого штата. На практике, все выборщики от штата голосуют в соответствии с результатами голосования внутри штата, то есть на заключительной стадии выборов в голосовании участвуют штаты, имеющие различное число голосов.**\n",
    "\n",
    "**На этот раз вам известно число выборщиков от каждого штата США и результаты голосования каждого гражданина США (а также в каком штате проживает данный гражданин).**\n",
    "\n",
    "**Вам необходимо подвести результаты голосования: сначала определить результаты голосования в каждом штате и определить, за какого из кандидатов отданы голоса выборщиков данного штата. Далее необходимо подвести результаты голосования выборщиков по всем штатам.**"
   ]
  },
  {
   "cell_type": "code",
   "execution_count": 14,
   "id": "6bbb4b3c",
   "metadata": {},
   "outputs": [
    {
     "name": "stdout",
     "output_type": "stream",
     "text": [
      "2\n",
      "Pen 67\n",
      "Jo 90\n",
      "3\n",
      "Pen Ki\n",
      "Jo Io\n",
      "Pen Ki\n",
      "Io 90\n",
      "Ki 67\n"
     ]
    }
   ],
   "source": [
    "# считывание голосов из штатов\n",
    "votes_map = dict()\n",
    "for i in range(int(input())):\n",
    "    info = input().split()\n",
    "    votes_map[info[0]] = [dict(), int(info[1])]\n",
    "\n",
    "# считывание голосов за кандидатов\n",
    "results_map = dict()\n",
    "for i in range(int(input())):\n",
    "    state, candidate = input().split()\n",
    "    \n",
    "    if candidate in votes_map[state][0]:\n",
    "        votes_map[state][0][candidate] = (votes_map[state][0][candidate] + 1)\n",
    "    else:\n",
    "        votes_map[state][0][candidate] = 1\n",
    "        \n",
    "    results_map[candidate] = 0\n",
    "\n",
    "# подсчет голосов кандидатов и выбор победителя\n",
    "for state in votes_map:\n",
    "    winner = ('', 0)\n",
    "    \n",
    "    for candidate in votes_map[state][0]:\n",
    "        count_votes = votes_map[state][0][candidate]\n",
    "        if count_votes > winner[1]:\n",
    "            winner = (candidate, count_votes)\n",
    "        else:\n",
    "            if count_votes == winner[1] and candidate < winner[0]:\n",
    "                winner = (candidate, count_votes)\n",
    "                \n",
    "    results_map[winner[0]] += votes_map[state][1]\n",
    "\n",
    "# сортировка и вывод результатов\n",
    "for candidate in sorted(map(lambda candidate: (candidate, results_map[candidate]), results_map), key=lambda item: (-item[1], item[0])):\n",
    "    print(*candidate)"
   ]
  },
  {
   "cell_type": "code",
   "execution_count": null,
   "id": "6bd2255d",
   "metadata": {},
   "outputs": [],
   "source": []
  }
 ],
 "metadata": {
  "kernelspec": {
   "display_name": "SageMath 9.5",
   "language": "sage",
   "name": "sagemath"
  },
  "language_info": {
   "codemirror_mode": {
    "name": "ipython",
    "version": 3
   },
   "file_extension": ".py",
   "mimetype": "text/x-python",
   "name": "python",
   "nbconvert_exporter": "python",
   "pygments_lexer": "ipython3",
   "version": "3.10.6"
  }
 },
 "nbformat": 4,
 "nbformat_minor": 5
}
