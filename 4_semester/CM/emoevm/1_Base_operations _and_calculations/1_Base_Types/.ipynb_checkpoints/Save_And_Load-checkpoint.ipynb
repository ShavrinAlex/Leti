{
 "cells": [
  {
   "cell_type": "markdown",
   "metadata": {},
   "source": [
    "# Сохранение и загрузка \n",
    "## Сохранение и загрузка отдельных объектов\n",
    "\n",
    "Почти любой объект x может быть сохранен в сжатой форме на диск при помощи\n",
    "команды ``save(x, filename)`` (или во многих случаях ``x.save(filename)``).\n",
    "Для загрузки объекта введите ``load(filename)``."
   ]
  },
  {
   "cell_type": "code",
   "execution_count": null,
   "metadata": {},
   "outputs": [],
   "source": [
    "A = MatrixSpace(QQ,3)(range(9))^2\n",
    "save(A, 'A')"
   ]
  },
  {
   "cell_type": "markdown",
   "metadata": {},
   "source": [
    "Теперь выйдите из Sage и перезапустите. Теперь вы можете получить ''A'' обратно:"
   ]
  },
  {
   "cell_type": "code",
   "execution_count": null,
   "metadata": {},
   "outputs": [],
   "source": [
    "A = load('A')\n",
    "A"
   ]
  },
  {
   "cell_type": "markdown",
   "metadata": {},
   "source": [
    "То же самое можно делать и с более сложными объектами, например эллиптическими\n",
    "кривыми. Вся информация об объекте (которая находится в кеше) сохраняется вместе\n",
    "с объектом. Например,"
   ]
  },
  {
   "cell_type": "code",
   "execution_count": null,
   "metadata": {},
   "outputs": [],
   "source": [
    "E = EllipticCurve('11a')\n",
    "v = E.anlist(100000)              # требует некоторого времени...\n",
    "save(E, 'E')\n",
    "print(v)\n",
    "quit"
   ]
  },
  {
   "cell_type": "markdown",
   "metadata": {},
   "source": [
    "Сохраненная версия ``E`` занимает 153 килобита, так как в нем содержатся первые\n",
    "100000 $a_n$.\n"
   ]
  },
  {
   "cell_type": "code",
   "execution_count": null,
   "metadata": {
    "scrolled": true
   },
   "outputs": [],
   "source": [
    "E = load('E')\n",
    "v = E.anlist(100000)     # моментально!\n",
    "print(v)"
   ]
  },
  {
   "cell_type": "markdown",
   "metadata": {},
   "source": [
    "## Сохранение в виде текста\n",
    "\n",
    "\n",
    "Вы также можете сохранять объекты в виде набора ASCII символов в простой\n",
    "текстовый файл простым открытием файла и сохранением строки, которая выражает\n",
    "(описывает) объект (вы можете записывать несколько объектов). Не забудьте\n",
    "закрыть файл после добавления данных."
   ]
  },
  {
   "cell_type": "code",
   "execution_count": null,
   "metadata": {},
   "outputs": [],
   "source": [
    "R.<x,y> = PolynomialRing(QQ,2)\n",
    "f = (x+y)^7\n",
    "o = open('file.txt','w')\n",
    "o.write(str(f))\n",
    "o.close()"
   ]
  },
  {
   "cell_type": "markdown",
   "metadata": {},
   "source": [
    "## Сохранение и загрузка полных сессий\n",
    "\n",
    "Sage обладает очень гибкими возможностями сохранения и загрузки полных сессий.\n",
    "\n",
    "Команда ``save_session(sessionname)`` сохраняет все переменные, которые\n",
    "вы задали в текущей сессии в виде словаря в заданном ``sessionname``. (В редком\n",
    "случае, когда объект не поддерживает сохранения, он просто не будет включен\n",
    "в словарь.) В результате будет создан файл с расширением ``.sobj`` и может быть\n",
    "загружен как любой другой объект. Когда вы загружаете сохраненные объекты в\n",
    "сессию, вы получаете словарь, ключами которого являются имена переменных, а\n",
    "значениями — объекты.\n",
    "\n",
    "Вы можете использовать команду ``load_session(sessionname)``, чтобы загрузить\n",
    "переменные, описанные в ``sessionname``, в текущую сессию. Заметьте, что это\n",
    "не удаляет переменные, заданные в этой сессии. Вместо этого, две сессии\n",
    "объединяются.\n",
    "\n",
    "Для начала запустим Sage и зададим несколько переменных."
   ]
  },
  {
   "cell_type": "code",
   "execution_count": null,
   "metadata": {},
   "outputs": [],
   "source": [
    "E = EllipticCurve('11a')\n",
    "M = ModularSymbols(37)\n",
    "a = 389\n",
    "t = M.T(2003).matrix()\n",
    "print(t.charpoly().factor())"
   ]
  },
  {
   "cell_type": "markdown",
   "metadata": {},
   "source": [
    "Далее, сохраним нашу сессию, что включит в себя сохранение всех заданных\n",
    "выше переменных в файл. Потом мы проверим информацию о файле. Его размер —\n",
    "3 килобайта."
   ]
  },
  {
   "cell_type": "code",
   "execution_count": null,
   "metadata": {},
   "outputs": [],
   "source": [
    "save_session('misc')\n",
    "quit"
   ]
  },
  {
   "cell_type": "markdown",
   "metadata": {},
   "source": [
    "Наконец, мы перезапустим Sage, зададим дополнительную переменную и загрузим\n",
    "сохраненную сессию."
   ]
  },
  {
   "cell_type": "code",
   "execution_count": null,
   "metadata": {},
   "outputs": [],
   "source": [
    "b = 19\n",
    "load_session('misc')\n",
    "print(b)\n",
    "print(t.charpoly().factor())\n",
    "print(a)"
   ]
  },
  {
   "cell_type": "markdown",
   "metadata": {},
   "source": [
    "Каждая сохраненная переменная снова является переменной. Кроме того, переменная\n",
    "``b`` не была перезаписана."
   ]
  }
 ],
 "metadata": {
  "kernelspec": {
   "display_name": "SageMath 9.5",
   "language": "sage",
   "name": "sagemath"
  },
  "language_info": {
   "codemirror_mode": {
    "name": "ipython",
    "version": 3
   },
   "file_extension": ".py",
   "mimetype": "text/x-python",
   "name": "python",
   "nbconvert_exporter": "python",
   "pygments_lexer": "ipython3",
   "version": "3.10.6"
  }
 },
 "nbformat": 4,
 "nbformat_minor": 4
}
