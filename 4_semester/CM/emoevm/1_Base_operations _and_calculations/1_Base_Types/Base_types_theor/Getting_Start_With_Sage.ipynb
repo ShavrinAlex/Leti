{
 "cells": [
  {
   "cell_type": "markdown",
   "metadata": {},
   "source": [
    "# Ваша сессия Sage\n",
    "\n",
    "\n",
    "Сессия — это последовательность вводов и выводов начиная с запуска программы\n",
    "и заканчивая выходом из нее. Если вы используете интерактивную оболочку (не веб-интерфейс Notebook), то вы можете ввести ``%hist``, чтобы вывести список всех введенных\n",
    "команд. Все введенные данные сохраняются и могут быть использованы как переменные (помимо обычного вызова с помощью стрелок).\n",
    "\n",
    "Пример:\n",
    "\n",
    "\n",
    "    sage: factor(100)\n",
    "    sage: kronecker_symbol(3,5)\n",
    "    sage: %hist   # Работает только в интерактивной оболочке, но не в Sage notebook.\n",
    "    \n",
    "    1: factor(100)\n",
    "    2: kronecker_symbol(3,5)\n",
    "    3: %hist\n",
    "\n",
    "При использовании интерактивной оболочки Sage, любая UNIX-команда может быть\n",
    "запущена с помощью префикса ``!``. Например"
   ]
  },
  {
   "cell_type": "code",
   "execution_count": null,
   "metadata": {},
   "outputs": [],
   "source": [
    "!ls"
   ]
  },
  {
   "cell_type": "markdown",
   "metadata": {},
   "source": [
    "возвращает содержание текущей директории."
   ]
  },
  {
   "cell_type": "markdown",
   "metadata": {},
   "source": [
    "# Ошибки и исключения\n",
    "\n",
    "\n",
    "Когда что-то идет не так, обычно можно увидеть исключение Python (Python\n",
    "\"exception\"). Python даже попытается предположить, что вызвало ошибку. Часто\n",
    "вы можете видеть имя исключения, например, ``NameError`` или ``ValueError``\n",
    "(вот [полный список исключений](https://specialistoff.net/question/728)). \n"
   ]
  },
  {
   "cell_type": "markdown",
   "metadata": {},
   "source": [
    "Интерактивный отладчик может быть полезным для понимая того, что пошло не так.\n",
    "Отладчик можно включать или выключать командой ``%pdb`` (по умолчанию он\n",
    "выключен). Приглашение командной строки ``ipdb>`` появляется на экране,\n",
    "если случилось исключение и отладчик был включен. Из отладчика вы можете\n",
    "вывести на экран состояние любой локальной переменной и двигаться вверх и вниз\n",
    "по стеку (execution stack). Например,"
   ]
  },
  {
   "cell_type": "code",
   "execution_count": 12,
   "metadata": {},
   "outputs": [
    {
     "name": "stdout",
     "output_type": "stream",
     "text": [
      "Automatic pdb calling has been turned ON\n"
     ]
    }
   ],
   "source": [
    "%pdb"
   ]
  },
  {
   "cell_type": "markdown",
   "metadata": {},
   "source": [
    "После активации этой команды отладчик будет включен (не забудьте запустить команду). Для получения списка команд отладчика введите ``?`` в командной строке ``ipdb>`` (для этого нужно вызвать исключение):"
   ]
  },
  {
   "cell_type": "code",
   "execution_count": 13,
   "metadata": {
    "scrolled": false
   },
   "outputs": [
    {
     "ename": "NameError",
     "evalue": "name 'h' is not defined",
     "output_type": "error",
     "traceback": [
      "\u001b[0;31m---------------------------------------------------------------------------\u001b[0m",
      "\u001b[0;31mNameError\u001b[0m                                 Traceback (most recent call last)",
      "\u001b[0;32m<ipython-input-13-244aa7266b3f>\u001b[0m in \u001b[0;36m<module>\u001b[0;34m\u001b[0m\n\u001b[0;32m----> 1\u001b[0;31m \u001b[0mh\u001b[0m\u001b[0;34m\u001b[0m\u001b[0;34m\u001b[0m\u001b[0m\n\u001b[0m",
      "\u001b[0;31mNameError\u001b[0m: name 'h' is not defined"
     ]
    },
    {
     "name": "stdout",
     "output_type": "stream",
     "text": [
      "> \u001b[0;32m<ipython-input-13-244aa7266b3f>\u001b[0m(1)\u001b[0;36m<module>\u001b[0;34m()\u001b[0m\n",
      "\u001b[0;32m----> 1 \u001b[0;31m\u001b[0mh\u001b[0m\u001b[0;34m\u001b[0m\u001b[0;34m\u001b[0m\u001b[0m\n",
      "\u001b[0m\n",
      "ipdb> ?\n",
      "\n",
      "Documented commands (type help <topic>):\n",
      "========================================\n",
      "EOF    cl         disable  interact  next    psource  rv         unt   \n",
      "a      clear      display  j         p       q        s          until \n",
      "alias  commands   down     jump      pdef    quit     source     up    \n",
      "args   condition  enable   l         pdoc    r        step       w     \n",
      "b      cont       exit     list      pfile   restart  tbreak     whatis\n",
      "break  continue   h        ll        pinfo   return   u          where \n",
      "bt     d          help     longlist  pinfo2  retval   unalias  \n",
      "c      debug      ignore   n         pp      run      undisplay\n",
      "\n",
      "Miscellaneous help topics:\n",
      "==========================\n",
      "exec  pdb\n",
      "\n",
      "ipdb> quit\n"
     ]
    }
   ],
   "source": [
    "h"
   ]
  },
  {
   "cell_type": "markdown",
   "metadata": {},
   "source": [
    "Нажмите Ctrl-D или введите ``quit`` чтобы вернуться в Sage."
   ]
  },
  {
   "cell_type": "markdown",
   "metadata": {},
   "source": [
    "# Обратный поиск и автодополнение\n",
    "\n",
    "\n",
    "Сначала создадим трехмерное векторное пространство $V=Q^3$ следующим\n",
    "образом:"
   ]
  },
  {
   "cell_type": "code",
   "execution_count": 14,
   "metadata": {},
   "outputs": [],
   "source": [
    "V = VectorSpace(QQ,3)"
   ]
  },
  {
   "cell_type": "markdown",
   "metadata": {},
   "source": [
    "Введите начало команды, потом нажмите ``Ctrl-p`` (или просто нажмите\n",
    "стрелку вверх на клавиатуре) чтобы вернуться к любой из строк, которые\n",
    "вы вводили, начинающейся с таких же символов. Это работает даже если вы\n",
    "полность вышли из Sage и перезапустили его позже. Можно использовать и\n",
    "обратный поиск по истории команд с помощью ``Ctrl-r``. Все эти возможности\n",
    "используют пакет ``readline`` который доступен почти на всех разновидностях\n",
    "GNU/Linux.\n",
    "\n",
    "Можно с легкостью вывести список всех функций для $V$, используя\n",
    "автодополнение. Просто введите ``V.``, потом нажмите ``[TAB]`` на своей\n",
    "клавиатуре:"
   ]
  },
  {
   "cell_type": "code",
   "execution_count": null,
   "metadata": {
    "scrolled": true
   },
   "outputs": [],
   "source": [
    "V."
   ]
  },
  {
   "cell_type": "markdown",
   "metadata": {},
   "source": [
    "Если вы введете первые несколько символов команды, а потом нажмёте ``[TAB]``,\n",
    "вы получите функции, которые начинаются с этих символов."
   ]
  },
  {
   "cell_type": "code",
   "execution_count": null,
   "metadata": {},
   "outputs": [],
   "source": [
    "V.i"
   ]
  },
  {
   "cell_type": "markdown",
   "metadata": {},
   "source": [
    "Если вам интересно, что делает какая-нибудь функция, например coordinates,\n",
    "введите ``V.coordinates?`` для получения справки или ``V.coordinates??`` для\n",
    "получения исходного кода (объясняется в следующем разделе)."
   ]
  },
  {
   "cell_type": "markdown",
   "metadata": {},
   "source": [
    "# Встроенная справочная система\n",
    "\n",
    "\n",
    "Sage обладает встроенной справочной системой. Введите название функции со\n",
    "знаком ? для доступа к документации по этой функции."
   ]
  },
  {
   "cell_type": "code",
   "execution_count": 15,
   "metadata": {},
   "outputs": [],
   "source": [
    "V = QQ^3\n",
    "V.coordinates?"
   ]
  },
  {
   "cell_type": "markdown",
   "metadata": {},
   "source": [
    "Как показано выше, вывод показывает тип объекта, файл, в котором он\n",
    "определен и полезное описание функции с примерами, которые можно вставить\n",
    "в вашу текущую сессию. Почти все примеры подвергаются регулярной\n",
    "автоматической проверке на предмет работоспособности и наличия требуемого\n",
    "поведения.\n",
    "\n",
    "Другая возможность хорошо отражает дух открытого программного обеспечения:\n",
    "если ``f`` это функция Python'а, то ``f??`` выведет исходный код, который\n",
    "определяет ``f``. Например,"
   ]
  },
  {
   "cell_type": "code",
   "execution_count": 16,
   "metadata": {},
   "outputs": [],
   "source": [
    "V = QQ^3\n",
    "V.coordinates??"
   ]
  },
  {
   "cell_type": "markdown",
   "metadata": {},
   "source": [
    "Отсюда мы знаем, что все, что делает функция ``coordinates``, это вызов функции\n",
    "``coordinate_vector`` и превращает результат в список. Вы также можете ввести ``help(имя_команды)`` или ``help(класс)`` для\n",
    "получения справки о классах или функциях в стиле man-страниц."
   ]
  },
  {
   "cell_type": "code",
   "execution_count": 17,
   "metadata": {},
   "outputs": [
    {
     "name": "stdout",
     "output_type": "stream",
     "text": [
      "Help on function VectorSpace in module sage.modules.free_module:\n",
      "\n",
      "VectorSpace(K, dimension_or_basis_keys=None, sparse=False, inner_product_matrix=None, *, with_basis='standard', dimension=None, basis_keys=None, **args)\n",
      "    EXAMPLES:\n",
      "    \n",
      "    The base can be complicated, as long as it is a field.\n",
      "    \n",
      "    ::\n",
      "    \n",
      "        sage: V = VectorSpace(FractionField(PolynomialRing(ZZ,'x')),3)\n",
      "        sage: V\n",
      "        Vector space of dimension 3 over Fraction Field of Univariate Polynomial Ring in x over Integer Ring\n",
      "        sage: V.basis()\n",
      "        [\n",
      "        (1, 0, 0),\n",
      "        (0, 1, 0),\n",
      "        (0, 0, 1)\n",
      "        ]\n",
      "    \n",
      "    The base must be a field or a ``TypeError`` is raised.\n",
      "    \n",
      "    ::\n",
      "    \n",
      "        sage: VectorSpace(ZZ,5)\n",
      "        Traceback (most recent call last):\n",
      "        ...\n",
      "        TypeError: Argument K (= Integer Ring) must be a field.\n",
      "\n"
     ]
    }
   ],
   "source": [
    "help(VectorSpace)"
   ]
  },
  {
   "cell_type": "markdown",
   "metadata": {},
   "source": [
    "Когда вы вводите ``q`` для выхода из справочной системы, ваша сессия\n",
    "находится в том же состоянии, что и до этого. Справка не захламляет ваш\n",
    "экран, в отличие от формы ``function_name?``, которая иногда может\n",
    "оставлять информацию в вашей сессии. Особенно полезно использовать\n",
    "``help(module_name)``. Например, векторные пространства описаны в\n",
    "``sage.modules.free_module``, поэтому введите ``help(sage.modules.free_module)``\n",
    "для документации обо всем модуле. Когда вы просматриваете документацию в\n",
    "справочной системе, вы можете осуществлять поиск с помощью ``/`` и в обратном\n",
    "порядке с помощью ``?``."
   ]
  }
 ],
 "metadata": {
  "kernelspec": {
   "display_name": "SageMath 9.5",
   "language": "sage",
   "name": "sagemath"
  },
  "language_info": {
   "codemirror_mode": {
    "name": "ipython",
    "version": 3
   },
   "file_extension": ".py",
   "mimetype": "text/x-python",
   "name": "python",
   "nbconvert_exporter": "python",
   "pygments_lexer": "ipython3",
   "version": "3.10.6"
  }
 },
 "nbformat": 4,
 "nbformat_minor": 4
}
