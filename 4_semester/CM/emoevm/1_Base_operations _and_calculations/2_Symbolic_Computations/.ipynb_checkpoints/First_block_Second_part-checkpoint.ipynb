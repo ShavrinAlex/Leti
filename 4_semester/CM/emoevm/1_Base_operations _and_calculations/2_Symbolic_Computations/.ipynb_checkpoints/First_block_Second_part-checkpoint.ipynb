{
 "cells": [
  {
   "cell_type": "markdown",
   "metadata": {},
   "source": [
    "# Блок 1 Глава 2"
   ]
  },
  {
   "cell_type": "markdown",
   "metadata": {},
   "source": [
    "### Задача №1\n",
    "Напишите функцию, которая определяет количество операций умножения, необходимых для вычисления символьного выражения, по его дереву.\n",
    "\n",
    "Примечание: рекомендуем добавить в начало вашей программы следующую строку: from sage.symbolic.operators import mul_vararg\n",
    "\n",
    "Особенность тестирующей системы:\n",
    "\n",
    "Код решения необходимо написать в теле функции solve(expr) и вернуть ответ на задачу в виде числа.\n",
    "\n",
    "#### Входные данные:\n",
    "\n",
    "Символьное выражение.\n",
    "\n",
    "#### Выходные данные:\n",
    "\n",
    "Количество операции умножения во входных данных."
   ]
  },
  {
   "cell_type": "code",
   "execution_count": 39,
   "metadata": {
    "scrolled": false
   },
   "outputs": [],
   "source": [
    "from sage.symbolic.operators import mul_vararg\n",
    "def solve(expr):\n",
    "    multiplication = (x * y).operator()\n",
    "    operands_list = [expr]\n",
    "    count = 0\n",
    "    while operands_list != []:\n",
    "        temp = []\n",
    "        for elem in operands_list:\n",
    "            if elem.operator() == multiplication:\n",
    "                count += len(elem.operands()) - 1\n",
    "            temp += elem.operands()\n",
    "        operands_list = []\n",
    "        for elem in temp:\n",
    "            if elem.operator():\n",
    "                operands_list.append(elem)\n",
    "    return count"
   ]
  },
  {
   "cell_type": "markdown",
   "metadata": {},
   "source": [
    "### Задача №2\n",
    "Напишите функцию, строящую по заданному выражению его обратную польскую запись. Особенность задания в том, что здесь нужно использовать методы operands и operator (также необходимо использовать поле arithmetic_operators класса sage.symbolic.operators для доступа к символьному представлению знаков операции, то есть в начале кода программы необходимо прописать строку from sage.symbolic.operators import arithmetic_operators). Также хотим обратить Ваше внимание на то, что решение с помощью стека, приведенное в статье по ссылке не пройдет тесты.\n",
    "\n",
    "Особенность реализации:\n",
    "\n",
    "Код решения должен находится в теле функции solve(expr), принимающей один параметр-выражение и возвращающей обратную польскую запись в виде строки.\n",
    "\n",
    "#### Входные данные:\n",
    "\n",
    "Символьное выражение.\n",
    "\n",
    "#### Выходные данные:\n",
    "\n",
    "Обратная польская запись входного выражения. Между операндами и операторами должен быть один пробел (см. пример)."
   ]
  },
  {
   "cell_type": "code",
   "execution_count": null,
   "metadata": {
    "scrolled": false
   },
   "outputs": [],
   "source": [
    "from sage.symbolic.operators import arithmetic_operators\n",
    "def solve(expr):\n",
    "    op = expr.operator()\n",
    "    if not op:\n",
    "        return str(expr)\n",
    "    temp = expr.operands()\n",
    "    answer = temp[:1]\n",
    "    for i in range(1, len(temp)):\n",
    "        answer.append(temp[i])\n",
    "        answer.append(arithmetic_operators[op])\n",
    "    for i in range(len(answer)):\n",
    "        if answer[i] not in arithmetic_operators.values():\n",
    "            answer[i] = solve(answer[i])\n",
    "    answer = ' '.join(map(str, answer))\n",
    "    return answer"
   ]
  },
  {
   "cell_type": "markdown",
   "metadata": {},
   "source": [
    "### Задача №3\n",
    "Илон наконец-то решил трудный интеграл, сделав при этом очень много замен. Можно было бы оставить все так, как есть, но вредный преподаватель хочет, чтобы в итоговом выражении не было никаких замен. Помогите Илону и напишите программу, которая выведет итоговое выражение, не содержащее замен.\n",
    "\n",
    "Особенность тестирующей системы:\n",
    "\n",
    "Код решения необходимо написать в теле функции solve(expr, subs_lst) и вернуть ответ на задачу в виде символьного выражения.\n",
    "\n",
    "#### Входные данные:\n",
    "\n",
    "Символьное выражение и список вида [t = f(u, z), u = g(x), z = h(x), ...]. Замены приведены в обратном хронологическом порядке, то есть первый элемент в списке - самая последняя замена.\n",
    "\n",
    "#### Выходные данные:\n",
    "\n",
    "Исходное выражение после подстановки."
   ]
  },
  {
   "cell_type": "code",
   "execution_count": 87,
   "metadata": {},
   "outputs": [],
   "source": [
    "from sage.calculus.calculus import at\n",
    "def solve(expr, subs_lst):\n",
    "    for i in range(len(subs_lst)):\n",
    "        expr = at(expr, subs_lst)\n",
    "    return expr"
   ]
  },
  {
   "cell_type": "markdown",
   "metadata": {},
   "source": [
    "### Задача №4\n",
    "Вам дано два полинома. Выполните следующее:\n",
    "\n",
    "Выведите коэффициенты (включая те, которые равны нулю) при каждой степени (от большей к меньшей) для обоих полиномов.\n",
    "Разделите один данный полином на другой и выведите его.\n",
    "Для x∈[−100,100] выведите те значения x, в которых значения остатка от деления полиномов, полученного в пункте 2 - полный квадрат или простое число.\n",
    "Найдите наибольший общий делитель исходных полиномов.\n",
    "Перемножьте исходные полиномы и выведите его (в виде символьного выражения)\n",
    "Особенность тестирующей системы:\n",
    "\n",
    "Код решения необходимо написать в теле функции solve(dividend, divisor) и вернуть ответ на задачу в виде списка.\n",
    "\n",
    "#### Входные данные:\n",
    "\n",
    "Предполагайте, что полиномы принадлежать кольцу полиномов с целочисленными коэффициентами (используется одна переменнаяx).\n",
    "\n",
    "#### Выходные данные:\n",
    "\n",
    "То, что указано в пунктах выше в виде списка."
   ]
  },
  {
   "cell_type": "code",
   "execution_count": 125,
   "metadata": {},
   "outputs": [],
   "source": [
    "def solve(dividend, divisor):\n",
    "    R = PolynomialRing(ZZ,'x')\n",
    "    dividend, divisor = R(dividend), R(divisor)\n",
    "    remainder = dividend.quo_rem(divisor)[1]\n",
    "    res = []\n",
    "    for i in range(-100, 100):\n",
    "        if Integer(remainder(i)).is_prime() or Integer(remainder(i)).is_square():\n",
    "            res.append(i)\n",
    "    return [\n",
    "        dividend.list()[::-1],\n",
    "        divisor.list()[::-1],\n",
    "        remainder,\n",
    "        res,\n",
    "        dividend.gcd(divisor),\n",
    "        expand(dividend * divisor)\n",
    "    ]"
   ]
  },
  {
   "cell_type": "markdown",
   "metadata": {},
   "source": [
    "### Задание №5\n",
    "Вам дано неравенство вида f(x)≥g(x). \n",
    "Необходимо выполнить следующее:\n",
    "\n",
    "    1. Возведите в квадрат обе части неравенства (не нужно заносить в список)\n",
    "    2. Выведите, в каких целочисленных точках x на отрезке [−10,10] выполняется полученное неравенство.\n",
    "    3. Выведите минимальное значение функции g(x) и точку x0, в которой оно достигается, на отрезке [−10,10].\n",
    "    4. Выведите максимальное значение функции а(x) и точку x0, в которой оно достигается, на отрезке [−10,10].\n",
    "Особенность тестирующей системы:\n",
    "\n",
    "Код решения необходимо написать в теле функции solve(f, g) и вернуть ответ на задачу в виде списка.\n",
    "\n",
    "#### Входные данные:\n",
    "\n",
    "Две функции от одной переменной x.\n",
    "\n",
    "#### Выходные данные:\n",
    "\n",
    "То, что указано в пунктах выше в виде списка (см. пример)."
   ]
  },
  {
   "cell_type": "code",
   "execution_count": 1,
   "metadata": {
    "scrolled": false
   },
   "outputs": [],
   "source": [
    "def solve(f, g):\n",
    "    f1 = f^2\n",
    "    g1 = g^2\n",
    "    res = []\n",
    "    for i in range(-10, 10):\n",
    "        if f1(x=i) >= g1(x=i):\n",
    "            res.append(i)\n",
    "    minimum = find_local_minimum(g1, -10, 10)\n",
    "    maximum = find_local_maximum(f1, -10, 10)\n",
    "    return [res, f'{minimum[0]:.18f}', f'{minimum[1]:.18f}', f'{maximum[0]:.18f}', f'{maximum[1]:.18f}']"
   ]
  },
  {
   "cell_type": "markdown",
   "metadata": {},
   "source": [
    "##### Альтернативное решение"
   ]
  },
  {
   "cell_type": "code",
   "execution_count": null,
   "metadata": {},
   "outputs": [],
   "source": [
    "def solve(f, g):\n",
    "    f1 = f^2\n",
    "    g1 = g^2\n",
    "    res = []\n",
    "    for i in range(-10, 10):\n",
    "        if f1(x=i) >= g1(x=i):\n",
    "            res.append(i)\n",
    "    minimum = find_local_minimum(g1, -10, 10)\n",
    "    maximum = find_local_maximum(f1, -10, 10)\n",
    "    answer = [res, '%.18f'%(minimum[0]), '%.18f'%(minimum[1]), '%.18f'%(maximum[0]), '%.18f'%(maximum[1])]\n",
    "    return answer"
   ]
  },
  {
   "cell_type": "markdown",
   "metadata": {},
   "source": [
    "### Задание №6\n",
    "\n",
    "Дана функция. Необходимо выполнить следующее:\n",
    "\n",
    "    1. Найти соответствующий функции степенной ряд до 10-ой степени.\n",
    "    2. Убрать остаточный член полученного ряда и найти коэффициент при старшей степени.\n",
    "    3. Найдите ряд Тейлора до 9-ой степени для данной функции в точке x=4.\n",
    "    4. Полностью упростите полученный ряд и найдите коэффициент при старшей степени.\n",
    "Особенность тестирующей системы:\n",
    "\n",
    "Код решения необходимо написать в теле функции solve(h) (h - функция в виде символьного выражения) и вернуть ответ на задачу в виде списка. Также полученные ряды необходимо конвертировать в строки (см. пример).\n",
    "\n",
    "#### Входные данные:\n",
    "\n",
    "Функция в виде символьного выражения\n",
    "\n",
    "#### Выходные данные:\n",
    "\n",
    "То, что указано в пунктах выше в виде списка."
   ]
  },
  {
   "cell_type": "code",
   "execution_count": 23,
   "metadata": {
    "scrolled": false
   },
   "outputs": [],
   "source": [
    "def solve(h):\n",
    "    return [\n",
    "        str(h.series(x, 10)),\n",
    "        str(h.series(x, 10).truncate().coefficients()[-1][0]),\n",
    "        str(h.taylor(x, 4, 9)),\n",
    "        str(h.taylor(x, 4, 9).full_simplify().coefficients()[-1][0])\n",
    "]"
   ]
  }
 ],
 "metadata": {
  "kernelspec": {
   "display_name": "SageMath 9.5",
   "language": "sage",
   "name": "sagemath"
  },
  "language_info": {
   "codemirror_mode": {
    "name": "ipython",
    "version": 3
   },
   "file_extension": ".py",
   "mimetype": "text/x-python",
   "name": "python",
   "nbconvert_exporter": "python",
   "pygments_lexer": "ipython3",
   "version": "3.10.6"
  },
  "vscode": {
   "interpreter": {
    "hash": "8332965c9ba66848c65d5e1a9dffab1800c57ccd2ef94541d928e8b11aabab9e"
   }
  }
 },
 "nbformat": 4,
 "nbformat_minor": 4
}
