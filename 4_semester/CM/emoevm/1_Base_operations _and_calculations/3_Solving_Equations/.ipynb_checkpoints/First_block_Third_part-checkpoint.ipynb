{
 "cells": [
  {
   "cell_type": "markdown",
   "metadata": {},
   "source": [
    "# Блок 1 Глава 3"
   ]
  },
  {
   "cell_type": "markdown",
   "metadata": {},
   "source": [
    "### Задача №1\n",
    "\n",
    "В данной задаче Вам нужно для заданных функции найти не только явную и неявную производные, но и определенные и неопределенные интегралы. Дерзайте!\n",
    "\n",
    "Особенность тестирующей системы:\n",
    "\n",
    "Код решения необходимо написать в теле функции solve(df, idf, iif, dif, a, b) (где df - функция, для которой нужно найти явную производную; idf - неявную производную; iif - неопределенный интеграл; dif - определенный интеграл; a и b - пределы интегрирования) и вернуть ответ на задачу в виде списка. Все функции зависят от одной переменной x, кроме функции idf: она зависит от x и y.\n",
    "\n",
    "#### Входные данные:\n",
    "\n",
    "Указано в условии задачи.\n",
    "\n",
    "#### Выходные данные:\n",
    "\n",
    "Производная, неявная производная, неопределенный интеграл, определенный интеграл."
   ]
  },
  {
   "cell_type": "code",
   "execution_count": 4,
   "metadata": {},
   "outputs": [],
   "source": [
    "def solve(df, idf, iif, dif, a, b):\n",
    "    answer = [\n",
    "        diff(df, x, 1),\n",
    "        -diff(idf, x)/diff(idf, y),\n",
    "        integral(iif, x),\n",
    "        integral(dif, x, a, b)\n",
    "    ]\n",
    "    return answer"
   ]
  },
  {
   "cell_type": "markdown",
   "metadata": {},
   "source": [
    "### Задача №2\n",
    "\n",
    "Не используя функций gcd и xgcd, напишите свою версию расширенного алгоритма Евклида.\n",
    "\n",
    "Особенность тестирующей системы:\n",
    "\n",
    "Код решения необходимо написать в теле функции gcdex(a, b) и возвращает список из трех чисел d, x, y, где d - наибольший общий делитель a и b , а x и y - такие целые числа, что ax + by = d."
   ]
  },
  {
   "cell_type": "code",
   "execution_count": 16,
   "metadata": {
    "scrolled": true
   },
   "outputs": [],
   "source": [
    "def gcdex(a, b):\n",
    "    if a == 0:\n",
    "        return (b, 0, 1)\n",
    "    else:\n",
    "        div, x, y = gcdex(b % a, a)\n",
    "    return [div, y - (b // a) * x, x]"
   ]
  },
  {
   "cell_type": "markdown",
   "metadata": {},
   "source": [
    "### Задача №3\n",
    "\n",
    "Напишите функции, получающие на вход многочлен от нескольких переменных и вычисляющие его формальную производную и неопределенный интеграл по заданной переменной x. Встроенные функции diff и integrate использовать при этом запрещается.\n",
    "\n",
    "Особенность тестирующей системы:\n",
    "\n",
    "Код решения необходимо написать в теле функции solve(f) (где f - функция, для которой нужно найти формальную производную и неопределенный интеграл) и вернуть ответ на задачу в виде списка: сначала производную, потом интеграл."
   ]
  },
  {
   "cell_type": "code",
   "execution_count": 7,
   "metadata": {},
   "outputs": [],
   "source": [
    "def solve(f):\n",
    "    lst = f.coefficients(x)\n",
    "    diff_list = []\n",
    "    integral_list = []\n",
    "    for i in range(len(lst)):\n",
    "        diff_list.append([x^lst[i][1], lst[i][1] * x^(lst[i][1]-1)])\n",
    "        integral_list.append([x^lst[i][1], x^(lst[i][1]+1) / (lst[i][1]+1)])\n",
    "    res = [0, 0]\n",
    "    for i in range(len(lst)):\n",
    "        res[0] += lst[i][0] * diff_list[i][1]\n",
    "        res[1] += lst[i][0] * integral_list[i][1]\n",
    "    return res"
   ]
  },
  {
   "cell_type": "markdown",
   "metadata": {},
   "source": [
    "### Задача №4\n",
    "\n",
    "Найти и вывести все асимптоты для заданной функции. Сначала вывести вертикальные, потом горизонтальные и наклонные\n",
    "\n",
    "Особенность тестирующей системы:\n",
    "\n",
    "Код решения необходимо написать в теле функции asymptotes(f) (где f - функция) и вернуть ответ на задачу в виде списка строк."
   ]
  },
  {
   "cell_type": "code",
   "execution_count": null,
   "metadata": {},
   "outputs": [],
   "source": [
    "def asymptotes(f):\n",
    "    inner_operand = f.operands()[0].operands()[0]\n",
    "    res = []\n",
    "    for elem in solve(inner_operand, x):\n",
    "            res.append(str(elem).replace('==', '=', 1))\n",
    "    expr = 0\n",
    "    k = limit(f/x, x = oo)\n",
    "    if k == 0:\n",
    "        res.append('y = {}'.format(limit(f, x = oo)))\n",
    "    else:\n",
    "        answer = str((k * x + limit(f - k * x, x = oo)).full_simplify())\n",
    "        k = limit(f/x, x = -oo)\n",
    "        res.append('y = ' + answer)\n",
    "        answer = str((k * x + limit(f - k * x, x = -oo)).full_simplify())\n",
    "        if 'y = ' + answer not in res:\n",
    "            res.append('y = ' + answer)\n",
    "    return res"
   ]
  },
  {
   "cell_type": "markdown",
   "metadata": {},
   "source": [
    "### Задача №5\n",
    "\n",
    "Вычислить\n",
    "∬Ωxy2dxdy,\n",
    "\n",
    "если область Ω ограничена параболой y2=2px и прямой x=p/2 (p>0) (не забудьте про simplify)\n",
    "Особенность тестирующей системы: Код решения необходимо написать в теле функции solve() и возвращает ответ после применения к нему simplify."
   ]
  },
  {
   "cell_type": "code",
   "execution_count": 11,
   "metadata": {},
   "outputs": [],
   "source": [
    "def solve():\n",
    "    f = x*y^2\n",
    "    operands = f.operands()\n",
    "    expr = simplify(integral(operands[1], y, -sqrt(2*p*x), sqrt(2*p*x)))\n",
    "    expr = operands[0] * expr\n",
    "    assume(p>0)\n",
    "    expr = simplify(integral(expr, x, 0, p/2))\n",
    "    return expr"
   ]
  }
 ],
 "metadata": {
  "kernelspec": {
   "display_name": "Python 3 (ipykernel)",
   "language": "python",
   "name": "python3"
  },
  "language_info": {
   "codemirror_mode": {
    "name": "ipython",
    "version": 3
   },
   "file_extension": ".py",
   "mimetype": "text/x-python",
   "name": "python",
   "nbconvert_exporter": "python",
   "pygments_lexer": "ipython3",
   "version": "3.10.6"
  },
  "vscode": {
   "interpreter": {
    "hash": "810ed002cb7d00c7bb1a13d163ee935f9a7efa5ab9ebe907059834258fe750b3"
   }
  }
 },
 "nbformat": 4,
 "nbformat_minor": 4
}
