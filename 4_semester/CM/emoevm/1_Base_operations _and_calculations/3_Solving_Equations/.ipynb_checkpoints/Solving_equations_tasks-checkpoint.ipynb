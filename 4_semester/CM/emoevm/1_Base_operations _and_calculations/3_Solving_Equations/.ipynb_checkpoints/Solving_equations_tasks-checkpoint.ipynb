{
 "cells": [
  {
   "cell_type": "markdown",
   "id": "f5ebfd1c",
   "metadata": {},
   "source": [
    "#1 В данной задаче Вам нужно для заданных функции найти не только явную и неявную производные, но и определенные и неопределенные интегралы. Дерзайте!\n",
    "\n",
    "**Особенность тестирующей системы:**\n",
    "\n",
    "Код решения необходимо написать в теле функции solve(df, idf, iif, dif, a, b) (где df - функция, для которой нужно найти явную производную; idf - неявную производную; iif - неопределенный интеграл; dif - определенный интеграл; a и b - пределы интегрирования) и вернуть ответ на задачу в виде списка. Все функции зависят от одной переменной x, кроме функции idf: она зависит от x и y.\n",
    "\n",
    "**Входные данные:**\n",
    "\n",
    "Указано в условии задачи.\n",
    "\n",
    "**Выходные данные**\n",
    "\n",
    "Производная, неявная производная, неопределенный интеграл, определенный интеграл.\n",
    "\n",
    "**Пример:**\n",
    "\n",
    "**Вход:**\n",
    "\n",
    "x / sqrt(a^2 - x^2)\n",
    "\n",
    "3*x^2*y^2 - 5*x + sin(y) - 3*y + 1\n",
    "\n",
    "e^(1/x) / x^2\n",
    "\n",
    "(2^(x+1) - 5^(x-1)) / 10^x\n",
    "\n",
    "**Выход:**\n",
    "\n",
    "[x^2/(a^2 - x^2)^(3/2) + 1/sqrt(a^2 - x^2), -(6*x*y^2 - 5)/(6*x^2*y + cos(y) - 3), -e^(1/x), 5*(16*log(10) - 17*log(5))/(5^(log(10)/log(5) + 1)*log(10)*log(5) - 5^(log(10)/log(5) + 1)*log(5)^2)]"
   ]
  },
  {
   "cell_type": "code",
   "execution_count": 2,
   "id": "ff4556b3",
   "metadata": {},
   "outputs": [
    {
     "name": "stdout",
     "output_type": "stream",
     "text": [
      "[x^2/(a^2 - x^2)^(3/2) + 1/sqrt(a^2 - x^2), -(6*x*y^2 - 5)/(6*x^2*y + cos(y) - 3), -e^(1/x), 1/5*(5^(b + a*log(10)/log(5))*e^(a*log(5) + b*log(5))*log(5) - (10*10^a*5^a*(log(10) - log(5)) - (10*10^a*(log(10) - log(5)) - 5^(2*a)*log(5))*5^b)*10^b)*5^(-a*log(10)/log(5) - b*log(10)/log(5))*e^(-a*log(5) - b*log(5))/(log(10)*log(5) - log(5)^2)]\n"
     ]
    }
   ],
   "source": [
    "def solve(df, idf, iif, dif, a, b):\n",
    "    return [\n",
    "        diff(df, x, 1),\n",
    "        -diff(idf, x)/diff(idf, y),\n",
    "        integral(iif, x),\n",
    "        integral(dif, x, a, b)\n",
    "    ]\n",
    "\n",
    "var('x y a b')\n",
    "df = x / sqrt(a^2 - x^2)\n",
    "idf = 3*x^2*y^2 - 5*x + sin(y) - 3*y + 1\n",
    "iif = e^(1/x) / x^2\n",
    "dif = (2^(x+1) - 5^(x-1)) / 10^x\n",
    "\n",
    "print(solve(df, idf, iif, dif, a, b))"
   ]
  },
  {
   "cell_type": "markdown",
   "id": "b86824f6",
   "metadata": {},
   "source": [
    "#2 Не используя функций gcd и xgcd, напишите свою версию расширенного алгоритма Евклида.\n",
    "\n",
    "**Особенность тестирующей системы:**\n",
    "\n",
    "Код решения необходимо написать в теле функции gcdex(a, b) и возвращает список из трех чисел d, x, y, где d - наибольший общий делитель a и b , а x и y - такие целые числа, что ax + by = d.\n",
    "\n",
    "**Пример:**\n",
    "\n",
    "**Вход:**\n",
    "\n",
    "gcdex(4, 15)\n",
    "\n",
    "**Выход:**\n",
    "\n",
    "[1, 4, -1]"
   ]
  },
  {
   "cell_type": "code",
   "execution_count": 3,
   "id": "30fb9e65",
   "metadata": {},
   "outputs": [
    {
     "name": "stdout",
     "output_type": "stream",
     "text": [
      "[1, 4, -1]\n"
     ]
    }
   ],
   "source": [
    "def gcdex(a, b):\n",
    "    if a == 0:\n",
    "        return (b, 0, 1)\n",
    "    else:\n",
    "        div, x, y = gcdex(b % a, a)\n",
    "        \n",
    "    return [div, y - (b // a) * x, x]\n",
    "\n",
    "print(gcdex(4, 15))"
   ]
  },
  {
   "cell_type": "markdown",
   "id": "e7373e18",
   "metadata": {},
   "source": [
    "#3 Напишите функции, получающие на вход многочлен от нескольких переменных и вычисляющие его формальную производную и неопределенный интеграл по заданной переменной x. Встроенные функции diff и integrate использовать при этом запрещается.\n",
    "\n",
    "**Особенность тестирующей системы:**\n",
    "\n",
    "Код решения необходимо написать в теле функции solve(f) (где f - функция, для которой нужно найти формальную производную и неопределенный интеграл) и вернуть ответ на задачу в виде списка: сначала производную, потом интеграл.\n",
    "\n",
    "**Пример:**\n",
    "\n",
    "**Вход:**\n",
    "\n",
    "z\n",
    "\n",
    "**Выход:**\n",
    "\n",
    "[1, 1/2*x^2]"
   ]
  },
  {
   "cell_type": "code",
   "execution_count": 17,
   "id": "0125e63c",
   "metadata": {},
   "outputs": [
    {
     "name": "stdout",
     "output_type": "stream",
     "text": [
      "[1, 1/2*x^2]\n"
     ]
    }
   ],
   "source": [
    "def solve(f):\n",
    "    lst = f.coefficients()\n",
    "    diff_list = []\n",
    "    integral_list = []\n",
    "    \n",
    "    for i in range(len(lst)):\n",
    "        diff_list.append([x^lst[i][1], lst[i][1] * x^(lst[i][1]-1)])\n",
    "        integral_list.append([x^lst[i][1], x^(lst[i][1]+1) / (lst[i][1]+1)])\n",
    "        \n",
    "    res = [0, 0]\n",
    "    \n",
    "    for i in range(len(lst)):\n",
    "        res[0] += lst[i][0] * diff_list[i][1]\n",
    "        res[1] += lst[i][0] * integral_list[i][1]\n",
    "        \n",
    "    return res\n",
    "\n",
    "z = var('z')\n",
    "print(solve(z))"
   ]
  },
  {
   "cell_type": "markdown",
   "id": "0d0b936f",
   "metadata": {},
   "source": [
    "#4 Найти и вывести все асимптоты для заданной функции. Сначала вывести вертикальные, потом горизонтальные и наклонные\n",
    "\n",
    "**Особенность тестирующей системы:**\n",
    "\n",
    "Код решения необходимо написать в теле функции asymptotes(f) (где f - функция) и вернуть ответ на задачу в виде списка строк.\n",
    "\n",
    "**Пример:**\n",
    "\n",
    "**Вход:**\n",
    "\n",
    "x/(x + 3)\n",
    "\n",
    "**Выход:**\n",
    "\n",
    "['x = -3', 'y = 1']"
   ]
  },
  {
   "cell_type": "code",
   "execution_count": 19,
   "id": "ef545bdd",
   "metadata": {},
   "outputs": [
    {
     "ename": "TypeError",
     "evalue": "solve() takes 1 positional argument but 2 were given",
     "output_type": "error",
     "traceback": [
      "\u001b[0;31m---------------------------------------------------------------------------\u001b[0m",
      "\u001b[0;31mTypeError\u001b[0m                                 Traceback (most recent call last)",
      "\u001b[0;32m/tmp/ipykernel_29166/1937243433.py\u001b[0m in \u001b[0;36m<module>\u001b[0;34m\u001b[0m\n\u001b[1;32m     18\u001b[0m \u001b[0;34m\u001b[0m\u001b[0m\n\u001b[1;32m     19\u001b[0m \u001b[0mf\u001b[0m \u001b[0;34m=\u001b[0m \u001b[0mx\u001b[0m\u001b[0;34m/\u001b[0m\u001b[0;34m(\u001b[0m\u001b[0mx\u001b[0m \u001b[0;34m+\u001b[0m \u001b[0mInteger\u001b[0m\u001b[0;34m(\u001b[0m\u001b[0;36m3\u001b[0m\u001b[0;34m)\u001b[0m\u001b[0;34m)\u001b[0m\u001b[0;34m\u001b[0m\u001b[0;34m\u001b[0m\u001b[0m\n\u001b[0;32m---> 20\u001b[0;31m \u001b[0mprint\u001b[0m\u001b[0;34m(\u001b[0m\u001b[0masymptotes\u001b[0m\u001b[0;34m(\u001b[0m\u001b[0mf\u001b[0m\u001b[0;34m)\u001b[0m\u001b[0;34m)\u001b[0m\u001b[0;34m\u001b[0m\u001b[0;34m\u001b[0m\u001b[0m\n\u001b[0m",
      "\u001b[0;32m/tmp/ipykernel_29166/1937243433.py\u001b[0m in \u001b[0;36masymptotes\u001b[0;34m(f)\u001b[0m\n\u001b[1;32m      2\u001b[0m     \u001b[0minner_operand\u001b[0m \u001b[0;34m=\u001b[0m \u001b[0mf\u001b[0m\u001b[0;34m.\u001b[0m\u001b[0moperands\u001b[0m\u001b[0;34m(\u001b[0m\u001b[0;34m)\u001b[0m\u001b[0;34m[\u001b[0m\u001b[0mInteger\u001b[0m\u001b[0;34m(\u001b[0m\u001b[0;36m0\u001b[0m\u001b[0;34m)\u001b[0m\u001b[0;34m]\u001b[0m\u001b[0;34m.\u001b[0m\u001b[0moperands\u001b[0m\u001b[0;34m(\u001b[0m\u001b[0;34m)\u001b[0m\u001b[0;34m[\u001b[0m\u001b[0mInteger\u001b[0m\u001b[0;34m(\u001b[0m\u001b[0;36m0\u001b[0m\u001b[0;34m)\u001b[0m\u001b[0;34m]\u001b[0m\u001b[0;34m\u001b[0m\u001b[0;34m\u001b[0m\u001b[0m\n\u001b[1;32m      3\u001b[0m     \u001b[0mres\u001b[0m \u001b[0;34m=\u001b[0m \u001b[0;34m[\u001b[0m\u001b[0;34m]\u001b[0m\u001b[0;34m\u001b[0m\u001b[0;34m\u001b[0m\u001b[0m\n\u001b[0;32m----> 4\u001b[0;31m     \u001b[0;32mfor\u001b[0m \u001b[0melem\u001b[0m \u001b[0;32min\u001b[0m \u001b[0msolve\u001b[0m\u001b[0;34m(\u001b[0m\u001b[0minner_operand\u001b[0m\u001b[0;34m,\u001b[0m \u001b[0mx\u001b[0m\u001b[0;34m)\u001b[0m\u001b[0;34m:\u001b[0m\u001b[0;34m\u001b[0m\u001b[0;34m\u001b[0m\u001b[0m\n\u001b[0m\u001b[1;32m      5\u001b[0m             \u001b[0mres\u001b[0m\u001b[0;34m.\u001b[0m\u001b[0mappend\u001b[0m\u001b[0;34m(\u001b[0m\u001b[0mstr\u001b[0m\u001b[0;34m(\u001b[0m\u001b[0melem\u001b[0m\u001b[0;34m)\u001b[0m\u001b[0;34m.\u001b[0m\u001b[0mreplace\u001b[0m\u001b[0;34m(\u001b[0m\u001b[0;34m'=='\u001b[0m\u001b[0;34m,\u001b[0m \u001b[0;34m'='\u001b[0m\u001b[0;34m,\u001b[0m \u001b[0mInteger\u001b[0m\u001b[0;34m(\u001b[0m\u001b[0;36m1\u001b[0m\u001b[0;34m)\u001b[0m\u001b[0;34m)\u001b[0m\u001b[0;34m)\u001b[0m\u001b[0;34m\u001b[0m\u001b[0;34m\u001b[0m\u001b[0m\n\u001b[1;32m      6\u001b[0m     \u001b[0mexpr\u001b[0m \u001b[0;34m=\u001b[0m \u001b[0mInteger\u001b[0m\u001b[0;34m(\u001b[0m\u001b[0;36m0\u001b[0m\u001b[0;34m)\u001b[0m\u001b[0;34m\u001b[0m\u001b[0;34m\u001b[0m\u001b[0m\n",
      "\u001b[0;31mTypeError\u001b[0m: solve() takes 1 positional argument but 2 were given"
     ]
    }
   ],
   "source": [
    "def asymptotes(f):\n",
    "    inner_operand = f.operands()[0].operands()[0]\n",
    "    res = []\n",
    "    for elem in solve(inner_operand, x):\n",
    "            res.append(str(elem).replace('==', '=', 1))\n",
    "    expr = 0\n",
    "    k = limit(f/x, x = oo)\n",
    "    if k == 0:\n",
    "        res.append('y = {}'.format(limit(f, x = oo)))\n",
    "    else:\n",
    "        answer = str((k * x + limit(f - k * x, x = oo)).full_simplify())\n",
    "        k = limit(f/x, x = -oo)\n",
    "        res.append('y = ' + answer)\n",
    "        answer = str((k * x + limit(f - k * x, x = -oo)).full_simplify())\n",
    "        if 'y = ' + answer not in res:\n",
    "            res.append('y = ' + answer)\n",
    "    return res\n",
    "\n",
    "f = x/(x + 3)\n",
    "print(asymptotes(f))"
   ]
  },
  {
   "cell_type": "markdown",
   "id": "53fc8c16",
   "metadata": {},
   "source": [
    "#5 Вычислить ∬Ωxy2dxdy, если область Ω ограничена параболой y2=2px и прямой x=p/2 (p>0) (не забудьте про simplify)\n",
    "\n",
    "**Особенность тестирующей системы:** \n",
    "Код решения необходимо написать в теле функции solve() и возвращает ответ после применения к нему simplify."
   ]
  },
  {
   "cell_type": "code",
   "execution_count": 20,
   "id": "ef3e243e",
   "metadata": {},
   "outputs": [
    {
     "name": "stdout",
     "output_type": "stream",
     "text": [
      "1/21*p^5\n"
     ]
    }
   ],
   "source": [
    "def solve():\n",
    "    var('x y p')\n",
    "    f = x*y^2\n",
    "    operands = f.operands()\n",
    "    expr = simplify(integral(operands[1], y, -sqrt(2*p*x), sqrt(2*p*x)))\n",
    "    expr = operands[0] * expr\n",
    "    assume(p>0)\n",
    "    expr = simplify(integral(expr, x, 0, p/2))\n",
    "    \n",
    "    return expr\n",
    "\n",
    "print(solve())"
   ]
  }
 ],
 "metadata": {
  "kernelspec": {
   "display_name": "SageMath 9.5",
   "language": "sage",
   "name": "sagemath"
  },
  "language_info": {
   "codemirror_mode": {
    "name": "ipython",
    "version": 3
   },
   "file_extension": ".py",
   "mimetype": "text/x-python",
   "name": "python",
   "nbconvert_exporter": "python",
   "pygments_lexer": "ipython3",
   "version": "3.10.6"
  }
 },
 "nbformat": 4,
 "nbformat_minor": 5
}
