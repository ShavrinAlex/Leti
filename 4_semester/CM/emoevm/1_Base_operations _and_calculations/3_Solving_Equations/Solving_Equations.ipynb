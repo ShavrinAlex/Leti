{
 "cells": [
  {
   "cell_type": "markdown",
   "metadata": {},
   "source": [
    "# Решение уравнений\n",
    "\n",
    "\n",
    "## Точное решение уравнений\n",
    "\n",
    "\n",
    "Функция ``solve`` решает уравнения. Для ее использования сначала нужно\n",
    "определить некоторые переменные; аргументами для ``solve`` будут уравнение\n",
    "(или система уравнений) и переменные, для которых нужно найти решение:"
   ]
  },
  {
   "cell_type": "code",
   "execution_count": 1,
   "metadata": {},
   "outputs": [
    {
     "data": {
      "text/plain": [
       "[x == -2, x == -1]"
      ]
     },
     "execution_count": 1,
     "metadata": {},
     "output_type": "execute_result"
    }
   ],
   "source": [
    "x = var('x')\n",
    "solve(x^2 + 3*x + 2, x)"
   ]
  },
  {
   "cell_type": "markdown",
   "metadata": {},
   "source": [
    "Можно решать уравнения для одной переменной через другие:"
   ]
  },
  {
   "cell_type": "code",
   "execution_count": 2,
   "metadata": {},
   "outputs": [
    {
     "data": {
      "text/plain": [
       "[x == -1/2*b - 1/2*sqrt(b^2 - 4*c), x == -1/2*b + 1/2*sqrt(b^2 - 4*c)]"
      ]
     },
     "execution_count": 2,
     "metadata": {},
     "output_type": "execute_result"
    }
   ],
   "source": [
    "x, b, c = var('x b c')\n",
    "solve([x^2 + b*x + c == 0],x)"
   ]
  },
  {
   "cell_type": "markdown",
   "metadata": {},
   "source": [
    "Также можно решать уравнения с несколькими переменными:"
   ]
  },
  {
   "cell_type": "code",
   "execution_count": 3,
   "metadata": {},
   "outputs": [
    {
     "data": {
      "text/plain": [
       "[[x == 5, y == 1]]"
      ]
     },
     "execution_count": 3,
     "metadata": {},
     "output_type": "execute_result"
    }
   ],
   "source": [
    "x, y = var('x, y')\n",
    "solve([x+y==6, x-y==4], x, y)"
   ]
  },
  {
   "cell_type": "markdown",
   "metadata": {},
   "source": [
    "Следующий пример показывает, как Sage решает систему нелинейных уравнений.\n",
    "Для начала система решается символьно:"
   ]
  },
  {
   "cell_type": "code",
   "execution_count": 4,
   "metadata": {},
   "outputs": [
    {
     "data": {
      "text/plain": [
       "[[p == 1, q == 8, x == -4/3*sqrt(10) - 2/3, y == 1/6*sqrt(10) - 2/3], [p == 1, q == 8, x == 4/3*sqrt(10) - 2/3, y == -1/6*sqrt(10) - 2/3]]"
      ]
     },
     "execution_count": 4,
     "metadata": {},
     "output_type": "execute_result"
    }
   ],
   "source": [
    "var('x y p q')\n",
    "eq1 = p+q==9\n",
    "eq2 = q*y+p*x==-6\n",
    "eq3 = q*y^2+p*x^2==24\n",
    "solve([eq1,eq2,eq3,p==1],p,q,x,y)"
   ]
  },
  {
   "cell_type": "markdown",
   "metadata": {},
   "source": [
    "Для приближенных значений решения можно использовать:"
   ]
  },
  {
   "cell_type": "code",
   "execution_count": 7,
   "metadata": {},
   "outputs": [
    {
     "data": {
      "text/plain": [
       "[[1.0000000, 8.0000000, -4.8830369, -0.13962039],\n",
       " [1.0000000, 8.0000000, 3.5497035, -1.1937129]]"
      ]
     },
     "execution_count": 7,
     "metadata": {},
     "output_type": "execute_result"
    }
   ],
   "source": [
    "solns = solve([eq1,eq2,eq3,p==1],p,q,x,y, solution_dict=True)\n",
    "[[s[p].n(30), s[q].n(30), s[x].n(30), s[y].n(30)] for s in solns]"
   ]
  },
  {
   "cell_type": "markdown",
   "metadata": {},
   "source": [
    "(Функция ``n`` выведет приближенное значение. Аргументом для данной функции\n",
    "является количество битов точности)\n"
   ]
  },
  {
   "cell_type": "markdown",
   "metadata": {},
   "source": [
    "## Численное решение уравнений\n",
    "\n",
    "\n",
    "Во многих случаях функция ``solve`` не способна найти точное решение уравнения.\n",
    "Вместо нее можно использовать функцию ``find_root`` для нахождения численного\n",
    "решения. Например, ``solve`` не возвращает ничего существенного для следующего\n",
    "уравнения:"
   ]
  },
  {
   "cell_type": "code",
   "execution_count": 8,
   "metadata": {},
   "outputs": [
    {
     "data": {
      "text/plain": [
       "[sin(theta) == cos(theta)]"
      ]
     },
     "execution_count": 8,
     "metadata": {},
     "output_type": "execute_result"
    }
   ],
   "source": [
    "theta = var('theta')\n",
    "solve(cos(theta)==sin(theta), theta)"
   ]
  },
  {
   "cell_type": "markdown",
   "metadata": {},
   "source": [
    "С другой стороны функция ``find_root`` может использоваться для решения\n",
    "вышеуказанного примера в интервале $0 < \\phi < \\pi/2$:"
   ]
  },
  {
   "cell_type": "code",
   "execution_count": 9,
   "metadata": {},
   "outputs": [
    {
     "data": {
      "text/plain": [
       "0.7853981633974484"
      ]
     },
     "execution_count": 9,
     "metadata": {},
     "output_type": "execute_result"
    }
   ],
   "source": [
    "phi = var('phi')\n",
    "find_root(cos(phi)==sin(phi),0,pi/2)"
   ]
  },
  {
   "cell_type": "markdown",
   "metadata": {},
   "source": [
    "# Дифференцирование, интегрирование и т.д.\n",
    "\n",
    "\n",
    "Sage умеет дифференцировать и интегрировать многие функции. Например,\n",
    "для того, чтобы продифференцировать $\\sin(u)$ по переменной $u$,\n",
    "требуется:"
   ]
  },
  {
   "cell_type": "code",
   "execution_count": 10,
   "metadata": {},
   "outputs": [
    {
     "data": {
      "text/plain": [
       "cos(u)"
      ]
     },
     "execution_count": 10,
     "metadata": {},
     "output_type": "execute_result"
    }
   ],
   "source": [
    "u = var('u')\n",
    "diff(sin(u), u)"
   ]
  },
  {
   "cell_type": "markdown",
   "metadata": {},
   "source": [
    "Для подсчета четвертой производной функции $\\sin(x^2)$ надо:\n"
   ]
  },
  {
   "cell_type": "code",
   "execution_count": 11,
   "metadata": {},
   "outputs": [
    {
     "data": {
      "text/plain": [
       "16*x^4*sin(x^2) - 48*x^2*cos(x^2) - 12*sin(x^2)"
      ]
     },
     "execution_count": 11,
     "metadata": {},
     "output_type": "execute_result"
    }
   ],
   "source": [
    "diff(sin(x^2), x, 4)"
   ]
  },
  {
   "cell_type": "markdown",
   "metadata": {},
   "source": [
    "Для нахождения частных производных, как, например, для функции $x^2+17y^2$\n",
    "по $x$ и $y$ соответственно:"
   ]
  },
  {
   "cell_type": "code",
   "execution_count": 14,
   "metadata": {},
   "outputs": [
    {
     "name": "stdout",
     "output_type": "stream",
     "text": [
      "2*x\n",
      "34*y\n"
     ]
    }
   ],
   "source": [
    "x, y = var('x,y')\n",
    "f = x^2 + 17*y^2\n",
    "print(f.diff(x))\n",
    "print(f.diff(y))"
   ]
  },
  {
   "cell_type": "markdown",
   "metadata": {},
   "source": [
    "Теперь найдём интегралы: и определенные, и неопределенные. Например,\n",
    "$\\int x\\sin(x^2)\\, dx$ и\n",
    "$\\int_0^1 \\frac{x}{x^2+1}\\, dx$"
   ]
  },
  {
   "cell_type": "code",
   "execution_count": 16,
   "metadata": {},
   "outputs": [
    {
     "name": "stdout",
     "output_type": "stream",
     "text": [
      "-1/2*cos(x^2)\n",
      "1/2*log(2)\n"
     ]
    }
   ],
   "source": [
    "print(integral(x*sin(x^2), x))\n",
    "print(integral(x/(x^2+1), x, 0, 1))"
   ]
  },
  {
   "cell_type": "markdown",
   "metadata": {},
   "source": [
    "Для нахождения разложения на простые дроби для $\\frac{1}{x^2-1}$\n",
    "нужно сделать следующее:"
   ]
  },
  {
   "cell_type": "code",
   "execution_count": 17,
   "metadata": {},
   "outputs": [
    {
     "data": {
      "text/plain": [
       "-1/2/(x + 1) + 1/2/(x - 1)"
      ]
     },
     "execution_count": 17,
     "metadata": {},
     "output_type": "execute_result"
    }
   ],
   "source": [
    "f = 1/((1+x)*(x-1))\n",
    "f.partial_fraction(x)"
   ]
  },
  {
   "cell_type": "markdown",
   "metadata": {},
   "source": [
    "# Решение дифференциальных уравнений\n",
    "\n",
    "\n",
    "Sage может использоваться для решения дифференциальных уравнений. Для\n",
    "решения уравнения $x'+x-1=0$ сделаем следующее:"
   ]
  },
  {
   "cell_type": "code",
   "execution_count": 18,
   "metadata": {},
   "outputs": [
    {
     "data": {
      "text/plain": [
       "(_C + e^t)*e^(-t)"
      ]
     },
     "execution_count": 18,
     "metadata": {},
     "output_type": "execute_result"
    }
   ],
   "source": [
    "t = var('t')    # определение переменной t для символьных вычислений\n",
    "x = function('x')(t)   # определение функции x зависящей от t\n",
    "DE = diff(x, t) + x - 1\n",
    "desolve(DE, [x,t])"
   ]
  },
  {
   "cell_type": "markdown",
   "metadata": {},
   "source": [
    "Для этого используется интерфейс Maxima [[Max]](https://maxima.sourceforge.io/), поэтому результат может быть выведен в виде, отличном от обычного вывода Sage. В данном случае общее решение для данного дифференциального уравнения - $x(t) = e^{-t}(e^{t}+C)$.\n",
    "\n",
    "Преобразования Лапласа также могут быть вычислены. Преобразование Лапласа для\n",
    "$t^2e^t -\\sin(t)$ вычисляется следующим образом:"
   ]
  },
  {
   "cell_type": "code",
   "execution_count": 19,
   "metadata": {},
   "outputs": [
    {
     "data": {
      "text/plain": [
       "-1/(s^2 + 1) + 2/(s - 1)^3"
      ]
     },
     "execution_count": 19,
     "metadata": {},
     "output_type": "execute_result"
    }
   ],
   "source": [
    "s = var(\"s\")\n",
    "t = var(\"t\")\n",
    "f = t^2*exp(t) - sin(t)\n",
    "f.laplace(t,s)"
   ]
  },
  {
   "cell_type": "markdown",
   "metadata": {},
   "source": [
    "Приведем более сложный пример. Отклонение от положения равновесия для пары\n",
    "пружин, прикрепленных к стене слева,\n",
    "\n",
    "\n",
    "    |------\\/\\/\\/\\/\\---|масса1|----\\/\\/\\/\\/\\/----|масса2|\n",
    "            пружина1                пружина2\n",
    "\n",
    "может быть представлено в виде дифференциальных уравнений второго порядка\n",
    "\n",
    "<center>$m_1 x_1'' + (k_1+k_2) x_1 - k_2 x_2 = 0$</center>\n",
    "\n",
    "<center>$m_2 x_2''+ k_2 (x_2-x_1) = 0,$</center>\n",
    "\n",
    "где $m_{i}$ - это масса объекта *i*, $x_{i}$ - это\n",
    "отклонение от положения равновесия массы *i*, а $k_{i}$ - это\n",
    "константа для пружины *i*.\n",
    "\n",
    "**Пример:** Используйте Sage для вышеуказанного примера с\n",
    "$m_{1}=2$, $m_{2}=1$, $k_{1}=4$,\n",
    "$k_{2}=2$, $x_{1}(0)=3$, $x_{1}'(0)=0$,\n",
    "$x_{2}(0)=3$, $x_{2}'(0)=0$.\n",
    "\n",
    "Решение: Надо найти преобразование Лапласа первого уравнения (с условием\n",
    "$x=x_{1}$, $y=x_{2}$):"
   ]
  },
  {
   "cell_type": "code",
   "execution_count": 20,
   "metadata": {},
   "outputs": [
    {
     "data": {
      "text/plain": [
       "2*((-%at('diff(x(t),t,1),t=0))+s^2*'laplace(x(t),t,s)-x(0)*s)-2*'laplace(y(t),t,s)+6*'laplace(x(t),t,s)"
      ]
     },
     "execution_count": 20,
     "metadata": {},
     "output_type": "execute_result"
    }
   ],
   "source": [
    "de1 = maxima(\"2*diff(x(t),t, 2) + 6*x(t) - 2*y(t)\")\n",
    "lde1 = de1.laplace(\"t\",\"s\"); lde1"
   ]
  },
  {
   "cell_type": "markdown",
   "metadata": {},
   "source": [
    "Данный результат тяжело читаем, однако должен быть понят как\n",
    "\n",
    "<center>$-2x'(0) + 2s^2\\cdot X(s) - 2sx(0) - 2Y(s) + 6X(s) = 0.$</center>\n",
    "\n",
    "Найдем преобразование Лапласа для второго уравнения:"
   ]
  },
  {
   "cell_type": "code",
   "execution_count": 21,
   "metadata": {},
   "outputs": [
    {
     "data": {
      "text/plain": [
       "(-%at('diff(y(t),t,1),t=0))+s^2*'laplace(y(t),t,s)+2*'laplace(y(t),t,s)-2*'laplace(x(t),t,s)-y(0)*s"
      ]
     },
     "execution_count": 21,
     "metadata": {},
     "output_type": "execute_result"
    }
   ],
   "source": [
    "de2 = maxima(\"diff(y(t),t, 2) + 2*y(t) - 2*x(t)\")\n",
    "lde2 = de2.laplace(\"t\",\"s\"); lde2"
   ]
  },
  {
   "cell_type": "markdown",
   "metadata": {},
   "source": [
    "Результат:\n",
    "\n",
    "<center>$-Y'(0) + s^2Y(s) + 2Y(s) - 2X(s) - sy(0) = 0.$</center>\n",
    "\n",
    "Вставим начальные условия для $x(0)$, $x'(0)$,\n",
    "$y(0)$ и $y'(0)$, и решим уравения:"
   ]
  },
  {
   "cell_type": "code",
   "execution_count": 22,
   "metadata": {},
   "outputs": [
    {
     "data": {
      "text/plain": [
       "[[X == 3*(s^3 + 3*s)/(s^4 + 5*s^2 + 4), Y == 3*(s^3 + 5*s)/(s^4 + 5*s^2 + 4)]]"
      ]
     },
     "execution_count": 22,
     "metadata": {},
     "output_type": "execute_result"
    }
   ],
   "source": [
    "var('s X Y')\n",
    "eqns = [(2*s^2+6)*X-2*Y == 6*s, -2*X +(s^2+2)*Y == 3*s]\n",
    "solve(eqns, X,Y)"
   ]
  },
  {
   "cell_type": "markdown",
   "metadata": {},
   "source": [
    "Теперь произведём обратное преобразование Лапласа для нахождения ответа:"
   ]
  },
  {
   "cell_type": "code",
   "execution_count": 24,
   "metadata": {},
   "outputs": [
    {
     "name": "stdout",
     "output_type": "stream",
     "text": [
      "cos(2*t) + 2*cos(t)\n",
      "-cos(2*t) + 4*cos(t)\n"
     ]
    }
   ],
   "source": [
    "var('s t')\n",
    "print(inverse_laplace((3*s^3 + 9*s)/(s^4 + 5*s^2 + 4),s,t))\n",
    "print(inverse_laplace((3*s^3 + 15*s)/(s^4 + 5*s^2 + 4),s,t))"
   ]
  },
  {
   "cell_type": "markdown",
   "metadata": {},
   "source": [
    "Итак, ответ:\n",
    "\n",
    "<center>$x_1(t) = \\cos(2t) + 2\\cos(t), \\quad x_2(t) = 4\\cos(t) - \\cos(2t).$</center>\n",
    "\n",
    "График для ответа может быть построен параметрически, используя"
   ]
  },
  {
   "cell_type": "code",
   "execution_count": 26,
   "metadata": {},
   "outputs": [
    {
     "name": "stderr",
     "output_type": "stream",
     "text": [
      "Matplotlib is building the font cache; this may take a moment.\n"
     ]
    },
    {
     "data": {
      "image/png": "[encoded data removed]",
      "text/plain": [
       "Graphics object consisting of 1 graphics primitive"
      ]
     },
     "metadata": {},
     "output_type": "display_data"
    }
   ],
   "source": [
    "t = var('t')\n",
    "P = parametric_plot((cos(2*t) + 2*cos(t), 4*cos(t) - cos(2*t) ), (t, 0, 2*pi), rgbcolor=hue(0.9))\n",
    "show(P)"
   ]
  },
  {
   "cell_type": "markdown",
   "metadata": {},
   "source": [
    "Графики могут быть построены и для отдельных компонентов:"
   ]
  },
  {
   "cell_type": "code",
   "execution_count": 27,
   "metadata": {},
   "outputs": [
    {
     "data": {
      "image/png": "[encoded data removed]",
      "text/plain": [
       "Graphics object consisting of 2 graphics primitives"
      ]
     },
     "metadata": {},
     "output_type": "display_data"
    }
   ],
   "source": [
    "t = var('t')\n",
    "p1 = plot(cos(2*t) + 2*cos(t), (t,0, 2*pi), rgbcolor=hue(0.3))\n",
    "p2 = plot(4*cos(t) - cos(2*t), (t,0, 2*pi), rgbcolor=hue(0.6))\n",
    "show(p1 + p2)"
   ]
  },
  {
   "cell_type": "markdown",
   "metadata": {},
   "source": [
    "# Метод Эйлера для решения систем дифференциальных уравнений\n",
    "\n",
    "\n",
    "В следующем примере показан метод Эйлера для дифференциальных уравнений\n",
    "первого и второго порядков. Сначала вспомним, что делается для уравнений\n",
    "первого порядка. Дана задача с начальными условиями в виде\n",
    "\n",
    "<center>$y'=f(x,y), \\quad y(a)=c,$</center>\n",
    "\n",
    "требуется найти приблизительное значение решения при $x=b$ и $b>a$.\n",
    "\n",
    "Из определения производной следует, что\n",
    "\n",
    "<center>$y'(x) \\approx \\frac{y(x+h)-y(x)}{h},$</center>\n",
    "\n",
    "где $h>0$ дано и является небольшим. Это и дифференциальное уравнение дают\n",
    "$f(x,y(x))\\approx\\frac{y(x+h)-y(x)}{h}$. Теперь надо решить для $y(x+h)$:\n",
    "\n",
    "<center>$y(x+h) \\approx y(x) + h\\cdot f(x,y(x)).$</center>\n",
    "\n",
    "Если назвать $h\\cdot f(x,y(x))$ \"поправочным элементом\", $y(x)$\n",
    "\"прежним значением $y$\" а $y(x+h)$ \"новым значением $y$\", тогда\n",
    "данное приближение может быть выражено в виде\n",
    "\n",
    "<center>$y_{new} \\approx y_{old} + h\\cdot f(x,y_{old}).$</center>\n",
    "\n",
    "Если разбить интервал между $a$ и $b$ на $n$ частей, чтобы\n",
    "$h=\\frac{b-a}{n}$, тогда можно записать информацию для данного\n",
    "метода в таблицу.\n",
    "\n",
    "|$x$ &nbsp; &nbsp; &nbsp; &nbsp; &nbsp; &nbsp; &nbsp; &nbsp; &nbsp; &nbsp; &nbsp; &nbsp; &nbsp;|$y$ &nbsp; &nbsp; &nbsp; &nbsp; &nbsp; &nbsp; &nbsp; &nbsp; &nbsp; &nbsp; &nbsp; &nbsp; &nbsp; &nbsp; &nbsp;|$h\\cdot f(x,y)$ &nbsp; &nbsp; &nbsp; &nbsp; &nbsp; &nbsp; &nbsp; &nbsp; &nbsp; &nbsp; &nbsp; &nbsp;|\n",
    "|-------------- |-----------------|---------------|\n",
    "|$a$            |$c$              |$h\\cdot f(a,c)$|\n",
    "|$a+h$          |$c+h\\cdot f(a,c)$|      ...      |\n",
    "|$a+2h$         |...              |               |\n",
    "|...            |                 |               |\n",
    "|$b=a+nh$       |???              |      ...      |\n",
    "\n",
    "Целью является заполнить все пустоты в таблице по одному ряду за раз\n",
    "до момента достижения записи ???, которая и является приближенным\n",
    "значением метода Эйлера для $y(b)$.\n",
    "\n",
    "Решение систем дифференциальных уравнений похоже на решение обычных\n",
    "дифференциальных уравнений.\n",
    "\n",
    "**Пример:** Найдите численное приблизительное значение для $z(t)$\n",
    "при $t=1$, используя 4 шага метода Эйлера, где $z''+tz'+z=0$,\n",
    "$z(0)=1$, $z'(0)=0$.\n",
    "\n",
    "Требуется привести дифференциальное уравнение 2го порядка к системе\n",
    "двух дифференцальных уравнений первого порядка (используя $x=z$,\n",
    "$y=z'$) и применить метод Эйлера:"
   ]
  },
  {
   "cell_type": "code",
   "execution_count": 28,
   "metadata": {},
   "outputs": [
    {
     "name": "stdout",
     "output_type": "stream",
     "text": [
      "         t                    x                h*f(t,x,y)                    y           h*g(t,x,y)\n",
      "         0                    1                      0.00                    0                -0.25\n",
      "       1/4                  1.0                    -0.062                -0.25                -0.23\n",
      "       1/2                 0.94                     -0.12                -0.48                -0.17\n",
      "       3/4                 0.82                     -0.16                -0.66               -0.081\n",
      "         1                 0.65                     -0.18                -0.74                0.022\n"
     ]
    }
   ],
   "source": [
    "t,x,y = PolynomialRing(RealField(10),3,\"txy\").gens()\n",
    "f = y; g = -x - y * t\n",
    "eulers_method_2x2(f,g, 0, 1, 0, 1/4, 1)"
   ]
  },
  {
   "cell_type": "markdown",
   "metadata": {},
   "source": [
    "Итак, $z(1)\\approx 0.75$.\n",
    "\n",
    "Можно построить график для точек $(x,y)$, чтобы получить приблизительный\n",
    "вид кривой. Функция ``eulers_method_2x2_plot`` выполнит данную задачу;\n",
    "для этого надо определить функции *f* и *g*, аргумент которых имеет три\n",
    "координаты: $(t, x, y)$."
   ]
  },
  {
   "cell_type": "code",
   "execution_count": 29,
   "metadata": {},
   "outputs": [],
   "source": [
    "f = lambda z: z[2]        # f(t,x,y) = y\n",
    "g = lambda z: -sin(z[1])  # g(t,x,y) = -sin(x)\n",
    "P = eulers_method_2x2_plot(f,g, 0.0, 0.75, 0.0, 0.1, 1.0)"
   ]
  },
  {
   "cell_type": "markdown",
   "metadata": {},
   "source": [
    "В этот момент ``P`` содержит в себе два графика: ``P[0]`` - график `x`\n",
    "по `t` и ``P[1]`` - график `y` по `t`. Оба эти графика могут быть выведены\n",
    "следующим образом:"
   ]
  },
  {
   "cell_type": "code",
   "execution_count": 30,
   "metadata": {},
   "outputs": [
    {
     "data": {
      "image/png": "[encoded data removed]",
      "text/plain": [
       "Graphics object consisting of 2 graphics primitives"
      ]
     },
     "metadata": {},
     "output_type": "display_data"
    }
   ],
   "source": [
    "show(P[0] + P[1])"
   ]
  }
 ],
 "metadata": {
  "kernelspec": {
   "display_name": "SageMath 9.5",
   "language": "sage",
   "name": "sagemath"
  },
  "language_info": {
   "codemirror_mode": {
    "name": "ipython",
    "version": 3
   },
   "file_extension": ".py",
   "mimetype": "text/x-python",
   "name": "python",
   "nbconvert_exporter": "python",
   "pygments_lexer": "ipython3",
   "version": "3.10.6"
  }
 },
 "nbformat": 4,
 "nbformat_minor": 4
}
