{
 "cells": [
  {
   "cell_type": "markdown",
   "metadata": {},
   "source": [
    "# Задачи для главы 2 \"Построение графиков\" в матпакете SageMath"
   ]
  },
  {
   "cell_type": "markdown",
   "metadata": {},
   "source": [
    "## 3D графики"
   ]
  },
  {
   "cell_type": "markdown",
   "metadata": {},
   "source": [
    "### Задача №1"
   ]
  },
  {
   "cell_type": "markdown",
   "metadata": {},
   "source": [
    "В данной задаче вам необходимо нарисовать два куба, один из которых будет внутри другого. Радиус большего куба 5, радиус меньшего - 3, их цвета - зеленый и красный соответственно. Непрозрачность большего куба равна 0.4. Координата центра обоих кубов - точка (0,0,0). "
   ]
  },
  {
   "cell_type": "markdown",
   "metadata": {},
   "source": [
    "### Задача №2"
   ]
  },
  {
   "cell_type": "markdown",
   "metadata": {},
   "source": [
    "В данной задаче от вас требуется нарисовать сферу радиусом 2 и непрозрачностью 0.5, а также цилиндр с радиусом 1 и высотой 4. Центр цилиндра должен находиться в точке (1, 0, -2) (следует использовать метод `translate()` цилиндра). Сам цилиндр должен быть полностью непрозрачным."
   ]
  },
  {
   "cell_type": "markdown",
   "metadata": {},
   "source": [
    "### Задача №3"
   ]
  },
  {
   "cell_type": "markdown",
   "metadata": {},
   "source": [
    "В данной задаче от вас требуется нарисовать гиперболический параболоид ($a = b = \\sqrt{2}$), $x \\in [-2,2]$, $y \\in (-2,2)$."
   ]
  },
  {
   "cell_type": "markdown",
   "metadata": {},
   "source": [
    "### Задача №4"
   ]
  },
  {
   "cell_type": "markdown",
   "metadata": {},
   "source": [
    "В данной задаче от вас требуется нарисовать двуполостный гиперболоид, в обоих случаях $x \\in [-2,2]$, $y \\in (-2,2)$."
   ]
  },
  {
   "cell_type": "markdown",
   "metadata": {},
   "source": [
    "### Задача №5"
   ]
  },
  {
   "cell_type": "markdown",
   "metadata": {},
   "source": [
    "В данной задаче от вас требуется эллипсоид, $\\theta \\in [0,\\pi]$, $\\phi \\in (0,2\\pi)$, $a = 7$, $b = 16$, $c = 9$. Для каждой координаты удобно задать свою лямбда-функцию (функций может быть несколько, их можно перечислить через запятую в списке), а чтобы рисунок в режиме tachyon был немного трехмерным, следует изменить непрозрачность фигуры. Решить необходимо через лямбда-функции."
   ]
  },
  {
   "cell_type": "markdown",
   "metadata": {},
   "source": [
    "### Задача №6"
   ]
  },
  {
   "cell_type": "markdown",
   "metadata": {},
   "source": [
    "В данной задаче от вас требуется нарисовать гиперболический цилиндр, $x \\in [-3, 3]$, $y \\in (-3, 3)$."
   ]
  },
  {
   "cell_type": "markdown",
   "metadata": {},
   "source": [
    "### Задача №7"
   ]
  },
  {
   "cell_type": "markdown",
   "metadata": {},
   "source": [
    "В данной задаче от вас требуется нарисовать боковую поверхность конуса, $x \\in [-2, 2]$, $y \\in (-2, 2)$."
   ]
  },
  {
   "cell_type": "markdown",
   "metadata": {},
   "source": [
    "### Задача №8"
   ]
  },
  {
   "cell_type": "markdown",
   "metadata": {},
   "source": [
    "В данной задаче вы должны нарисовать ленту Мёбиуса. $u \\in [0, 2\\pi], v \\in [-1,1]$. Непрозрачность должна быть равна 0.8."
   ]
  }
 ],
 "metadata": {
  "kernelspec": {
   "display_name": "SageMath 9.5",
   "language": "sage",
   "name": "sagemath"
  },
  "language_info": {
   "codemirror_mode": {
    "name": "ipython",
    "version": 3
   },
   "file_extension": ".py",
   "mimetype": "text/x-python",
   "name": "python",
   "nbconvert_exporter": "python",
   "pygments_lexer": "ipython3",
   "version": "3.10.6"
  }
 },
 "nbformat": 4,
 "nbformat_minor": 2
}
