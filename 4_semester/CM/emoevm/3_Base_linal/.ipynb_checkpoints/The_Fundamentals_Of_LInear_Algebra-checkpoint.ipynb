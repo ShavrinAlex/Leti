{
 "cells": [
  {
   "cell_type": "markdown",
   "metadata": {
    "id": "qlgAW-d6dJGq"
   },
   "source": [
    "# Задачи для главы 3 \"Основы линейной алгебры\""
   ]
  },
  {
   "cell_type": "markdown",
   "metadata": {
    "id": "zLBf0uXOdJGw"
   },
   "source": [
    "## Базовая теория"
   ]
  },
  {
   "cell_type": "markdown",
   "metadata": {
    "id": "OeI8PypedJGw"
   },
   "source": [
    "### 1. Создание векторов и матриц\n",
    "В данном модуле мы будем работать в основном с векторами и матрицами, поэтому начнем со способов создания матриц и векторов в системе Sage:"
   ]
  },
  {
   "cell_type": "code",
   "execution_count": null,
   "metadata": {
    "id": "0t8SsBBadJGx"
   },
   "outputs": [],
   "source": [
    "Создание матрицы происходит с помощью функции matrix (или ее псевдонима Matrix)"
   ]
  },
  {
   "cell_type": "code",
   "execution_count": null,
   "metadata": {
    "id": "C4FxPQfJdJGx",
    "outputId": "e8ffb91d-3061-4b3c-d371-5bf4d949cd19"
   },
   "outputs": [
    {
     "data": {
      "text/plain": [
       "[ 3  9]\n",
       "[27 81]"
      ]
     },
     "execution_count": 5,
     "metadata": {
      "tags": []
     },
     "output_type": "execute_result"
    }
   ],
   "source": [
    "A = matrix(3) # создание нулевой квадратной матрицы 3х3\n",
    "A_copy = matrix(3, 3) #аналогичный способ создания нулевой матрицы 3х3\n",
    "B = matrix(3, 4) #создание нулевой матрицы 3х4\n",
    "C = matrix([[1, 2, 3],[4, 5, 6],[7, 8, 9]]) #создание матрицы 3х3 с конкретными значениями\n",
    "D = matrix([[x, x**2],[x**3, x**4]]) #создание матрицы 2х2 с переменным коэффициентом х"
   ]
  },
  {
   "cell_type": "markdown",
   "metadata": {
    "id": "4I98agQFdJGy"
   },
   "source": [
    "Создание вектора происходит с помощью функции vector"
   ]
  },
  {
   "cell_type": "code",
   "execution_count": null,
   "metadata": {
    "id": "u6MxbtfCdJGy",
    "outputId": "68b06af4-7b85-4d19-f3da-b7b20bdc976e"
   },
   "outputs": [
    {
     "data": {
      "text/plain": [
       "[1 1 1]\n",
       "[1 2 3]"
      ]
     },
     "execution_count": 12,
     "metadata": {
      "tags": []
     },
     "output_type": "execute_result"
    }
   ],
   "source": [
    "v1 = vector([1, 1, 1]) # Создание первого вектора-строки\n",
    "v2 = vector([1, 2, 3]) # Создание второго вектора-строки\n",
    "A = Matrix([v1, v2]) #Создание матрицы при заданных двух векторах-строках\n",
    "A"
   ]
  },
  {
   "cell_type": "markdown",
   "metadata": {
    "id": "dNT4PSnKdJGz"
   },
   "source": [
    "Также порой полезно задать элементы матриц с помощью функций, или же явно указать, в каком кольце находятся коэффициенты матрицы:"
   ]
  },
  {
   "cell_type": "code",
   "execution_count": null,
   "metadata": {
    "id": "DiNjyZqedJGz",
    "outputId": "5c765149-6126-4701-86ec-b90f3b487d20"
   },
   "outputs": [
    {
     "data": {
      "text/plain": [
       "[0 1 2 3]\n",
       "[2 3 4 5]\n",
       "[4 5 6 7]\n",
       "[6 7 8 9]"
      ]
     },
     "execution_count": 15,
     "metadata": {
      "tags": []
     },
     "output_type": "execute_result"
    }
   ],
   "source": [
    "AZ = matrix(ZZ, [[1, 2], [3, 4]]) # создание матрицы с целыми коэффициентами\n",
    "AQ = matrix(QQ, [[1, 2], [3, 4]]) # создание матрицы с рациональными коэффициентами\n",
    "AR = matrix(RR, [[1, 2], [3, 4]]) # создание матрицы с действительными коэффициентами\n",
    "m = matrix(4, 4, lambda x,y: 2*x + y) # генерация матрицы с помощью лямбда-функции, х - номер строки, у - номер столбца\n",
    "m"
   ]
  },
  {
   "cell_type": "markdown",
   "metadata": {
    "id": "Lsp1J7mBdJGz"
   },
   "source": [
    "Ткаже можно сразу создать единичную матрицу, используя метод identity:"
   ]
  },
  {
   "cell_type": "code",
   "execution_count": null,
   "metadata": {
    "id": "fPTNGXdIdJG0",
    "outputId": "2f5a458c-35d6-4ea9-93c8-bbaa236b29d8",
    "scrolled": true
   },
   "outputs": [
    {
     "data": {
      "text/plain": [
       "[1 0 0 0]\n",
       "[0 2 0 0]\n",
       "[0 0 3 0]\n",
       "[0 0 0 4]"
      ]
     },
     "execution_count": 30,
     "metadata": {
      "tags": []
     },
     "output_type": "execute_result"
    }
   ],
   "source": [
    "I = matrix.identity(2) # создание единичной матрицы 2х2\n",
    "Diag = matrix.diagonal([1, 2, 3, 4]) # создание диагональной матрицы\n",
    "Diag"
   ]
  },
  {
   "cell_type": "markdown",
   "metadata": {
    "id": "n1zp-QpcdJG0"
   },
   "source": [
    "### 2. Элементарные функции работы с матрицами"
   ]
  },
  {
   "cell_type": "markdown",
   "metadata": {
    "id": "dJ1R1fj-dJG0"
   },
   "source": [
    "На данном шаге мы рассмотрим основные функции работы с матрицами. Зададим нашу начальную матрицу А:"
   ]
  },
  {
   "cell_type": "code",
   "execution_count": null,
   "metadata": {
    "id": "nZr8GAOwdJG0",
    "outputId": "82def52e-d665-4e01-abb8-2f62a612eeb7"
   },
   "outputs": [
    {
     "data": {
      "text/plain": [
       "[-1 -1 -5]\n",
       "[ 4  1 -8]\n",
       "[ 3 -1 -6]"
      ]
     },
     "execution_count": 4,
     "metadata": {
      "tags": []
     },
     "output_type": "execute_result"
    }
   ],
   "source": [
    "A = random_matrix(ZZ, 3, 3)\n",
    "A"
   ]
  },
  {
   "cell_type": "markdown",
   "metadata": {
    "id": "q0QhcPBZdJG1"
   },
   "source": [
    "Обращаться к элементам матрицы можно так же, как и к элементам списка:"
   ]
  },
  {
   "cell_type": "code",
   "execution_count": null,
   "metadata": {
    "id": "dyLH-_8RdJG1",
    "outputId": "2a0b5b87-ac46-499f-e613-d566f83fe2ec"
   },
   "outputs": [
    {
     "name": "stdout",
     "output_type": "stream",
     "text": [
      "4\n",
      "(-26, -1, 1)\n"
     ]
    }
   ],
   "source": [
    "print(A[2, 0])\n",
    "print(A[1])"
   ]
  },
  {
   "cell_type": "markdown",
   "metadata": {
    "id": "A1rJ7f6ddJG1"
   },
   "source": [
    "По аналогии со списками, к элементам матрицы можно обратиться с помощью среза:"
   ]
  },
  {
   "cell_type": "code",
   "execution_count": null,
   "metadata": {
    "id": "EmtFV6YLdJG1",
    "outputId": "aef784fe-4223-4aa4-8054-681feb430725"
   },
   "outputs": [
    {
     "data": {
      "text/plain": [
       "[-1 -1]\n",
       "[ 4  1]"
      ]
     },
     "execution_count": 5,
     "metadata": {
      "tags": []
     },
     "output_type": "execute_result"
    }
   ],
   "source": [
    "A[0:2, 0:2] #получаем левый верхний квадрат 2х2"
   ]
  },
  {
   "cell_type": "markdown",
   "metadata": {
    "id": "4I6RhdakdJG2"
   },
   "source": [
    "Для получения количества строк и столбцов матрицы используются следующие методы:"
   ]
  },
  {
   "cell_type": "code",
   "execution_count": null,
   "metadata": {
    "id": "meG18HOwdJG2",
    "outputId": "1da0ff48-1f3a-429f-9546-234023e76273"
   },
   "outputs": [
    {
     "name": "stdout",
     "output_type": "stream",
     "text": [
      "3 3\n"
     ]
    }
   ],
   "source": [
    "print(A.nrows(), A.ncols())"
   ]
  },
  {
   "cell_type": "markdown",
   "metadata": {
    "id": "vAypq9gNdJG2"
   },
   "source": [
    "Теперь посмотрим на базовые методы для работы с матрицами:"
   ]
  },
  {
   "cell_type": "code",
   "execution_count": null,
   "metadata": {
    "id": "K3UdCyh9dJG2",
    "outputId": "27e59c5e-ef4b-4766-9e3b-4dfb4af76334"
   },
   "outputs": [
    {
     "name": "stdout",
     "output_type": "stream",
     "text": [
      "Determinant: 114, Trace: 12, Rank: 3\n"
     ]
    }
   ],
   "source": [
    "A_det = A.det() #нахождение определителя А\n",
    "A_trace = A.trace() #нахождение следа матрицы А !(в sage9.0 функция не работает!!!!)\n",
    "A_rank = A.rank() #нахождение ранга матрицы А\n",
    "res = \"Determinant: {}, Trace: {}, Rank: {}\".format(A_det, A_trace, A_rank)\n",
    "print(res)"
   ]
  },
  {
   "cell_type": "markdown",
   "metadata": {
    "id": "oaL65jBNdJG3"
   },
   "source": [
    "Проверить правильность вычисления ранга можно, например, приведя матрицу А к ступенчатому виду:"
   ]
  },
  {
   "cell_type": "code",
   "execution_count": null,
   "metadata": {
    "id": "LMXQoxbNdJG3",
    "outputId": "34b627b1-b697-4119-8474-057cb80b6c9f"
   },
   "outputs": [
    {
     "data": {
      "text/plain": [
       "[  1   0  63]\n",
       "[  0   1  65]\n",
       "[  0   0 114]"
      ]
     },
     "execution_count": 5,
     "metadata": {
      "tags": []
     },
     "output_type": "execute_result"
    }
   ],
   "source": [
    "B = A.echelon_form()\n",
    "B"
   ]
  },
  {
   "cell_type": "markdown",
   "metadata": {
    "id": "R6EZ23xBdJG3"
   },
   "source": [
    "Получить же сттолбцы или строки матрицы можно вызвав следующие методы:"
   ]
  },
  {
   "cell_type": "code",
   "execution_count": null,
   "metadata": {
    "id": "Y56nWL_IdJG3",
    "outputId": "c1d5762c-dbba-493d-dd95-32291e19798f"
   },
   "outputs": [
    {
     "name": "stdout",
     "output_type": "stream",
     "text": [
      "[(1, -1, -2), (7, 2, 1), (11, 0, 9)]\n",
      "[(1, 7, 11), (-1, 2, 0), (-2, 1, 9)]\n"
     ]
    }
   ],
   "source": [
    "print(A.rows())\n",
    "print(A.columns())"
   ]
  },
  {
   "cell_type": "markdown",
   "metadata": {
    "id": "FvloKEc0dJG4"
   },
   "source": [
    "Сложение же и умножение матриц выполняется привычным для нас способом (правильность выполнения операций проверьте самостоятельно):"
   ]
  },
  {
   "cell_type": "code",
   "execution_count": null,
   "metadata": {
    "id": "ECB8WAOHdJG4",
    "outputId": "d5ee58dc-98a4-42c6-bf1e-e5cafce609e9"
   },
   "outputs": [
    {
     "name": "stdout",
     "output_type": "stream",
     "text": [
      "The result of multiplication:\n",
      " [3 2 3]\n",
      "[1 2 3]\n",
      "The sum of matrices:\n",
      " [2 2]\n",
      "[1 1]\n"
     ]
    }
   ],
   "source": [
    "A = matrix([[1, 2], [1, 0]])\n",
    "B = matrix([[1, 2, 3],[1, 0, 0]])\n",
    "C = matrix.identity(2)\n",
    "print('The result of multiplication:\\n', A * B)\n",
    "print('The sum of matrices:\\n', A + C)"
   ]
  },
  {
   "cell_type": "markdown",
   "metadata": {
    "id": "hv_gOg1edJG4"
   },
   "source": [
    "Также крайне полезными бывают методы, позволяющие найти обратную матрицу, транспонировать ее, найти собственные значения и векторы матрицы:"
   ]
  },
  {
   "cell_type": "code",
   "execution_count": null,
   "metadata": {
    "id": "3XJFJBKSdJG4",
    "outputId": "f686e6a6-72b4-4976-e3e2-f33ac1d84eef"
   },
   "outputs": [
    {
     "data": {
      "text/plain": [
       "[(-1,\n",
       "  [\n",
       "  (1, 1, -1)\n",
       "  ],\n",
       "  3)]"
      ]
     },
     "execution_count": 14,
     "metadata": {
      "tags": []
     },
     "output_type": "execute_result"
    }
   ],
   "source": [
    "A = matrix([[2, -1, 2],[5, -3, 3],[-1, 0, -2]])\n",
    "A_rev = A ** -1 # находим обратную матрицу\n",
    "A_tr = A.transpose() # транспонируем А (можно использовать и A.T)\n",
    "eigval = A.eigenvalues() # находим собственные значения А\n",
    "eigvec = A.right_eigenvectors() # находим собственные векторы А\n",
    "eigvec # тройка вида: (собственное значение, собственный вектор, геометрическая кратность)"
   ]
  },
  {
   "cell_type": "markdown",
   "metadata": {
    "id": "cVQjtpBwdJG4"
   },
   "source": [
    "Для того, чтобы найти ядро матрицы, можно использовать функцию kernel(), которая по умолчанию находит левое ядро матрицы. Правое ядро находится с помощью функции right_kernel()."
   ]
  },
  {
   "cell_type": "code",
   "execution_count": null,
   "metadata": {
    "id": "K2FVemEwdJG6",
    "outputId": "cae9069e-3bf8-4c82-c94d-daf2e6c0ae98"
   },
   "outputs": [
    {
     "data": {
      "text/plain": [
       "Free module of degree 3 and rank 1 over Integer Ring\n",
       "Echelon basis matrix:\n",
       "[0 1 0]"
      ]
     },
     "execution_count": 19,
     "metadata": {
      "tags": []
     },
     "output_type": "execute_result"
    }
   ],
   "source": [
    "A = matrix([[1, 2, 3], [0, 0, 0], [0, 8, 9]])\n",
    "kernel(A)"
   ]
  },
  {
   "cell_type": "markdown",
   "metadata": {
    "id": "XbXefIwvdJG7"
   },
   "source": [
    "### 3. Нахождение характеристического многочлена, решение СЛАУ"
   ]
  },
  {
   "cell_type": "markdown",
   "metadata": {
    "id": "r72fzXBudJG7"
   },
   "source": [
    "Достаточно часто бывает полезным найти не просто решение задачи (например, нахождения собственных чисел матрицы), но и проследить сам ход решения задачи. Т.к. Sage предоставляет инструмент работы с символьными выражениями, рассмотрим пример их использования в задаче нахождения характеристического многочлена:"
   ]
  },
  {
   "cell_type": "code",
   "execution_count": null,
   "metadata": {
    "id": "zblBCzBIdJG7",
    "outputId": "5c1a2a58-fc85-40fe-f999-43fe1b46fb4c"
   },
   "outputs": [
    {
     "data": {
      "text/plain": [
       "[    a     1]\n",
       "[    a a + 1]"
      ]
     },
     "execution_count": 26,
     "metadata": {
      "tags": []
     },
     "output_type": "execute_result"
    }
   ],
   "source": [
    "# создадим матрицу М, размера 2х2, зависящую от параметра а\n",
    "R.<a> = ZZ[]\n",
    "M = MatrixSpace(R, 2)([[a, 1], [a, a+1]])\n",
    "M"
   ]
  },
  {
   "cell_type": "markdown",
   "metadata": {
    "id": "ysGmhlokdJG8"
   },
   "source": [
    "По умолчанию, х считается переменной, от которой зависит характеристический многочлен. Найдем его, с помощью метода charpoly():"
   ]
  },
  {
   "cell_type": "code",
   "execution_count": null,
   "metadata": {
    "id": "SPG11pz1dJG8",
    "outputId": "54f5043a-3d73-409e-b43d-1f01b45917cc"
   },
   "outputs": [
    {
     "data": {
      "text/plain": [
       "x^2 + (-2*a - 1)*x + a^2"
      ]
     },
     "execution_count": 25,
     "metadata": {
      "tags": []
     },
     "output_type": "execute_result"
    }
   ],
   "source": [
    "hi = M.charpoly() # получаем характеристический многочлен, зависящий от х\n",
    "hi"
   ]
  },
  {
   "cell_type": "markdown",
   "metadata": {
    "id": "HR_mBq2SdJG8"
   },
   "source": [
    "Однако совершенно необязательно, чтобы переменная характеристического многочлена была обязательно определена как x. Входным параметром метод charpoly принимает имя переменной характеристического многочлена:"
   ]
  },
  {
   "cell_type": "code",
   "execution_count": null,
   "metadata": {
    "id": "jhE0IJp5dJG8",
    "outputId": "11cdcfd3-5cec-48dd-ed3f-ce9eaa5fc825"
   },
   "outputs": [
    {
     "data": {
      "text/plain": [
       "Z^2 + (-2*a - 1)*Z + a^2"
      ]
     },
     "execution_count": 27,
     "metadata": {
      "tags": []
     },
     "output_type": "execute_result"
    }
   ],
   "source": [
    "hi = M.charpoly('Z')\n",
    "hi"
   ]
  },
  {
   "cell_type": "markdown",
   "metadata": {
    "id": "Szhip1CddJG8"
   },
   "source": [
    "Теперь же перейдем к наиболее распространенной задаче линейной алгебры, а именно, решению СЛАУ. Как известно, в матричном виде уравнение имеет вид: $$ Ax = b $$\n",
    "\n",
    "Система такого вида решается с помощью метода `solve_right`:"
   ]
  },
  {
   "cell_type": "code",
   "execution_count": null,
   "metadata": {
    "id": "3fRq_dtBdJG9",
    "outputId": "771f8ea5-4554-4c4a-e192-9650719d835d"
   },
   "outputs": [
    {
     "data": {
      "text/plain": [
       "(5, -1, 1)"
      ]
     },
     "execution_count": 4,
     "metadata": {
      "tags": []
     },
     "output_type": "execute_result"
    }
   ],
   "source": [
    "A = matrix([[3, -2, 4], [3, 4, -2], [2, -1, -1]])\n",
    "b = vector([21, 9, 10])\n",
    "A.solve_right(b) # аналогично можно написать как A \\ b"
   ]
  },
  {
   "cell_type": "markdown",
   "metadata": {
    "id": "0Pp3J1XWdJG9"
   },
   "source": [
    "Для решения же системы вида $$ XA = b $$ следует использовать функцию `solve_left`.  Если же существует множество решений системы, то функция выведет лишь одно из частных решений. Если же система и вовсе несовместна, то будет сгенерировано исключение."
   ]
  },
  {
   "cell_type": "markdown",
   "metadata": {
    "id": "rgw_rorOdJG9"
   },
   "source": [
    "### 4. Работа с векторными пространствами"
   ]
  },
  {
   "cell_type": "markdown",
   "metadata": {
    "id": "1QqQ8zAadJG9"
   },
   "source": [
    "В заключение теоретического материала о работе с линейной алгеброй в Sage следует рассмотреть имеющийся инструментарий для работы с векторными пространствами. Начнем с создания самих векторных пространств:"
   ]
  },
  {
   "cell_type": "code",
   "execution_count": null,
   "metadata": {
    "id": "jy1DS7T5dJG-",
    "outputId": "84360708-3b78-4403-9fa2-61036955cb13"
   },
   "outputs": [
    {
     "data": {
      "text/plain": [
       "6"
      ]
     },
     "execution_count": 7,
     "metadata": {
      "tags": []
     },
     "output_type": "execute_result"
    }
   ],
   "source": [
    "V = VectorSpace(RR, 6) # создаем векторное пространство, размерности 6 над полем R\n",
    "S1 = V.subspace([V([1, 1, 0, 0, 0, 0]), V([1, 0, 1, 1, 1, 0])]) # создаем подпространство V, натянутое на 2 вектора из V\n",
    "S1"
   ]
  },
  {
   "cell_type": "markdown",
   "metadata": {
    "id": "HVsdBmKbdJG-"
   },
   "source": [
    "Рассмотрим следующие полезные функции для работы с векторными пространствами:"
   ]
  },
  {
   "cell_type": "code",
   "execution_count": null,
   "metadata": {
    "id": "5w_bBCXfdJG-",
    "outputId": "deac19c0-c4ac-4646-9caf-f07cbc01fd12"
   },
   "outputs": [
    {
     "data": {
      "text/plain": [
       "[\n",
       "(1.00000000000000, 0.000000000000000, 1.00000000000000, 1.00000000000000, 1.00000000000000, 0.000000000000000),\n",
       "(0.000000000000000, 1.00000000000000, -1.00000000000000, -1.00000000000000, -1.00000000000000, -0.000000000000000)\n",
       "]"
      ]
     },
     "execution_count": 8,
     "metadata": {
      "tags": []
     },
     "output_type": "execute_result"
    }
   ],
   "source": [
    "S1.basis() # находим базис подпространства (матрица базисных векторов обязательно ступенчатая!)"
   ]
  },
  {
   "cell_type": "code",
   "execution_count": null,
   "metadata": {
    "id": "YdmhZUvTdJG-",
    "outputId": "a99a7532-ded4-427c-9cc6-995d3b1f37b4"
   },
   "outputs": [
    {
     "data": {
      "text/plain": [
       "2"
      ]
     },
     "execution_count": 9,
     "metadata": {
      "tags": []
     },
     "output_type": "execute_result"
    }
   ],
   "source": [
    "S1.dimension() # находим размерность пространства"
   ]
  },
  {
   "cell_type": "code",
   "execution_count": null,
   "metadata": {
    "id": "nVGKREARdJG_"
   },
   "outputs": [],
   "source": [
    "Также Sage позволяет строить сумму и пересечение пространств:"
   ]
  },
  {
   "cell_type": "code",
   "execution_count": null,
   "metadata": {
    "id": "JWJgV4EcdJG_",
    "outputId": "ce067ae0-5f1e-46a2-c57b-048469fd0076"
   },
   "outputs": [
    {
     "data": {
      "text/plain": [
       "Vector space of degree 6 and dimension 2 over Real Field with 53 bits of precision\n",
       "Basis matrix:\n",
       "[0.000000000000000 0.000000000000000 0.000000000000000 0.000000000000000  1.00000000000000 0.000000000000000]\n",
       "[0.000000000000000 0.000000000000000 0.000000000000000 0.000000000000000 0.000000000000000  1.00000000000000]"
      ]
     },
     "execution_count": 10,
     "metadata": {
      "tags": []
     },
     "output_type": "execute_result"
    }
   ],
   "source": [
    "S2 = V.subspace([V([0, 0, 0, 0, 1, 0]), V([0, 0, 0, 0, 0, 1])])\n",
    "S2"
   ]
  },
  {
   "cell_type": "code",
   "execution_count": null,
   "metadata": {
    "id": "9tt1y00pdJG_",
    "outputId": "bceae20c-2898-42e5-92da-ba26be972b1d"
   },
   "outputs": [
    {
     "data": {
      "text/plain": [
       "Vector space of degree 6 and dimension 4 over Real Field with 53 bits of precision\n",
       "Basis matrix:\n",
       "[ 1.00000000000000 0.000000000000000  1.00000000000000  1.00000000000000 0.000000000000000 0.000000000000000]\n",
       "[0.000000000000000  1.00000000000000 -1.00000000000000 -1.00000000000000 0.000000000000000 0.000000000000000]\n",
       "[0.000000000000000 0.000000000000000 0.000000000000000 0.000000000000000  1.00000000000000 0.000000000000000]\n",
       "[0.000000000000000 0.000000000000000 0.000000000000000 0.000000000000000 0.000000000000000  1.00000000000000]"
      ]
     },
     "execution_count": 11,
     "metadata": {
      "tags": []
     },
     "output_type": "execute_result"
    }
   ],
   "source": [
    "S1+S2 # построение суммы векторных пространств"
   ]
  },
  {
   "cell_type": "code",
   "execution_count": null,
   "metadata": {
    "id": "LujpZizSdJG_",
    "outputId": "531839f5-ae57-419c-c4eb-31b26d6fd9f5"
   },
   "outputs": [
    {
     "data": {
      "text/plain": [
       "Vector space of degree 6 and dimension 0 over Real Field with 53 bits of precision\n",
       "Basis matrix:\n",
       "[]"
      ]
     },
     "execution_count": 12,
     "metadata": {
      "tags": []
     },
     "output_type": "execute_result"
    }
   ],
   "source": [
    "S1.intersection(S2) #строим пересечение пространств (нетрудно удостовериться, что здесь оно пустое)"
   ]
  },
  {
   "cell_type": "markdown",
   "metadata": {
    "id": "EZlEuRmLdJHA"
   },
   "source": [
    "Полезно также рассмотреть частный случай линейного пространства: пространство матриц определенной рамзерности"
   ]
  },
  {
   "cell_type": "code",
   "execution_count": null,
   "metadata": {
    "id": "1zOKCXfldJHA",
    "outputId": "e12dca98-f7a1-462d-d0ca-f96fc18fd950"
   },
   "outputs": [
    {
     "data": {
      "text/plain": [
       "Full MatrixSpace of 4 by 4 dense matrices over Rational Field"
      ]
     },
     "execution_count": 13,
     "metadata": {
      "tags": []
     },
     "output_type": "execute_result"
    }
   ],
   "source": [
    "M = MatrixSpace(QQ, 4, 4) # линейное пространство матриц 4х4\n",
    "M"
   ]
  },
  {
   "cell_type": "markdown",
   "metadata": {
    "id": "q4Ljtkc7dJHA"
   },
   "source": [
    "Стоит отметить еще один способ создания матриц: как элемент созданного линейного пространства"
   ]
  },
  {
   "cell_type": "code",
   "execution_count": null,
   "metadata": {
    "id": "M0SEyJhwdJHA",
    "outputId": "e2cf753f-836d-405a-89c0-2ae1a533f82c"
   },
   "outputs": [
    {
     "data": {
      "text/plain": [
       "[0 0 0 0]\n",
       "[0 1 2 3]\n",
       "[0 2 4 6]\n",
       "[0 3 6 9]"
      ]
     },
     "execution_count": 14,
     "metadata": {
      "tags": []
     },
     "output_type": "execute_result"
    }
   ],
   "source": [
    "A = M(lambda x, y: x*y)\n",
    "A"
   ]
  },
  {
   "cell_type": "markdown",
   "metadata": {
    "id": "BRKpyFrKdJHA"
   },
   "source": [
    "### 5. Дополнительные функции"
   ]
  },
  {
   "cell_type": "markdown",
   "metadata": {
    "id": "SGJsZr8ldJHA"
   },
   "source": [
    "В данной главе мы ставим своей целью обзорно показать функционал Sage для получения некоторых специфических результатов. Данная глава не предусматривает собой решение зедач по указанным темам, в силу специфичности рассмотренного материала."
   ]
  },
  {
   "cell_type": "markdown",
   "metadata": {
    "id": "CkjWcImfdJHB"
   },
   "source": [
    "Рассмотрим матрицу, состоящую из комплексных чисел:"
   ]
  },
  {
   "cell_type": "code",
   "execution_count": null,
   "metadata": {
    "id": "V0_7l_jJdJHB"
   },
   "outputs": [],
   "source": [
    "A = matrix(QQbar, [[ -3, 5 - 3*I, 7 - 4*I],\n",
    "                   [7 + 3*I, -1 + 6*I, 5 + I],\n",
    "                   [1, 2, 3]])"
   ]
  },
  {
   "cell_type": "markdown",
   "metadata": {
    "id": "qlOzCv-FdJHB"
   },
   "source": [
    "Тогда матрицу, коэффициенты которой будут комплексно сопряженными с коэффициентами исходной матрицы, можно получить следующим образом:"
   ]
  },
  {
   "cell_type": "code",
   "execution_count": null,
   "metadata": {
    "id": "9y7DpumxdJHB",
    "outputId": "58bf91ca-29c5-4c3f-c915-d8858d4e6525"
   },
   "outputs": [
    {
     "data": {
      "text/plain": [
       "[      -3  5 + 3*I  7 + 4*I]\n",
       "[ 7 - 3*I -1 - 6*I  5 - 1*I]\n",
       "[       1        2        3]"
      ]
     },
     "execution_count": 2,
     "metadata": {
      "tags": []
     },
     "output_type": "execute_result"
    }
   ],
   "source": [
    "A.C #можно использовать A.conjugate()"
   ]
  },
  {
   "cell_type": "markdown",
   "metadata": {
    "id": "MkljprDudJHB"
   },
   "source": [
    "Однако чаще же возникает задача нахождения Эрмитовой формы матрицы (в добавок к комплексному сорпяжению выполняется еще и операция транспонирования). Получить матрицу такой формы можно так:"
   ]
  },
  {
   "cell_type": "code",
   "execution_count": null,
   "metadata": {
    "id": "K0mG71_2dJHB",
    "outputId": "4dd7a7d5-d656-48ee-c2e9-be5a4f9e05c1"
   },
   "outputs": [
    {
     "data": {
      "text/plain": [
       "[      -3  7 - 3*I        1]\n",
       "[ 5 + 3*I -1 - 6*I        2]\n",
       "[ 7 + 4*I  5 - 1*I        3]"
      ]
     },
     "execution_count": 3,
     "metadata": {
      "tags": []
     },
     "output_type": "execute_result"
    }
   ],
   "source": [
    "A.H"
   ]
  },
  {
   "cell_type": "markdown",
   "metadata": {
    "id": "5D6tKKUGdJHC"
   },
   "source": [
    "Для задач вычислительной математики часто требуется найти LU или QR разложение матрицы. Сделать это можно следующим способом:"
   ]
  },
  {
   "cell_type": "code",
   "execution_count": null,
   "metadata": {
    "id": "5LlIhDuidJHC"
   },
   "outputs": [],
   "source": [
    "A = matrix(QQ, [[1, -1,  0,  2,  4,  7, -1],\n",
    "                 [2, -1,  0,  6,  4,  8, -2],\n",
    "                 [2,  0,  1,  4,  2,  6,  0],\n",
    "                 [1,  0, -1,  8, -1, -1, -3],\n",
    "                 [1,  1,  2, -2, -1,  1,  3]])"
   ]
  },
  {
   "cell_type": "code",
   "execution_count": null,
   "metadata": {
    "id": "ci0gFfffdJHC",
    "outputId": "f38846b1-523a-4cca-ff17-81669ed99dfe"
   },
   "outputs": [
    {
     "data": {
      "text/plain": [
       "(\n",
       "[   1    0    0    0    0]\n",
       "[ 1/2    1    0    0    0]\n",
       "[ 1/2  1/3    1    0    0]\n",
       "[   1  2/3  1/5    1    0]\n",
       "[ 1/2 -1/3 -2/5    0    1],\n",
       "\n",
       "[    2    -1     0     6     4     8    -2]\n",
       "[    0   3/2     2    -5    -3    -3     4]\n",
       "[    0     0  -5/3  20/3    -2    -4 -10/3]\n",
       "[    0     0     0     0   2/5   4/5     0]\n",
       "[    0     0     0     0   1/5   2/5     0]\n",
       ")"
      ]
     },
     "execution_count": 10,
     "metadata": {
      "tags": []
     },
     "output_type": "execute_result"
    }
   ],
   "source": [
    "P, L, U = A.LU(format='plu')\n",
    "L, U # здесь подразумевается, что P - матрица перестановок (если вывести только LU, то мы получим исхлдную матрицу с переставленными строками)"
   ]
  },
  {
   "cell_type": "code",
   "execution_count": null,
   "metadata": {
    "id": "N0vq08dJdJHC",
    "outputId": "0a3421d3-d270-4dec-8299-0d146e0538fd"
   },
   "outputs": [
    {
     "data": {
      "text/plain": [
       "True"
      ]
     },
     "execution_count": 11,
     "metadata": {
      "tags": []
     },
     "output_type": "execute_result"
    }
   ],
   "source": [
    "A == P * L * U #проверим правильность разложения"
   ]
  },
  {
   "cell_type": "markdown",
   "metadata": {
    "id": "xNC5YgQbdJHC"
   },
   "source": [
    "Практически аналогично строится и QR-разложение матрицы А:"
   ]
  },
  {
   "cell_type": "code",
   "execution_count": null,
   "metadata": {
    "id": "iVMoRKEsdJHD",
    "outputId": "fd8080bf-6e77-4c2e-fde9-c1f389537415"
   },
   "outputs": [
    {
     "data": {
      "text/plain": [
       "(\n",
       "[ -0.4588314677411235?  -0.1260506983326509?   0.3812120831224489?   -0.394573711338418?     -0.6874400625964?]  [  4.358898943540674? -0.4588314677411235?   13.07669683062202?   6.194224814505168?   2.982404540317303?]\n",
       "[ -0.4588314677411235?   0.4726901187474409? -0.05198346588033394?   0.7172941251646595?     -0.2209628772631?]  [                   0   1.670171752907625?  0.5987408170800917?  -1.292019657909672?   6.207996892883057?]\n",
       "[  0.2294157338705618?   0.6617661662464172?   0.6619227988762521?  -0.1808720937375480?      0.1964114464561?]  [                   0                    0   5.444401659866974?   5.468660610611130? -0.6827161852283857?]\n",
       "[  0.6882472016116853?   0.1890760474989764?  -0.2044682991293135?   0.0966302966543065?     -0.6628886317894?]  [                   0                    0                    0   1.027626039419836?  -3.619300149686620?]\n",
       "[ -0.2294157338705618?   0.5357154679137663?   -0.609939332995919?   -0.536422031427112?      0.0245514308070?], [                   0                    0                    0                    0   0.024551430807012?]\n",
       ")"
      ]
     },
     "execution_count": 13,
     "metadata": {
      "tags": []
     },
     "output_type": "execute_result"
    }
   ],
   "source": [
    "A = matrix(QQbar, [[-2, 0, -4, -1, -1],\n",
    "                    [-2, 1, -6, -3, -1],\n",
    "                    [1, 1, 7, 4, 5],\n",
    "                    [3, 0, 8, 3, 3],\n",
    "                    [-1, 1, -6, -6, 5]])\n",
    "Q, R = A.QR()\n",
    "Q, R"
   ]
  },
  {
   "cell_type": "markdown",
   "metadata": {
    "id": "LnKDSznjdJHD"
   },
   "source": [
    "Удостоверимся в правильности найденного решения:"
   ]
  },
  {
   "cell_type": "code",
   "execution_count": null,
   "metadata": {
    "id": "aa_4HSnFdJHD",
    "outputId": "68b27b21-7c4a-4c96-94d3-2d70f69e0890"
   },
   "outputs": [
    {
     "data": {
      "text/plain": [
       "True"
      ]
     },
     "execution_count": 14,
     "metadata": {
      "tags": []
     },
     "output_type": "execute_result"
    }
   ],
   "source": [
    "A == Q * R"
   ]
  },
  {
   "cell_type": "markdown",
   "metadata": {
    "id": "2qt8xzNNdJHE"
   },
   "source": [
    "Если матрица состоит из дробей, то полезным окажется привести их к общему знаменателю. Общий знаминатель элементов матрицы можно узнать следующим образом:"
   ]
  },
  {
   "cell_type": "code",
   "execution_count": null,
   "metadata": {
    "id": "fdBxVAFgdJHF",
    "outputId": "0f1cb126-424b-4332-bacb-4c047385193a"
   },
   "outputs": [
    {
     "data": {
      "text/plain": [
       "210"
      ]
     },
     "execution_count": 15,
     "metadata": {
      "tags": []
     },
     "output_type": "execute_result"
    }
   ],
   "source": [
    "A = MatrixSpace(QQ,2)([1/2, 1/3, 1/5, 1/7])\n",
    "A.denominator() # в правильности вычислений нетрудно убедиться самостоятельно"
   ]
  },
  {
   "cell_type": "markdown",
   "metadata": {
    "id": "7U-vFAQAdJHF"
   },
   "source": [
    "Еще одной полезной функцией может быть `derivative`, позволяющая найти производную:"
   ]
  },
  {
   "cell_type": "code",
   "execution_count": null,
   "metadata": {
    "id": "QkRcAtXHdJHF",
    "outputId": "455fb37b-eece-4d84-b585-5bbecabaa03b"
   },
   "outputs": [
    {
     "data": {
      "text/plain": [
       "(0, 1, 2*x, -sin(x))"
      ]
     },
     "execution_count": 16,
     "metadata": {
      "tags": []
     },
     "output_type": "execute_result"
    }
   ],
   "source": [
    "v = vector([1, x, x^2, cos(x)])\n",
    "v.derivative(x)"
   ]
  },
  {
   "cell_type": "markdown",
   "metadata": {
    "id": "EuUD4uHjdJHF"
   },
   "source": [
    "Часто, у матриц полезно выделить элементы, которые удовлетворяют каким-либо заданным начальным условиям. Здесь нам поможет функция `find`:"
   ]
  },
  {
   "cell_type": "code",
   "execution_count": null,
   "metadata": {
    "id": "WobA2dT0dJHF",
    "outputId": "0bfab06c-4af6-4241-bbd8-bace507dddcc"
   },
   "outputs": [
    {
     "data": {
      "text/plain": [
       "[0 0 0]\n",
       "[0 0 0]\n",
       "[0 1 1]\n",
       "[0 1 0]"
      ]
     },
     "execution_count": 17,
     "metadata": {
      "tags": []
     },
     "output_type": "execute_result"
    }
   ],
   "source": [
    "M = matrix(4,3,[1, -1/2, -1, 1, -1, -1/2, -1, 0, 0, 2, 0, 1])\n",
    "M.find(lambda entry:entry==0)"
   ]
  },
  {
   "cell_type": "markdown",
   "metadata": {
    "id": "wiplxYXxdJHF"
   },
   "source": [
    "В задачах нахождения экстремумов функций многих переменных часто требуется проверить, положительно ли определена матрица Гессе (ссылка будет здесь), чтобы определить, что за особая точка перед нами (минимум или максимум). В Sage матрицу на положительную определенность можно проверить так:"
   ]
  },
  {
   "cell_type": "code",
   "execution_count": null,
   "metadata": {
    "id": "P-xLHcyjdJHG",
    "outputId": "9897a0aa-b575-4a96-9d5a-6c2938dc7c9f"
   },
   "outputs": [
    {
     "data": {
      "text/plain": [
       "True"
      ]
     },
     "execution_count": 18,
     "metadata": {
      "tags": []
     },
     "output_type": "execute_result"
    }
   ],
   "source": [
    "A = matrix(QQ, [[ 4, -2,  4,  2],\n",
    "                 [-2, 10, -2, -7],\n",
    "                 [ 4, -2,  8,  4],\n",
    "                 [ 2, -7,  4,  7]])\n",
    "A.is_positive_definite()"
   ]
  },
  {
   "cell_type": "markdown",
   "metadata": {
    "id": "-Uq6rnijdJHG"
   },
   "source": [
    "Норма матрицы рассчитывается следующим образом:"
   ]
  },
  {
   "cell_type": "code",
   "execution_count": null,
   "metadata": {
    "id": "OAqA-NnedJHG",
    "outputId": "57cc6f20-e0ce-4267-fef2-d7d7308016c3"
   },
   "outputs": [
    {
     "data": {
      "text/plain": [
       "13.0"
      ]
     },
     "execution_count": 19,
     "metadata": {
      "tags": []
     },
     "output_type": "execute_result"
    }
   ],
   "source": [
    "A = matrix(ZZ, [[1,2,4,3],[-1,0,3,-10]])\n",
    "A.norm(1) #здесь 1 означает использование первой нормы"
   ]
  },
  {
   "cell_type": "markdown",
   "metadata": {
    "id": "tTMKIRcCdJHG"
   },
   "source": [
    "Норма вектора находится аналогично:"
   ]
  },
  {
   "cell_type": "code",
   "execution_count": null,
   "metadata": {
    "id": "t3pP3SI3dJHG",
    "outputId": "f361e06a-f73b-477d-cc22-6f418eb876b6"
   },
   "outputs": [
    {
     "data": {
      "text/plain": [
       "sqrt(14)"
      ]
     },
     "execution_count": 20,
     "metadata": {
      "tags": []
     },
     "output_type": "execute_result"
    }
   ],
   "source": [
    "v = vector([1, 2, 3])\n",
    "v.norm(2)"
   ]
  },
  {
   "cell_type": "code",
   "execution_count": null,
   "metadata": {
    "id": "KjEC340ndJHH"
   },
   "outputs": [],
   "source": []
  }
 ],
 "metadata": {
  "colab": {
   "name": "linalg1.ipynb",
   "provenance": []
  },
  "kernelspec": {
   "display_name": "SageMath 9.5",
   "language": "sage",
   "name": "sagemath"
  },
  "language_info": {
   "codemirror_mode": {
    "name": "ipython",
    "version": 3
   },
   "file_extension": ".py",
   "mimetype": "text/x-python",
   "name": "python",
   "nbconvert_exporter": "python",
   "pygments_lexer": "ipython3",
   "version": "3.10.6"
  }
 },
 "nbformat": 4,
 "nbformat_minor": 1
}
