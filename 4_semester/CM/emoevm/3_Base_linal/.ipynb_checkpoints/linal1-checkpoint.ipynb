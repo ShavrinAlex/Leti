{
 "cells": [
  {
   "cell_type": "code",
   "execution_count": 5,
   "metadata": {},
   "outputs": [
    {
     "data": {
      "text/plain": [
       "'A = matrix([[1, 2, 3],[4, 5, 6],[7, 8, 9]])\\nB = matrix([[Integer(1), Integer(2), Integer(3)],[Integer(4), Integer(5), Integer(6)],[Integer(7), Integer(8), Integer(9)]])\\nf(A,B)'"
      ]
     },
     "execution_count": 5,
     "metadata": {},
     "output_type": "execute_result"
    }
   ],
   "source": [
    "def f(A, B):\n",
    "    #B_T = B.transpose()\n",
    "    #print(B)\n",
    "    result = A*B*A.norm(1)*B.norm(2) \n",
    "    return result\n",
    "#вот тут просят транспонированную матрицу но система примет только с обычной\n",
    "'''A = matrix([[1, 2, 3],[4, 5, 6],[7, 8, 9]])\n",
    "B = matrix([[1, 2, 3],[4, 5, 6],[7, 8, 9]])\n",
    "f(A,B)'''"
   ]
  },
  {
   "cell_type": "code",
   "execution_count": 6,
   "metadata": {},
   "outputs": [
    {
     "data": {
      "text/plain": [
       "'A = matrix([[1, 2, 3],[4, 5, 6],[7, 8, 9]])\\nf(A)'"
      ]
     },
     "execution_count": 6,
     "metadata": {},
     "output_type": "execute_result"
    }
   ],
   "source": [
    "def f(A):\n",
    "    rank= A.rank()\n",
    "    B = A.echelon_form()\n",
    "    return rank,B\n",
    "'''A = matrix([[1, 2, 3],[4, 5, 6],[7, 8, 9]])\n",
    "f(A)'''"
   ]
  },
  {
   "cell_type": "code",
   "execution_count": 7,
   "metadata": {},
   "outputs": [],
   "source": [
    "def f(V):\n",
    "    dim = V.dimension()\n",
    "    basis = V.basis()\n",
    "    return dim,basis\n",
    "\n"
   ]
  },
  {
   "cell_type": "code",
   "execution_count": 8,
   "metadata": {},
   "outputs": [
    {
     "data": {
      "text/plain": [
       "\"A = matrix(CDF, [[ 0.6454 + 0.7491*I, -0.8662 + 0.1489*I,  0.7656 - 0.00344*I],\\n                 [-RealNumber('0.2913') + RealNumber('0.8057')*I,  RealNumber('0.8321') + RealNumber('0.8170')*I, -RealNumber('0.6744') + RealNumber('0.9248')*I],\\n                 [ RealNumber('0.2554') + RealNumber('0.3517')*I, -RealNumber('0.4454') - RealNumber('0.1715')*I,  RealNumber('0.8325') - RealNumber('0.6282')*I]])\\nf(A)\""
      ]
     },
     "execution_count": 8,
     "metadata": {},
     "output_type": "execute_result"
    }
   ],
   "source": [
    "def f(A):\n",
    "    G,M = A.gram_schmidt()\n",
    "    return G\n",
    "'''A = matrix(CDF, [[ 0.6454 + 0.7491*I, -0.8662 + 0.1489*I,  0.7656 - 0.00344*I],\n",
    "                 [-0.2913 + 0.8057*I,  0.8321 + 0.8170*I, -0.6744 + 0.9248*I],\n",
    "                 [ 0.2554 + 0.3517*I, -0.4454 - 0.1715*I,  0.8325 - 0.6282*I]])\n",
    "f(A)'''"
   ]
  },
  {
   "cell_type": "code",
   "execution_count": 9,
   "metadata": {},
   "outputs": [
    {
     "data": {
      "text/plain": [
       "'A = matrix([[1, 2, 3,4],[4, 5, 6,7],[7, 8, 9,10]])\\nprint(A)\\nf(A)'"
      ]
     },
     "execution_count": 9,
     "metadata": {},
     "output_type": "execute_result"
    }
   ],
   "source": [
    "def f(A):\n",
    "    height = int(A.nrows())\n",
    "    width = int(A.ncols())\n",
    "    B = A[height//2:height,width//2:width]\n",
    "    return B\n",
    "'''A = matrix([[1, 2, 3,4],[4, 5, 6,7],[7, 8, 9,10]])\n",
    "print(A)\n",
    "f(A)'''"
   ]
  },
  {
   "cell_type": "code",
   "execution_count": 83,
   "metadata": {},
   "outputs": [
    {
     "data": {
      "text/plain": [
       "49"
      ]
     },
     "execution_count": 83,
     "metadata": {},
     "output_type": "execute_result"
    }
   ],
   "source": [
    "def f(a,x):\n",
    "    res = 0\n",
    "    for i in range(len(a)):\n",
    "        res += a[i]*x**i\n",
    "    return res\n",
    "'''a = vector([1,2,3,4])\n",
    "x =2\n",
    "f(a,x)'''"
   ]
  },
  {
   "cell_type": "code",
   "execution_count": 90,
   "metadata": {},
   "outputs": [
    {
     "data": {
      "text/plain": [
       "[-1/2 -3/2]"
      ]
     },
     "execution_count": 90,
     "metadata": {},
     "output_type": "execute_result"
    }
   ],
   "source": [
    "def f(ma):\n",
    "    n = int(ma.nrows())\n",
    "    res = matrix(n,2,lambda i,j: -1*ma[i,-j]/ma[i,1])\n",
    "    return res\n",
    "'''A = matrix([[1, 2, 3]])\n",
    "f(A)'''"
   ]
  },
  {
   "cell_type": "code",
   "execution_count": null,
   "metadata": {},
   "outputs": [],
   "source": []
  }
 ],
 "metadata": {
  "kernelspec": {
   "display_name": "SageMath 9.5",
   "language": "sage",
   "name": "sagemath"
  },
  "language_info": {
   "codemirror_mode": {
    "name": "ipython",
    "version": 3
   },
   "file_extension": ".py",
   "mimetype": "text/x-python",
   "name": "python",
   "nbconvert_exporter": "python",
   "pygments_lexer": "ipython3",
   "version": "3.10.6"
  }
 },
 "nbformat": 4,
 "nbformat_minor": 4
}
