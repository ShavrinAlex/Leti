{
 "cells": [
  {
   "cell_type": "markdown",
   "metadata": {},
   "source": [
    "## Основные алгебраические структуры"
   ]
  },
  {
   "cell_type": "markdown",
   "metadata": {},
   "source": [
    "При работе с матрицами, векторами, полиномами и т.д. часто бывает полезно (а иногда и необходимо) задать алгебраическую структуру (кольцо, поле, пространство, алгебру), в которой происходит работа. Основные алгебраические структуры в `Sage` следующие:\n",
    "\n",
    "* `ZZ` или `IntergerRing()` (кольцо целых чисел)\n",
    "* `Zmod(m)` или `IntegerModRing(m)` (кольцо классов вычетов по модулю `m` (если `m` - простое число, то поле))\n",
    "* `QQ` или `RationalField()` (поле рациональных чисел)\n",
    "* `AA` или `AlgebraicRealField()` (поле алгебраических чисел)\n",
    "* `RR` или `RealField()` (поле действительных чисел)\n",
    "* `CC` или `ComplexField()` (поле комплексных чисел)\n",
    "* `GF` или `FiniteField()` (конечные поля, поля Галуа)\n",
    "\n",
    "Эти конструкции позволяют создать алгебраическую структуру (кольцо, поле и т.д.) как объект соответствующего класса в `Sage`. Зафиксировав структуру, можно будет создавать объекты, соответствующие элементам этой структуры. Рассмотрим примеры:"
   ]
  },
  {
   "cell_type": "code",
   "execution_count": 1,
   "metadata": {},
   "outputs": [
    {
     "data": {
      "text/plain": [
       "Rational Field"
      ]
     },
     "execution_count": 1,
     "metadata": {},
     "output_type": "execute_result"
    }
   ],
   "source": [
    "# Объект класса \"поле рациональных чисел\",\n",
    "# то есть мы создаем объект-поле (объект-множество)\n",
    "RationalField()"
   ]
  },
  {
   "cell_type": "code",
   "execution_count": 2,
   "metadata": {},
   "outputs": [
    {
     "data": {
      "text/plain": [
       "Rational Field"
      ]
     },
     "execution_count": 2,
     "metadata": {},
     "output_type": "execute_result"
    }
   ],
   "source": [
    "QQ"
   ]
  },
  {
   "cell_type": "code",
   "execution_count": 3,
   "metadata": {},
   "outputs": [
    {
     "data": {
      "text/plain": [
       "<class 'sage.rings.rational_field.RationalField_with_category'>"
      ]
     },
     "execution_count": 3,
     "metadata": {},
     "output_type": "execute_result"
    }
   ],
   "source": [
    "type(QQ)"
   ]
  },
  {
   "cell_type": "code",
   "execution_count": 4,
   "metadata": {},
   "outputs": [
    {
     "data": {
      "text/plain": [
       "3/4"
      ]
     },
     "execution_count": 4,
     "metadata": {},
     "output_type": "execute_result"
    }
   ],
   "source": [
    "# Объект класса \"рациональное число\"\n",
    "q = QQ(3/4)\n",
    "q"
   ]
  },
  {
   "cell_type": "code",
   "execution_count": 5,
   "metadata": {},
   "outputs": [
    {
     "data": {
      "text/plain": [
       "<class 'sage.rings.rational.Rational'>"
      ]
     },
     "execution_count": 5,
     "metadata": {},
     "output_type": "execute_result"
    }
   ],
   "source": [
    "type(q)"
   ]
  },
  {
   "cell_type": "code",
   "execution_count": 6,
   "metadata": {},
   "outputs": [
    {
     "data": {
      "text/plain": [
       "True"
      ]
     },
     "execution_count": 6,
     "metadata": {},
     "output_type": "execute_result"
    }
   ],
   "source": [
    "1/2 in QQ"
   ]
  },
  {
   "cell_type": "code",
   "execution_count": 7,
   "metadata": {},
   "outputs": [
    {
     "data": {
      "text/plain": [
       "True"
      ]
     },
     "execution_count": 7,
     "metadata": {},
     "output_type": "execute_result"
    }
   ],
   "source": [
    "1.2 in QQ"
   ]
  },
  {
   "cell_type": "code",
   "execution_count": 8,
   "metadata": {},
   "outputs": [
    {
     "data": {
      "text/plain": [
       "False"
      ]
     },
     "execution_count": 8,
     "metadata": {},
     "output_type": "execute_result"
    }
   ],
   "source": [
    "pi in QQ"
   ]
  },
  {
   "cell_type": "code",
   "execution_count": 9,
   "metadata": {},
   "outputs": [
    {
     "data": {
      "text/plain": [
       "True"
      ]
     },
     "execution_count": 9,
     "metadata": {},
     "output_type": "execute_result"
    }
   ],
   "source": [
    "pi in RR"
   ]
  },
  {
   "cell_type": "code",
   "execution_count": 10,
   "metadata": {},
   "outputs": [
    {
     "data": {
      "text/plain": [
       "False"
      ]
     },
     "execution_count": 10,
     "metadata": {},
     "output_type": "execute_result"
    }
   ],
   "source": [
    "pi in AA"
   ]
  },
  {
   "cell_type": "code",
   "execution_count": 11,
   "metadata": {
    "scrolled": true
   },
   "outputs": [
    {
     "data": {
      "text/plain": [
       "True"
      ]
     },
     "execution_count": 11,
     "metadata": {},
     "output_type": "execute_result"
    }
   ],
   "source": [
    "sqrt(2) in AA"
   ]
  },
  {
   "cell_type": "code",
   "execution_count": 12,
   "metadata": {},
   "outputs": [
    {
     "data": {
      "text/plain": [
       "True"
      ]
     },
     "execution_count": 12,
     "metadata": {},
     "output_type": "execute_result"
    }
   ],
   "source": [
    "reset('i') # Возвращаем переменной i стандартное значение\n",
    "i in CC"
   ]
  },
  {
   "cell_type": "markdown",
   "metadata": {},
   "source": [
    "Построим линейное пространство матриц над полем вычетов по модулю 17 и алгебру квадратных матриц:"
   ]
  },
  {
   "cell_type": "code",
   "execution_count": 13,
   "metadata": {},
   "outputs": [],
   "source": [
    "# Поле вычетов по модулю 17\n",
    "Z_17 = IntegerModRing(17)\n",
    "\n",
    "# Линейное пространство матриц 5x7 (Z_17 - поле)\n",
    "MS = MatrixSpace(Z_17, 5, 7)\n",
    "\n",
    "# Алгебра матриц 3x3 (ZZ - кольцо)\n",
    "squareMS = MatrixSpace(ZZ, 4)"
   ]
  },
  {
   "cell_type": "markdown",
   "metadata": {},
   "source": [
    "Следующие две команды задают множества полиномов с рациональными коэффициентами и вещественными коэффициентами соответственно. Множества названы `ratpoly` и `realpoly`, но это не столь важно в данном контексте, однако символьные сочетания `.<t>` и `.<z>` являются названиями переменных, использованных в двух случаях."
   ]
  },
  {
   "cell_type": "code",
   "execution_count": 14,
   "metadata": {},
   "outputs": [],
   "source": [
    "# Q[t] - кольцо полиномов над полем рациональных чисел с переменной t\n",
    "ratpoly.<t> = PolynomialRing(QQ)\n",
    "\n",
    "# R[z] - кольцо полиномов над полем действительных чисел с переменной z\n",
    "realpoly.<z> = PolynomialRing(RR)"
   ]
  },
  {
   "cell_type": "markdown",
   "metadata": {},
   "source": [
    "Для примера факторизуем полином $ x^2 - 2 $:"
   ]
  },
  {
   "cell_type": "code",
   "execution_count": 15,
   "metadata": {},
   "outputs": [
    {
     "data": {
      "text/plain": [
       "t^2 - 2"
      ]
     },
     "execution_count": 15,
     "metadata": {},
     "output_type": "execute_result"
    }
   ],
   "source": [
    "factor(t^2 - 2) # Над полем рациональных чисел"
   ]
  },
  {
   "cell_type": "code",
   "execution_count": 16,
   "metadata": {},
   "outputs": [
    {
     "data": {
      "text/plain": [
       "(z - 1.41421356237310) * (z + 1.41421356237310)"
      ]
     },
     "execution_count": 16,
     "metadata": {},
     "output_type": "execute_result"
    }
   ],
   "source": [
    "factor(z^2 - 2) # Над полем действительных чисел"
   ]
  },
  {
   "cell_type": "markdown",
   "metadata": {},
   "source": [
    "Приведем также список небольших хорошо известных групп перестановок (более подробно они будут рассмотрены в разделе \"Теория групп\"):\n",
    "\n",
    "* `SymmetricGroup(n)`: все $ n! $ перестановок $ n $ элементов.\n",
    "* `DihedralGroup(n)`: группа симметрии правильного $ n $-угольника. Вращения и осевые симметрии, всего $ 2n $ перестановок.\n",
    "* `CyclicPermutationGroup(n)`: вращения правильного $ n $-угольник, всего $ n $ перестановок.\n",
    "* `AlternatingGroup(n)`: знакопеременная группа $ n $ элементов, всего $ \\frac{n!}{2} $ перестановок. \n",
    "\n",
    "Мы можете найти больше групп в файле с исходным кодом `SAGE_ROOT/src/sage/groups/perm_gps/permgroup_named.py`"
   ]
  }
 ],
 "metadata": {
  "kernelspec": {
   "display_name": "SageMath 9.0",
   "language": "sage",
   "name": "sagemath"
  },
  "language_info": {
   "codemirror_mode": {
    "name": "ipython",
    "version": 3
   },
   "file_extension": ".py",
   "mimetype": "text/x-python",
   "name": "python",
   "nbconvert_exporter": "python",
   "pygments_lexer": "ipython3",
   "version": "3.8.5"
  }
 },
 "nbformat": 4,
 "nbformat_minor": 4
}
