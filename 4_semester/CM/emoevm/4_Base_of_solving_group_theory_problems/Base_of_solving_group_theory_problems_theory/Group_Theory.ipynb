{
 "cells": [
  {
   "cell_type": "markdown",
   "metadata": {},
   "source": [
    "## Теория групп\n",
    "---"
   ]
  },
  {
   "cell_type": "markdown",
   "metadata": {},
   "source": [
    "`Sage` умеет работать с группами перестановок, классическими конечными группами (например, специальными унитарными группами $ \\textbf{SU}_n $), конечными матричными группами, а также абелевыми группами (включая бесконечные).\n",
    "\n",
    "Группы могут быть описаны множеством различных способов, например, наборами матриц или наборами символов, подчиняющихся нескольким определяющим отношениям. Очень конкретный способ представления групп - это перестановки с использованием композиции функций в качестве операции в группе. У Sage есть множество функций, разработанных для работы с группами этого типа, и они также являются хорошим способом получить опыт работы с основными идеями теории групп. По обеим этим причинам мы сконцентрируемся на этих типах групп."
   ]
  },
  {
   "cell_type": "markdown",
   "metadata": {},
   "source": [
    "### Группы перестановок"
   ]
  },
  {
   "cell_type": "markdown",
   "metadata": {},
   "source": [
    "В `Sage` перестановки записываются в виде разложения на независимые циклы. Умножение перестановок по умолчанию производится слева направо. Записать перестановку $ \\sigma = (1 3)(2 5 4) $ можно двумя способами:\n",
    "\n",
    "* в виде текстовой строки: `\"(1, 4)(3, 2, 6)\"`\n",
    "* в виде списка наборов: `[(1, 4), (3, 2, 6)]`"
   ]
  },
  {
   "cell_type": "markdown",
   "metadata": {},
   "source": [
    "Вся симметрическая группа $ \\textbf{S}_n $ может быть построена командой `SymmetricGroup(n)`. Используя объект, задающий группу, можно конструировать ее элементы:"
   ]
  },
  {
   "cell_type": "code",
   "execution_count": 1,
   "metadata": {},
   "outputs": [
    {
     "data": {
      "text/plain": [
       "1"
      ]
     },
     "execution_count": 1,
     "metadata": {},
     "output_type": "execute_result"
    }
   ],
   "source": [
    "S_5 = SymmetricGroup(5)\n",
    "sigma = S_5([(1, 5), (3, 2, 4)])\n",
    "omega = S_5(\"(1, 4)(2, 5)\")\n",
    "sigma(5) # применяем преобразование к элементу 5"
   ]
  },
  {
   "cell_type": "code",
   "execution_count": 2,
   "metadata": {},
   "outputs": [
    {
     "data": {
      "text/plain": [
       "3"
      ]
     },
     "execution_count": 2,
     "metadata": {},
     "output_type": "execute_result"
    }
   ],
   "source": [
    "omega(3)"
   ]
  },
  {
   "cell_type": "code",
   "execution_count": 3,
   "metadata": {},
   "outputs": [
    {
     "data": {
      "text/plain": [
       "(1,4)(3,5)"
      ]
     },
     "execution_count": 3,
     "metadata": {},
     "output_type": "execute_result"
    }
   ],
   "source": [
    "sigma^(-1) * omega * sigma"
   ]
  },
  {
   "cell_type": "code",
   "execution_count": 4,
   "metadata": {},
   "outputs": [
    {
     "data": {
      "text/plain": [
       "<class 'sage.groups.perm_gps.permgroup_named.SymmetricGroup_with_category'>"
      ]
     },
     "execution_count": 4,
     "metadata": {},
     "output_type": "execute_result"
    }
   ],
   "source": [
    "type(S_5)"
   ]
  },
  {
   "cell_type": "code",
   "execution_count": 5,
   "metadata": {},
   "outputs": [
    {
     "data": {
      "text/plain": [
       "<class 'sage.groups.perm_gps.permgroup_element.SymmetricGroupElement'>"
      ]
     },
     "execution_count": 5,
     "metadata": {},
     "output_type": "execute_result"
    }
   ],
   "source": [
    "type(sigma)"
   ]
  },
  {
   "cell_type": "markdown",
   "metadata": {},
   "source": [
    "### Функции/методы групп"
   ]
  },
  {
   "cell_type": "markdown",
   "metadata": {},
   "source": [
    "С помощью методов `order()` и `sign()` можно найти порядок и знак перестановки соответственно:"
   ]
  },
  {
   "cell_type": "code",
   "execution_count": 6,
   "metadata": {},
   "outputs": [
    {
     "data": {
      "text/plain": [
       "30"
      ]
     },
     "execution_count": 6,
     "metadata": {},
     "output_type": "execute_result"
    }
   ],
   "source": [
    "S_11 = SymmetricGroup(11)\n",
    "sigma = S_11(\"(1, 3)(2, 5, 7)(4, 6, 8, 11, 9)\")\n",
    "sigma.order() # НОК(2, 3, 5) = 30"
   ]
  },
  {
   "cell_type": "code",
   "execution_count": 7,
   "metadata": {},
   "outputs": [
    {
     "data": {
      "text/plain": [
       "-1"
      ]
     },
     "execution_count": 7,
     "metadata": {},
     "output_type": "execute_result"
    }
   ],
   "source": [
    "# Знак перестановки определятеся формулой (-1)^(n - k), где\n",
    "# n - число элементов в текущей перестановке (не в самой группе!),\n",
    "# k - кол-во независимых циклов.\n",
    "sigma.sign() "
   ]
  },
  {
   "cell_type": "markdown",
   "metadata": {},
   "source": [
    "Произвольную подгруппу в группе $ \\textbf{S}_n $ можно задать с помощью функции `PermutationGroup`, которая принимает на вход список образующих элементов:"
   ]
  },
  {
   "cell_type": "code",
   "execution_count": 2,
   "metadata": {},
   "outputs": [
    {
     "data": {
      "text/plain": [
       "Permutation Group with generators [(3,4), (1,2,3)(4,5)]"
      ]
     },
     "execution_count": 2,
     "metadata": {},
     "output_type": "execute_result"
    }
   ],
   "source": [
    "PG = PermutationGroup([\"(3, 4)\", \"(1, 2, 3)(4, 5)\"])\n",
    "PG"
   ]
  },
  {
   "cell_type": "code",
   "execution_count": 9,
   "metadata": {},
   "outputs": [
    {
     "data": {
      "text/plain": [
       "(3,4)"
      ]
     },
     "execution_count": 9,
     "metadata": {},
     "output_type": "execute_result"
    }
   ],
   "source": [
    "first_gen = PG.gen(0)\n",
    "first_gen # Первый образующий элемент"
   ]
  },
  {
   "cell_type": "code",
   "execution_count": 10,
   "metadata": {},
   "outputs": [
    {
     "data": {
      "text/plain": [
       "(1,2,3)(4,5)"
      ]
     },
     "execution_count": 10,
     "metadata": {},
     "output_type": "execute_result"
    }
   ],
   "source": [
    "PG.gen(1) # Второй образующий элемент"
   ]
  },
  {
   "cell_type": "code",
   "execution_count": 11,
   "metadata": {},
   "outputs": [
    {
     "data": {
      "text/plain": [
       "120"
      ]
     },
     "execution_count": 11,
     "metadata": {},
     "output_type": "execute_result"
    }
   ],
   "source": [
    "PG.order() # Порядок порожденной группы"
   ]
  },
  {
   "cell_type": "code",
   "execution_count": 12,
   "metadata": {},
   "outputs": [
    {
     "data": {
      "text/plain": [
       "False"
      ]
     },
     "execution_count": 12,
     "metadata": {},
     "output_type": "execute_result"
    }
   ],
   "source": [
    "PG.is_abelian() # Является ли порожденная группа абелевой"
   ]
  },
  {
   "cell_type": "code",
   "execution_count": 13,
   "metadata": {},
   "outputs": [
    {
     "data": {
      "text/plain": [
       "Subgroup generated by [()] of (Permutation Group with generators [(3,4), (1,2,3)(4,5)])"
      ]
     },
     "execution_count": 13,
     "metadata": {},
     "output_type": "execute_result"
    }
   ],
   "source": [
    "PG.center() # Центр полученной группы"
   ]
  },
  {
   "cell_type": "code",
   "execution_count": 14,
   "metadata": {},
   "outputs": [
    {
     "data": {
      "text/plain": [
       "[()]"
      ]
     },
     "execution_count": 14,
     "metadata": {},
     "output_type": "execute_result"
    }
   ],
   "source": [
    "PG.center().list()"
   ]
  },
  {
   "cell_type": "code",
   "execution_count": 15,
   "metadata": {},
   "outputs": [
    {
     "data": {
      "text/plain": [
       "(1,3)(4,5)"
      ]
     },
     "execution_count": 15,
     "metadata": {},
     "output_type": "execute_result"
    }
   ],
   "source": [
    "PG.random_element() # Случайный элемент группы"
   ]
  },
  {
   "cell_type": "code",
   "execution_count": 16,
   "metadata": {},
   "outputs": [
    {
     "data": {
      "text/plain": [
       "[(),\n",
       " (1,3,2)(4,5),\n",
       " (1,4,5,3,2),\n",
       " (1,2,3),\n",
       " (1,5,2,3),\n",
       " (2,4),\n",
       " (1,3,2,5,4),\n",
       " (1,4)(2,5,3),\n",
       " (1,2,4,3),\n",
       " (1,5,2,4,3),\n",
       " (2,3,4),\n",
       " (1,3,5,4),\n",
       " (1,4)(3,5),\n",
       " (1,2)(3,4),\n",
       " (1,5,2)(3,4),\n",
       " (2,5,3,4),\n",
       " (1,3,5,2,4),\n",
       " (1,4)(2,3,5),\n",
       " (1,2,5)(3,4),\n",
       " (1,5)(3,4),\n",
       " (3,4),\n",
       " (1,3,5,4,2),\n",
       " (1,4,2)(3,5),\n",
       " (1,2,3,4),\n",
       " (1,5,2,3,4),\n",
       " (2,4,3),\n",
       " (1,3)(2,5,4),\n",
       " (1,4,2,5,3),\n",
       " (1,2,4),\n",
       " (1,5,2,4),\n",
       " (2,3),\n",
       " (1,3)(4,5),\n",
       " (1,4,5,3),\n",
       " (1,2),\n",
       " (1,5,2),\n",
       " (2,5,3),\n",
       " (1,3)(2,4,5),\n",
       " (1,4,5,2,3),\n",
       " (1,2,5),\n",
       " (1,5),\n",
       " (3,5),\n",
       " (1,3,4,5,2),\n",
       " (1,4,5,2),\n",
       " (1,2,3,5),\n",
       " (1,5)(2,3),\n",
       " (2,4)(3,5),\n",
       " (1,3,4)(2,5),\n",
       " (1,4)(2,5),\n",
       " (1,2,4,3,5),\n",
       " (1,5)(2,4,3),\n",
       " (2,3,5,4),\n",
       " (1,3,4),\n",
       " (1,4),\n",
       " (1,2)(3,5,4),\n",
       " (1,5,4,3,2),\n",
       " (2,5,4),\n",
       " (1,3,2,4),\n",
       " (1,4)(2,3),\n",
       " (1,2,5,4,3),\n",
       " (1,5,4,3),\n",
       " (4,5),\n",
       " (1,3,2),\n",
       " (1,4,3,2),\n",
       " (1,2,3)(4,5),\n",
       " (1,5,4,2,3),\n",
       " (2,4,5),\n",
       " (1,3,2,5),\n",
       " (1,4,3,2,5),\n",
       " (1,2,4,5,3),\n",
       " (1,5,3)(2,4),\n",
       " (2,3,4,5),\n",
       " (1,3,5),\n",
       " (1,4,3,5),\n",
       " (1,2)(3,4,5),\n",
       " (1,5,3,4,2),\n",
       " (2,5)(3,4),\n",
       " (1,3,5)(2,4),\n",
       " (1,4,2,3,5),\n",
       " (1,2,5,3,4),\n",
       " (1,5,3,4),\n",
       " (3,4,5),\n",
       " (1,3,5,2),\n",
       " (1,4,3,5,2),\n",
       " (1,2,3,4,5),\n",
       " (1,5)(2,3,4),\n",
       " (2,4,5,3),\n",
       " (1,3)(2,5),\n",
       " (1,4,3)(2,5),\n",
       " (1,2,4,5),\n",
       " (1,5)(2,4),\n",
       " (2,3)(4,5),\n",
       " (1,3),\n",
       " (1,4,3),\n",
       " (1,2)(4,5),\n",
       " (1,5,4,2),\n",
       " (2,5,4,3),\n",
       " (1,3)(2,4),\n",
       " (1,4,2,3),\n",
       " (1,2,5,4),\n",
       " (1,5,4),\n",
       " (3,5,4),\n",
       " (1,3,4,2),\n",
       " (1,4,2),\n",
       " (1,2,3,5,4),\n",
       " (1,5,4)(2,3),\n",
       " (2,4,3,5),\n",
       " (1,3,4,2,5),\n",
       " (1,4,2,5),\n",
       " (1,2,4)(3,5),\n",
       " (1,5,3,2,4),\n",
       " (2,3,5),\n",
       " (1,3,4,5),\n",
       " (1,4,5),\n",
       " (1,2)(3,5),\n",
       " (1,5,3,2),\n",
       " (2,5),\n",
       " (1,3,2,4,5),\n",
       " (1,4,5)(2,3),\n",
       " (1,2,5,3),\n",
       " (1,5,3)]"
      ]
     },
     "execution_count": 16,
     "metadata": {},
     "output_type": "execute_result"
    }
   ],
   "source": [
    "PG.list() # Список всех элементов полученной группы"
   ]
  },
  {
   "cell_type": "code",
   "execution_count": 17,
   "metadata": {},
   "outputs": [
    {
     "data": {
      "text/plain": [
       "True"
      ]
     },
     "execution_count": 17,
     "metadata": {},
     "output_type": "execute_result"
    }
   ],
   "source": [
    "H = PermutationGroup([\"(1, 2)\", \"(3, 4)\"])\n",
    "H.is_abelian()"
   ]
  },
  {
   "cell_type": "code",
   "execution_count": 18,
   "metadata": {},
   "outputs": [
    {
     "data": {
      "text/plain": [
       "[(), (3,4), (1,2), (1,2)(3,4)]"
      ]
     },
     "execution_count": 18,
     "metadata": {},
     "output_type": "execute_result"
    }
   ],
   "source": [
    "H.list() # Список элементов группы "
   ]
  },
  {
   "cell_type": "code",
   "execution_count": 19,
   "metadata": {},
   "outputs": [
    {
     "data": {
      "text/plain": [
       "*  a b c d\n",
       " +--------\n",
       "a| a b c d\n",
       "b| b a d c\n",
       "c| c d a b\n",
       "d| d c b a\n"
      ]
     },
     "execution_count": 19,
     "metadata": {},
     "output_type": "execute_result"
    }
   ],
   "source": [
    "H.cayley_table() # Таблица Кэли для данной группы"
   ]
  },
  {
   "cell_type": "code",
   "execution_count": 20,
   "metadata": {},
   "outputs": [
    {
     "data": {
      "text/plain": [
       "[(), (3,4), (1,2), (1,2)(3,4)]"
      ]
     },
     "execution_count": 20,
     "metadata": {},
     "output_type": "execute_result"
    }
   ],
   "source": [
    "H.center().list() # Список центральных элементов группы"
   ]
  },
  {
   "cell_type": "markdown",
   "metadata": {},
   "source": [
    "Давайте повеселимся (или погрустим) и построим граф Кэли для группы:"
   ]
  },
  {
   "cell_type": "code",
   "execution_count": 21,
   "metadata": {
    "scrolled": false
   },
   "outputs": [
    {
     "data": {
      "image/png": "[encoded data removed]",
      "text/plain": [
       "Graphics object consisting of 16 graphics primitives"
      ]
     },
     "metadata": {},
     "output_type": "display_data"
    }
   ],
   "source": [
    "show(H.cayley_graph())"
   ]
  },
  {
   "cell_type": "code",
   "execution_count": 22,
   "metadata": {
    "scrolled": true
   },
   "outputs": [
    {
     "data": {
      "image/png": "[encoded data removed]",
      "text/plain": [
       "Graphics object consisting of 32 graphics primitives"
      ]
     },
     "metadata": {},
     "output_type": "display_data"
    }
   ],
   "source": [
    "PermutationGroup([\"(1, 2)\", \"(2, 3)(1, 4)\"]).cayley_graph().show()"
   ]
  },
  {
   "cell_type": "markdown",
   "metadata": {},
   "source": [
    "### Циклические подгруппы"
   ]
  },
  {
   "cell_type": "markdown",
   "metadata": {},
   "source": [
    "Если `G` - это группа и `a` - элемент этой группы, тогда следующие команды:"
   ]
  },
  {
   "cell_type": "code",
   "execution_count": 23,
   "metadata": {},
   "outputs": [],
   "source": [
    "G = SymmetricGroup(5)\n",
    "a = G.random_element()\n",
    "H = G.subgroup([a])"
   ]
  },
  {
   "cell_type": "markdown",
   "metadata": {},
   "source": [
    "создадут `H` как циклическую подгруппу группы `G`, порожденную элементом `a`. "
   ]
  },
  {
   "cell_type": "markdown",
   "metadata": {},
   "source": [
    "Для примера, код ниже выполнит следующее:\n",
    "1. Создаст симметрическую группу из 5-ти элементов `G`;\n",
    "2. Определит `sigma` как элемент группы `G`;\n",
    "3. Воспользуется `sigma` как порождающим элементом для циклической подгруппы `H`;\n",
    "4. Выведет все элементы `H`."
   ]
  },
  {
   "cell_type": "code",
   "execution_count": 24,
   "metadata": {
    "scrolled": true
   },
   "outputs": [
    {
     "data": {
      "text/plain": [
       "[(), (1,2,3)(4,5), (1,3,2), (4,5), (1,2,3), (1,3,2)(4,5)]"
      ]
     },
     "execution_count": 24,
     "metadata": {},
     "output_type": "execute_result"
    }
   ],
   "source": [
    "G = SymmetricGroup(5)\n",
    "sigma = G(\"(1, 2, 3) (4, 5)\")\n",
    "H = G.subgroup([sigma])\n",
    "H.list()"
   ]
  },
  {
   "cell_type": "markdown",
   "metadata": {},
   "source": [
    "### Циклические группы"
   ]
  },
  {
   "cell_type": "markdown",
   "metadata": {},
   "source": [
    "Группы, которые сами по себе являются циклическими, важны и богаты по своей структуре. Команда `CyclicPermutationGroup(n)` создаст группу перестановок, которая является циклической с `n` элементами. Рассмотрим следующий пример, в котором будут перечислены элементы циклической группы порядка 20, которым предшествует порядок каждого элемента."
   ]
  },
  {
   "cell_type": "code",
   "execution_count": 25,
   "metadata": {},
   "outputs": [
    {
     "name": "stdout",
     "output_type": "stream",
     "text": [
      "1\t()\n",
      "20\t(1,2,3,4,5,6,7,8,9,10,11,12,13,14,15,16,17,18,19,20)\n",
      "10\t(1,3,5,7,9,11,13,15,17,19)(2,4,6,8,10,12,14,16,18,20)\n",
      "20\t(1,4,7,10,13,16,19,2,5,8,11,14,17,20,3,6,9,12,15,18)\n",
      "5\t(1,5,9,13,17)(2,6,10,14,18)(3,7,11,15,19)(4,8,12,16,20)\n",
      "4\t(1,6,11,16)(2,7,12,17)(3,8,13,18)(4,9,14,19)(5,10,15,20)\n",
      "10\t(1,7,13,19,5,11,17,3,9,15)(2,8,14,20,6,12,18,4,10,16)\n",
      "20\t(1,8,15,2,9,16,3,10,17,4,11,18,5,12,19,6,13,20,7,14)\n",
      "5\t(1,9,17,5,13)(2,10,18,6,14)(3,11,19,7,15)(4,12,20,8,16)\n",
      "20\t(1,10,19,8,17,6,15,4,13,2,11,20,9,18,7,16,5,14,3,12)\n",
      "2\t(1,11)(2,12)(3,13)(4,14)(5,15)(6,16)(7,17)(8,18)(9,19)(10,20)\n",
      "20\t(1,12,3,14,5,16,7,18,9,20,11,2,13,4,15,6,17,8,19,10)\n",
      "5\t(1,13,5,17,9)(2,14,6,18,10)(3,15,7,19,11)(4,16,8,20,12)\n",
      "20\t(1,14,7,20,13,6,19,12,5,18,11,4,17,10,3,16,9,2,15,8)\n",
      "10\t(1,15,9,3,17,11,5,19,13,7)(2,16,10,4,18,12,6,20,14,8)\n",
      "4\t(1,16,11,6)(2,17,12,7)(3,18,13,8)(4,19,14,9)(5,20,15,10)\n",
      "5\t(1,17,13,9,5)(2,18,14,10,6)(3,19,15,11,7)(4,20,16,12,8)\n",
      "20\t(1,18,15,12,9,6,3,20,17,14,11,8,5,2,19,16,13,10,7,4)\n",
      "10\t(1,19,17,15,13,11,9,7,5,3)(2,20,18,16,14,12,10,8,6,4)\n",
      "20\t(1,20,19,18,17,16,15,14,13,12,11,10,9,8,7,6,5,4,3,2)\n"
     ]
    }
   ],
   "source": [
    "n = 20\n",
    "CPG = CyclicPermutationGroup(n)\n",
    "for g in CPG:\n",
    "    print(\"{}\\t{}\".format(g.order(), g))"
   ]
  },
  {
   "cell_type": "markdown",
   "metadata": {},
   "source": [
    "Немного изменим предыдущий код:"
   ]
  },
  {
   "cell_type": "code",
   "execution_count": 26,
   "metadata": {},
   "outputs": [
    {
     "name": "stdout",
     "output_type": "stream",
     "text": [
      "1\t()\n",
      "17\t(1,2,3,4,5,6,7,8,9,10,11,12,13,14,15,16,17)\n",
      "17\t(1,3,5,7,9,11,13,15,17,2,4,6,8,10,12,14,16)\n",
      "17\t(1,4,7,10,13,16,2,5,8,11,14,17,3,6,9,12,15)\n",
      "17\t(1,5,9,13,17,4,8,12,16,3,7,11,15,2,6,10,14)\n",
      "17\t(1,6,11,16,4,9,14,2,7,12,17,5,10,15,3,8,13)\n",
      "17\t(1,7,13,2,8,14,3,9,15,4,10,16,5,11,17,6,12)\n",
      "17\t(1,8,15,5,12,2,9,16,6,13,3,10,17,7,14,4,11)\n",
      "17\t(1,9,17,8,16,7,15,6,14,5,13,4,12,3,11,2,10)\n",
      "17\t(1,10,2,11,3,12,4,13,5,14,6,15,7,16,8,17,9)\n",
      "17\t(1,11,4,14,7,17,10,3,13,6,16,9,2,12,5,15,8)\n",
      "17\t(1,12,6,17,11,5,16,10,4,15,9,3,14,8,2,13,7)\n",
      "17\t(1,13,8,3,15,10,5,17,12,7,2,14,9,4,16,11,6)\n",
      "17\t(1,14,10,6,2,15,11,7,3,16,12,8,4,17,13,9,5)\n",
      "17\t(1,15,12,9,6,3,17,14,11,8,5,2,16,13,10,7,4)\n",
      "17\t(1,16,14,12,10,8,6,4,2,17,15,13,11,9,7,5,3)\n",
      "17\t(1,17,16,15,14,13,12,11,10,9,8,7,6,5,4,3,2)\n"
     ]
    }
   ],
   "source": [
    "n = 17\n",
    "CPG = CyclicPermutationGroup(n)\n",
    "for g in CPG:\n",
    "    print(\"{}\\t{}\".format(g.order(), g))"
   ]
  },
  {
   "cell_type": "markdown",
   "metadata": {},
   "source": [
    "Как Вы думаете, почему порядки элементов из циклической группы (кроме нейтрального) в предыдущем примере были разными, а во втором случае - нет?"
   ]
  },
  {
   "cell_type": "markdown",
   "metadata": {},
   "source": [
    "Теперь попробуем сконструировать подгруппу исходной циклической группы и посмотреть её элементы:"
   ]
  },
  {
   "cell_type": "code",
   "execution_count": 27,
   "metadata": {},
   "outputs": [
    {
     "data": {
      "text/plain": [
       "[(),\n",
       " (1,17,13,9,5)(2,18,14,10,6)(3,19,15,11,7)(4,20,16,12,8),\n",
       " (1,13,5,17,9)(2,14,6,18,10)(3,15,7,19,11)(4,16,8,20,12),\n",
       " (1,9,17,5,13)(2,10,18,6,14)(3,11,19,7,15)(4,12,20,8,16),\n",
       " (1,5,9,13,17)(2,6,10,14,18)(3,7,11,15,19)(4,8,12,16,20)]"
      ]
     },
     "execution_count": 27,
     "metadata": {},
     "output_type": "execute_result"
    }
   ],
   "source": [
    "C20 = CyclicPermutationGroup(20)\n",
    "elem = C20(\"(1,17,13,9,5)(2,18,14,10,6)(3,19,15,11,7)(4,20,16,12,8)\")\n",
    "H = C20.subgroup([elem])\n",
    "H.list()"
   ]
  },
  {
   "cell_type": "markdown",
   "metadata": {},
   "source": [
    "### Нормальные подгруппы"
   ]
  },
  {
   "cell_type": "code",
   "execution_count": 28,
   "metadata": {
    "scrolled": true
   },
   "outputs": [
    {
     "data": {
      "text/plain": [
       "[(),\n",
       " (1,5,4,3,2),\n",
       " (1,4,5,3,2),\n",
       " (1,3,2),\n",
       " (1,2,5,4,3),\n",
       " (2,4,5),\n",
       " (1,5)(2,3),\n",
       " (1,4,3,2,5),\n",
       " (1,3,2,4,5),\n",
       " (1,2,3),\n",
       " (2,3,5),\n",
       " (1,5)(3,4),\n",
       " (1,4,5),\n",
       " (1,3,5),\n",
       " (1,2)(3,4),\n",
       " (2,5,4),\n",
       " (1,5,3,2,4),\n",
       " (1,4)(2,3),\n",
       " (1,3,2,5,4),\n",
       " (1,2,4,5,3),\n",
       " (3,5,4),\n",
       " (1,5,3,4,2),\n",
       " (1,4,2),\n",
       " (1,3,5,4,2),\n",
       " (1,2,5,3,4),\n",
       " (2,4,3),\n",
       " (1,5,4,2,3),\n",
       " (1,4,2,5,3),\n",
       " (1,3)(2,4),\n",
       " (1,2,3,5,4),\n",
       " (2,3)(4,5),\n",
       " (1,5,3),\n",
       " (1,4,3),\n",
       " (1,3)(4,5),\n",
       " (1,2)(3,5),\n",
       " (2,5)(3,4),\n",
       " (1,5)(2,4),\n",
       " (1,4,2,3,5),\n",
       " (1,3,4,2,5),\n",
       " (1,2,4),\n",
       " (3,4,5),\n",
       " (1,5,2),\n",
       " (1,4,3,5,2),\n",
       " (1,3,4,5,2),\n",
       " (1,2,5),\n",
       " (2,4)(3,5),\n",
       " (1,5,2,3,4),\n",
       " (1,4)(2,5),\n",
       " (1,3,5,2,4),\n",
       " (1,2,3,4,5),\n",
       " (2,3,4),\n",
       " (1,5,4),\n",
       " (1,4)(3,5),\n",
       " (1,3,4),\n",
       " (1,2)(4,5),\n",
       " (2,5,3),\n",
       " (1,5,2,4,3),\n",
       " (1,4,5,2,3),\n",
       " (1,3)(2,5),\n",
       " (1,2,4,3,5)]"
      ]
     },
     "execution_count": 28,
     "metadata": {},
     "output_type": "execute_result"
    }
   ],
   "source": [
    "AlternatingGroup(5).list()"
   ]
  },
  {
   "cell_type": "markdown",
   "metadata": {},
   "source": [
    "Код ниже:\n",
    "1. Создает $ A_4 $ (знакопеременную группу порядка 4);\n",
    "2. Определяет три элемента этой группы;\n",
    "3. Использует эти три элемента, чтобы сгенерирровать подгруппу;\n",
    "4. Иллюстрирует метод `is_normal(your_group)`, который проверяет, является ли подгруппа `H` нормальной подгруппой группы `A4`."
   ]
  },
  {
   "cell_type": "code",
   "execution_count": 29,
   "metadata": {},
   "outputs": [
    {
     "data": {
      "text/plain": [
       "True"
      ]
     },
     "execution_count": 29,
     "metadata": {},
     "output_type": "execute_result"
    }
   ],
   "source": [
    "A4 = AlternatingGroup(4)\n",
    "e1 = A4(\"(1,2) (3,4)\")\n",
    "e2 = A4(\"(1,3) (2,4)\")\n",
    "e3 = A4(\"(1,4) (2,3)\")\n",
    "H = A4.subgroup([e1, e2, e3])\n",
    "H.is_normal(A4)"
   ]
  },
  {
   "cell_type": "markdown",
   "metadata": {},
   "source": [
    "### Факторгруппы"
   ]
  },
  {
   "cell_type": "markdown",
   "metadata": {},
   "source": [
    "Воспользуемся последним примером, чтобы создать факторгруппу группы `A4` по нормальной подгруппе `H`. Выполним следующие команды:"
   ]
  },
  {
   "cell_type": "code",
   "execution_count": 8,
   "metadata": {},
   "outputs": [
    {
     "name": "stdout",
     "output_type": "stream",
     "text": [
      "H = [(), (1,2)(3,4), (1,3)(2,4), (1,4)(2,3)]\n",
      "F = [(), (1,2,3), (1,3,2)]\n"
     ]
    }
   ],
   "source": [
    "A4 = AlternatingGroup(4)\n",
    "e1 = A4(\"(1,2) (3,4)\")\n",
    "e2 = A4(\"(1,3) (2,4)\")\n",
    "e3 = A4(\"(1,4) (2,3)\")\n",
    "H = A4.subgroup([e1, e2, e3]) # H - нормальная подгруппа\n",
    "print(\"H =\", H.list())\n",
    "F = A4.quotient(H)\n",
    "print(\"F =\", F.list())"
   ]
  },
  {
   "cell_type": "code",
   "execution_count": 31,
   "metadata": {},
   "outputs": [
    {
     "data": {
      "text/plain": [
       "True"
      ]
     },
     "execution_count": 31,
     "metadata": {},
     "output_type": "execute_result"
    }
   ],
   "source": [
    "# Порядок факторгруппы должен равняться индексу подгруппы\n",
    "F.order() == A4.order() / H.order()"
   ]
  },
  {
   "cell_type": "markdown",
   "metadata": {},
   "source": [
    "Обратите внимание, что мы не получили группу фактических смежных классов, но вместо этого мы получаем группу, _изоморфную_ факторгруппе."
   ]
  },
  {
   "cell_type": "markdown",
   "metadata": {},
   "source": [
    "### Простые группы"
   ]
  },
  {
   "cell_type": "markdown",
   "metadata": {},
   "source": [
    "С помощью метода `is_simple()` можно проверить, является ли группа простой (то есть не имеет нормальных подгрупп, отличных от всей группы и единичной подгруппы):"
   ]
  },
  {
   "cell_type": "code",
   "execution_count": 32,
   "metadata": {},
   "outputs": [
    {
     "data": {
      "text/plain": [
       "True"
      ]
     },
     "execution_count": 32,
     "metadata": {},
     "output_type": "execute_result"
    }
   ],
   "source": [
    "AlternatingGroup(5).is_simple()"
   ]
  },
  {
   "cell_type": "code",
   "execution_count": 33,
   "metadata": {},
   "outputs": [
    {
     "data": {
      "text/plain": [
       "False"
      ]
     },
     "execution_count": 33,
     "metadata": {},
     "output_type": "execute_result"
    }
   ],
   "source": [
    "AlternatingGroup(4).is_simple()"
   ]
  }
 ],
 "metadata": {
  "kernelspec": {
   "display_name": "SageMath 9.0",
   "language": "sage",
   "name": "sagemath"
  },
  "language_info": {
   "codemirror_mode": {
    "name": "ipython",
    "version": 3
   },
   "file_extension": ".py",
   "mimetype": "text/x-python",
   "name": "python",
   "nbconvert_exporter": "python",
   "pygments_lexer": "ipython3",
   "version": "3.8.5"
  }
 },
 "nbformat": 4,
 "nbformat_minor": 4
}
