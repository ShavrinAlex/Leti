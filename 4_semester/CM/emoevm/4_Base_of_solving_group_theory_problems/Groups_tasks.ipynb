{
 "cells": [
  {
   "cell_type": "markdown",
   "id": "3d5efa83",
   "metadata": {},
   "source": [
    "# Group theory (problems)"
   ]
  },
  {
   "cell_type": "markdown",
   "id": "30b352a5",
   "metadata": {},
   "source": [
    "#1 Получите линейное представление НОД многочленов f(x) и g(x) над полем GF(n).\n",
    "\n",
    "**Формат входных данных:**\n",
    "\n",
    "* Коэффициенты полинома f(x)\n",
    "\n",
    "* Коэффициенты полинома g(x)\n",
    "\n",
    "* Число n - степень простого числа.\n",
    "\n",
    "**Формат выходных данных (рекомендуем посмотреть пример):**\n",
    "\n",
    "* НОД(f(x), g(x)) = q(x) * f(x) + r(x) * g(x)\n",
    "\n",
    "**Особенность тестирующей системы:**\n",
    "\n",
    "Код решения необходимо написать в теле функции solve(f_coeff, g_coeff, n) и вернуть ответ на задачу в виде строки.\n",
    "\n",
    "**Пример:**\n",
    "\n",
    "**Вход:**\n",
    "\n",
    "1 1 0 1 1 1 0 1 1\n",
    "\n",
    "1 1 0 0 1 0 1\n",
    "\n",
    "2\n",
    "\n",
    "**Выход:**\n",
    "\n",
    "\"1 = (x^5 + x^3 + 1) * (x^8 + x^7 + x^5 + x^4 + x^3 + x + 1) + (x^7 + x^6 + x^4 + x^3 + x^2 + x) * (x^6 + x^4 + x + 1)\""
   ]
  },
  {
   "cell_type": "code",
   "execution_count": 3,
   "id": "4f1684ec",
   "metadata": {},
   "outputs": [
    {
     "data": {
      "text/plain": [
       "'1 = (x^5 + x^3 + 1) * (x^8 + x^7 + x^5 + x^4 + x^3 + x + 1) + (x^7 + x^6 + x^4 + x^3 + x^2 + x) * (x^6 + x^4 + x + 1)'"
      ]
     },
     "execution_count": 3,
     "metadata": {},
     "output_type": "execute_result"
    }
   ],
   "source": [
    "def solve(f_coeff, g_coeff, n):\n",
    "    gf.<x> = PolynomialRing(FiniteField(n))\n",
    "    f = sum([f_coeff[i] * x^i for i in range(len(f_coeff))])\n",
    "    g = sum([g_coeff[i] * x^i for i in range(len(g_coeff))])\n",
    "    gcd, q, r = xgcd(f, g)\n",
    "    return '{} = ({}) * ({}) + ({}) * ({})'.format(gcd, q, f, r, g)\n",
    "    \n",
    "    \n",
    "solve([1, 1, 0, 1, 1, 1, 0, 1, 1], [1, 1, 0, 0, 1, 0, 1], 2)"
   ]
  },
  {
   "cell_type": "markdown",
   "id": "4cbf8d45",
   "metadata": {},
   "source": [
    "#2 Разложите полином f(x) на неприводимые сомножители над полем GF(n).\n",
    "\n",
    "**Формат входных данных:**\n",
    "\n",
    "* Коэффициенты полинома f(x)\n",
    "\n",
    "* Число n - степень простого числа.\n",
    "\n",
    "**Формат выходных данных:**\n",
    "\n",
    "* Разложение полинома f(x) на неприводимые сомножители над полем GF(n) в виде строки.\n",
    "\n",
    "**Особенность тестирующей системы:**\n",
    "\n",
    "Код решения необходимо написать в теле функции solve(f_coeff, n) и вернуть ответ на задачу в виде списка.\n",
    "\n",
    "**Пример:**\n",
    "\n",
    "**Вход:**\n",
    "\n",
    "[1, 10, 0, 0, 1]\n",
    "\n",
    "3\n",
    "\n",
    "**Выход:**\n",
    "\n",
    "(x + 2) * (x^3 + x^2 + x + 2)"
   ]
  },
  {
   "cell_type": "code",
   "execution_count": 4,
   "id": "e66aab65",
   "metadata": {},
   "outputs": [
    {
     "data": {
      "text/plain": [
       "'(x + 2) * (x^3 + x^2 + x + 2)'"
      ]
     },
     "execution_count": 4,
     "metadata": {},
     "output_type": "execute_result"
    }
   ],
   "source": [
    "def solve(f_coeff, n):\n",
    "    gf.<x> = PolynomialRing(FiniteField(n))\n",
    "    f = sum([f_coeff[i] * x^i for i in range(len(f_coeff))])\n",
    "    return str(factor(f))\n",
    "    \n",
    "    \n",
    "solve([1, 10, 0, 0, 1], 3)"
   ]
  },
  {
   "cell_type": "markdown",
   "id": "2e56043e",
   "metadata": {},
   "source": [
    "#3 Пусть α – примитивный элемент поля GF(25)=Z5/(x2+2x+3). Найдите L(n) – решения уравнения 1+αn=αL(n) для n=7,17.\n",
    "\n",
    "Ответ должен быть в виде списка из двух числовых элементов"
   ]
  },
  {
   "cell_type": "code",
   "execution_count": null,
   "id": "806be769",
   "metadata": {},
   "outputs": [],
   "source": [
    "def solve():\n",
    "   gf.<alpha> = FiniteField(25, modulus=x^2+2*x+3) \n",
    "   return [log(1 + alpha ^ 7, alpha), log(1 + alpha ^ 17, alpha)]\n"
   ]
  },
  {
   "cell_type": "markdown",
   "id": "70be3064",
   "metadata": {},
   "source": [
    "#4 Дана группа G с элементами, которые удовлетворяют следующим соотношениям (генетический код):\n",
    "a4=b4=(ab)2=(a−1b)2=1\n",
    "\n",
    "**Необходимо найти и вывести следующее:**\n",
    "\n",
    "* Все элементы группы G и ее порядок - функция allElem(G)\n",
    "\n",
    "* Обратный к каждому элементу в группе - функция reverseElems(G)\n",
    "\n",
    "* Найти центр G - функция center(G)\n",
    "\n",
    "Вам уже дан класс G, ваша задача - реализовать 3 функции. Для всех заданий есть функция в Sage. Номер ошибки означает номер функции, в которой допущена ошибка.\n",
    "\n",
    "**Формат выходных данных:**\n",
    "\n",
    "    Для allElem(G):\n",
    "\n",
    "[(все элементы), порядок]\n",
    "\n",
    "    Для reverseElems(G):\n",
    "\n",
    "[обратные элементы в соответствующей позиции списка]\n",
    "\n",
    "    Для center(G):\n",
    "\n",
    "[Вывод соответствующей функции]\n",
    "\n",
    "P.S. В этом задании должны были быть еще пару функций, но они поддерживаются только версией Sage от 9.2 . Мы о них просто расскажем\n",
    "\n",
    "    Список ребер в графе группы (графе Кэли) - G.cayley_graph().edges()\n",
    "    Порядок каждого элемента в группе - e.order() for e in G.list()\n"
   ]
  },
  {
   "cell_type": "code",
   "execution_count": null,
   "id": "f08d1b4d",
   "metadata": {},
   "outputs": [],
   "source": [
    "F.<a, b> = FreeGroup()\n",
    "G = F/[a^4, b^4, (a*b)^2, (a^(-1)*b)^2]\n",
    "\n",
    "\n",
    "def allElem(G):\n",
    "    return [G.list(), G.order()]\n",
    "\n",
    "\n",
    "def reverseElems(G):\n",
    "    return [e.inverse() for e in G.list()]\n",
    "\n",
    "\n",
    "def center(G):\n",
    "    return G.center()"
   ]
  },
  {
   "cell_type": "markdown",
   "id": "975972ad",
   "metadata": {},
   "source": [
    "#5 Эта задача является продолжением прошлой задачи, но не требует её предварительного решения\n",
    "\n",
    "Дана группа G  с элементами, которые удовлетворяют следующим соотношениям (генетический код):\n",
    "a4=b4=(ab)2=(a−1b)2=1\n",
    "\n",
    "**Необходимо найти и вывести следующее:**\n",
    "\n",
    "* Классы сопряженных элементов (их будет 10) - функция conjugateElemsClass(G)\n",
    "\n",
    "Вам уже дан класс G, ваша задача - реализовать единственную функцию. Для этого задания нет определенной функции в Sage (поэтому она и вынесена отдельно).\n",
    "\n",
    "**Формат выходных данных:**\n",
    "\n",
    "Для conjugateElemsClass(G):\n",
    "\n",
    "[[список элементов 1 класса], [список элементов 2 класса], ...]"
   ]
  },
  {
   "cell_type": "code",
   "execution_count": 5,
   "id": "524913d5",
   "metadata": {},
   "outputs": [
    {
     "data": {
      "text/plain": [
       "[[1],\n",
       " [a, a^-1*b^2],\n",
       " [b, a^2*b^-1],\n",
       " [a^2*b^2],\n",
       " [a^2],\n",
       " [a*b, a^-1*b^-1],\n",
       " [a^-1, a*b^2],\n",
       " [b^-1, a^2*b],\n",
       " [b^2],\n",
       " [a*b^-1, a^-1*b]]"
      ]
     },
     "execution_count": 5,
     "metadata": {},
     "output_type": "execute_result"
    }
   ],
   "source": [
    "F.<a, b> = FreeGroup()\n",
    "G = F/[a^4, b^4, (a*b)^2, (a^(-1)*b)^2]\n",
    "\n",
    "def conjugateElemsClass(G):\n",
    "    classes = G.conjugacy_classes()\n",
    "    answer = [[] for _ in classes]\n",
    "    for e in G.list():\n",
    "        for i in range(len(classes)):\n",
    "            if e in classes[i]:\n",
    "                answer[i] += [e]\n",
    "    return answer\n",
    "    \n",
    "conjugateElemsClass(G)"
   ]
  },
  {
   "cell_type": "code",
   "execution_count": null,
   "id": "f8e7da1c",
   "metadata": {},
   "outputs": [],
   "source": []
  }
 ],
 "metadata": {
  "kernelspec": {
   "display_name": "SageMath 9.5",
   "language": "sage",
   "name": "sagemath"
  },
  "language_info": {
   "codemirror_mode": {
    "name": "ipython",
    "version": 3
   },
   "file_extension": ".py",
   "mimetype": "text/x-python",
   "name": "python",
   "nbconvert_exporter": "python",
   "pygments_lexer": "ipython3",
   "version": "3.10.6"
  }
 },
 "nbformat": 4,
 "nbformat_minor": 5
}
