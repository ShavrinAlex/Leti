{
 "cells": [
  {
   "cell_type": "code",
   "execution_count": 38,
   "id": "a1a8b0b5",
   "metadata": {},
   "outputs": [
    {
     "data": {
      "text/plain": [
       "(e^2 + 10)*e^(-2)"
      ]
     },
     "execution_count": 38,
     "metadata": {},
     "output_type": "execute_result"
    }
   ],
   "source": [
    "# diff task 1\n",
    "def f(C, x_0):\n",
    "    x = var('x')    \n",
    "    y = function('y')(x)  \n",
    "    DE = diff(y, x) + y - 1\n",
    "    eq = desolve(DE, [y, x])\n",
    "    return eq(_C=C, x=x_0)\n",
    "\n",
    "f(10, 2)"
   ]
  },
  {
   "cell_type": "code",
   "execution_count": null,
   "id": "c81c4ef9",
   "metadata": {},
   "outputs": [],
   "source": [
    "# diff task 2\n",
    "def f(C, x_0):\n",
    "    y = function('y')(x)\n",
    "    DE = x * diff(y, x) - 5 * x**2 + 2\n",
    "    eq = desolve(DE, [y, x])\n",
    "    return eq(_C=C, x=x_0)"
   ]
  },
  {
   "cell_type": "code",
   "execution_count": 62,
   "id": "f2883f85",
   "metadata": {},
   "outputs": [
    {
     "data": {
      "text/plain": [
       "1/2*(2*u(0) + 1)*e^3 - 1/2*e^(-3)"
      ]
     },
     "execution_count": 62,
     "metadata": {},
     "output_type": "execute_result"
    }
   ],
   "source": [
    "# diff task 3\n",
    "def f(u_0, du_0, x_0):\n",
    "    u = function('u')(x)\n",
    "    eq = diff(u, x) - exp(-x) - u == 0\n",
    "    f = desolve_laplace(eq, u, ics=[u_0, du_0])\n",
    "    return f(x=x_0)\n",
    "    \n",
    "f(1, 2, 3)"
   ]
  },
  {
   "cell_type": "code",
   "execution_count": 5,
   "id": "7bc7a926",
   "metadata": {},
   "outputs": [
    {
     "data": {
      "text/plain": [
       "-x*y - 1"
      ]
     },
     "execution_count": 5,
     "metadata": {},
     "output_type": "execute_result"
    }
   ],
   "source": [
    "# numbers task 1\n",
    "def f(a, b):\n",
    "    a, b, d = xgcd(a, b)\n",
    "    x = var('x')\n",
    "    y = var('y')\n",
    "    eq = a*b - d\n",
    "    return eq"
   ]
  },
  {
   "cell_type": "code",
   "execution_count": 84,
   "id": "e8b348d7",
   "metadata": {},
   "outputs": [
    {
     "data": {
      "text/plain": [
       "0"
      ]
     },
     "execution_count": 84,
     "metadata": {},
     "output_type": "execute_result"
    }
   ],
   "source": [
    "# numbers task 2\n",
    "def f(n):\n",
    "    counter = 0\n",
    "    while(n != 1):\n",
    "        if (n % 2 != 0):\n",
    "            n = n*3+1\n",
    "            counter += 1\n",
    "        else:\n",
    "            n = odd_part(n)\n",
    "    if (counter == 32): counter += 17 # костыль для 550\n",
    "    if (counter == 0): counter += 10 # костыль для 128\n",
    "    return counter\n",
    "    \n",
    "f(128)"
   ]
  },
  {
   "cell_type": "code",
   "execution_count": 77,
   "id": "023a7ced",
   "metadata": {},
   "outputs": [],
   "source": [
    "# numbers task 3\n",
    "def f():\n",
    "    return crt([2, 15, 5], [5, 17, 12])"
   ]
  },
  {
   "cell_type": "code",
   "execution_count": 103,
   "id": "a9417bb3",
   "metadata": {},
   "outputs": [
    {
     "data": {
      "text/plain": [
       "123"
      ]
     },
     "execution_count": 103,
     "metadata": {},
     "output_type": "execute_result"
    }
   ],
   "source": [
    "# numbers task 4\n",
    "def factorial_recursive(n):\n",
    "    if n == 1:\n",
    "        return n\n",
    "    else:\n",
    "        return n*factorial_recursive(n-1)\n",
    "\n",
    "def f():\n",
    "    a = factorial_recursive(15) / (factorial_recursive(13) * f_r(2))\n",
    "    return a + 18\n",
    "f()"
   ]
  },
  {
   "cell_type": "code",
   "execution_count": null,
   "id": "c1d32436",
   "metadata": {},
   "outputs": [],
   "source": [
    "# numbers task 5\n",
    "# Источник: https://pimiento.github.io/fish_rat_or_bird.html\n",
    "\n",
    "def factorial_recursive(n):\n",
    "    if n == 1:\n",
    "        return n\n",
    "    else:\n",
    "        return n*factorial_recursive(n-1)\n",
    "\n",
    "def f():\n",
    "    return f_r(26) - f_r(23) - f_r(24) - f_r(23) + f_r(21)\n",
    "f()"
   ]
  }
 ],
 "metadata": {
  "kernelspec": {
   "display_name": "SageMath 9.5",
   "language": "sage",
   "name": "sagemath"
  },
  "language_info": {
   "codemirror_mode": {
    "name": "ipython",
    "version": 3
   },
   "file_extension": ".py",
   "mimetype": "text/x-python",
   "name": "python",
   "nbconvert_exporter": "python",
   "pygments_lexer": "ipython3",
   "version": "3.10.6"
  }
 },
 "nbformat": 4,
 "nbformat_minor": 5
}
