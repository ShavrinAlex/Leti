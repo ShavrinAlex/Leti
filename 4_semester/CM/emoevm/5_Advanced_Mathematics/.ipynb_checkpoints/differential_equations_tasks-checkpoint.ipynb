{
 "cells": [
  {
   "cell_type": "markdown",
   "id": "736262db",
   "metadata": {},
   "source": [
    "# differential equations\n"
   ]
  },
  {
   "cell_type": "markdown",
   "id": "b0a6bc7b",
   "metadata": {},
   "source": [
    "#1 \n",
    "**Решите дифференциальное уравнение**\n",
    "y′+y−1=0.\n",
    "Вы должны написать функцию, которая на вход принимает последовательно параметры C и x0, решает дифференциальное уравнение и возвращает частное решение при заданных C и x0. "
   ]
  },
  {
   "cell_type": "code",
   "execution_count": 12,
   "id": "809ada80",
   "metadata": {},
   "outputs": [
    {
     "data": {
      "text/plain": [
       "(e^2 + 10)*e^(-2)"
      ]
     },
     "execution_count": 12,
     "metadata": {},
     "output_type": "execute_result"
    }
   ],
   "source": [
    "def f(C, x_0):\n",
    "    x = var('x')    \n",
    "    y = function('y')(x)  \n",
    "    de = diff(y, x) + y - 1\n",
    "    eq = desolve(de, [y, x])\n",
    "    return eq(_C=C, x=x_0)\n",
    "\n",
    "f(10, 2)"
   ]
  },
  {
   "cell_type": "markdown",
   "id": "49537ad2",
   "metadata": {},
   "source": [
    "#2\n",
    "Реализуйте функцию f(C, x0), которая для переданных C и x0 возвращает частное решение следующего дифференциального уравнения:\n",
    "xy2y′−5x2+2=0"
   ]
  },
  {
   "cell_type": "code",
   "execution_count": null,
   "id": "e5389595",
   "metadata": {},
   "outputs": [],
   "source": [
    "def f(C, x_0):\n",
    "    x = var('x') \n",
    "    y = function('y')(x)\n",
    "    de = x * diff(y, x) - 5 * x**2 + 2\n",
    "    eq = desolve(de, [y, x])\n",
    "    return eq(_C=C, x=x_0)"
   ]
  },
  {
   "cell_type": "markdown",
   "id": "69cf0486",
   "metadata": {},
   "source": [
    "#3\n",
    "**Решите дифференциальное уравнение**\n",
    "u'(x)−e−x−u(x)=0,u(0)=0,u'(0)=3\n",
    "при помощи преобразований Лапласа. Решение оформите в виде функции f(), которая принимает последовательно аргументы u(0), u′(0) и x_0."
   ]
  },
  {
   "cell_type": "code",
   "execution_count": 15,
   "id": "d347be30",
   "metadata": {},
   "outputs": [
    {
     "data": {
      "text/plain": [
       "1/2*(2*u(0) + 1)*e^3 - 1/2*e^(-3)"
      ]
     },
     "execution_count": 15,
     "metadata": {},
     "output_type": "execute_result"
    }
   ],
   "source": [
    "def f(u_0, du_0, x_0):\n",
    "    u = function('u')(x)\n",
    "    eq = diff(u, x) - exp(-x) - u == 0\n",
    "    f = desolve_laplace(eq, u, ics=[u_0, du_0])\n",
    "    return f(x=x_0)\n",
    "\n",
    "    \n",
    "f(1, 2, 3)"
   ]
  }
 ],
 "metadata": {
  "kernelspec": {
   "display_name": "SageMath 9.5",
   "language": "sage",
   "name": "sagemath"
  },
  "language_info": {
   "codemirror_mode": {
    "name": "ipython",
    "version": 3
   },
   "file_extension": ".py",
   "mimetype": "text/x-python",
   "name": "python",
   "nbconvert_exporter": "python",
   "pygments_lexer": "ipython3",
   "version": "3.10.6"
  }
 },
 "nbformat": 4,
 "nbformat_minor": 5
}
