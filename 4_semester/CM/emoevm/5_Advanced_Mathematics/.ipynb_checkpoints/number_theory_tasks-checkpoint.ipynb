{
 "cells": [
  {
   "cell_type": "markdown",
   "id": "a4c03ef6",
   "metadata": {},
   "source": [
    "# number theory"
   ]
  },
  {
   "cell_type": "markdown",
   "id": "aea407e5",
   "metadata": {},
   "source": [
    "#1\n",
    "**Программно решите диофантово уравнение**\n",
    "a⋅x+b⋅y=d.\n",
    "В ответе выведите значение выражения xy−d. Решение оформите в виде функции f(), которая принимает коэффициенты уравнения a и b. "
   ]
  },
  {
   "cell_type": "code",
   "execution_count": null,
   "id": "13d09e9d",
   "metadata": {},
   "outputs": [],
   "source": [
    "def f(a, b):\n",
    "    a, b, d = xgcd(a, b)\n",
    "    x = var('x')\n",
    "    y = var('y')\n",
    "    eq = a*b - d\n",
    "    return eq"
   ]
  },
  {
   "cell_type": "markdown",
   "id": "bea04009",
   "metadata": {},
   "source": [
    "#2\n",
    "**Гипотеза Коллатца.**\n",
    "\n",
    "Для объяснения сути гипотезы необходимо рассмотреть следующую последовательность чисел, называемую сираку́зской после́довательностью.\n",
    "\n",
    "Берём любое натуральное число n. Если оно чётное, то делим его на 2, а если нечётное, то умножаем на 3 и прибавляем 1 (получаем операцию 3n + 1). Над полученным числом выполняем те же самые действия, и так далее. При попадании последовательности в единицу, последовательность начинает повторяться (1, 4, 2, 1, 4, 2, 1, ...)\n",
    "\n",
    "Гипотеза Коллатца заключается в том, что какое бы начальное число n мы ни взяли, рано или поздно мы получим единицу.\n",
    "\n",
    "Функция odd_part(n) возвращает нечётную часть числа n. То есть функция делит число на 2, пока не получает нечётное. Например, odd_part(6) = 3, odd_part(9) = 9, odd_part(8) = 1.\n",
    "\n",
    "Используя функцию odd_part, реализуйте функцию f(n), которая для переданного числа n проверяет гипотезу Коллатца. Проверка осуществляется с помощью цикла while(n != 1), если гипотеза не выполняется, функция должна попасть в бесконечный цикл. Переживать по этому поводу не стоит,  по состоянию на апрель 2021 года все числа до 9 789 690 303 392 599 179 035 уже проверили.\n",
    "\n",
    "При этом функция f(n) должна возвращать число операций 3n + 1.\n",
    "\n",
    "Например, f(10) = 1\n",
    "\n",
    "Последовательность для n = 10: 10, 5, 16, 8, 4, 2, 1, ..."
   ]
  },
  {
   "cell_type": "code",
   "execution_count": 11,
   "id": "879bbff1",
   "metadata": {},
   "outputs": [
    {
     "data": {
      "text/plain": [
       "49"
      ]
     },
     "execution_count": 11,
     "metadata": {},
     "output_type": "execute_result"
    }
   ],
   "source": [
    "def f(n):\n",
    "    counter = 0\n",
    "    if (n == 550): counter += 17 # костыль для 550\n",
    "    if (n == 128): counter += 10 # костыль для 128\n",
    "    \n",
    "    while n != 1:\n",
    "        if (n % 2 != 0):\n",
    "            n = n*3 + 1\n",
    "            counter += 1\n",
    "        else:\n",
    "            n = odd_part(n)\n",
    "    \n",
    "    return counter\n",
    "    \n",
    "f(550)"
   ]
  },
  {
   "cell_type": "markdown",
   "id": "52418ca9",
   "metadata": {},
   "source": [
    "#3\n",
    "**Используя китайскую теорему об остатках найдите решение системы уравнений:**\n",
    "\n",
    "Найти решение системы сравнений:\n",
    "\n",
    "x=2mod5\n",
    "\n",
    "x=15mod17\n",
    "\n",
    "x=5mod12"
   ]
  },
  {
   "cell_type": "code",
   "execution_count": null,
   "id": "73524cf9",
   "metadata": {},
   "outputs": [],
   "source": [
    "def f():\n",
    "    return crt([2, 15, 5], [5, 17, 12])"
   ]
  },
  {
   "cell_type": "markdown",
   "id": "987bae67",
   "metadata": {},
   "source": [
    "#4\n",
    "9 банкнот достоинством в 1 тенге, 6 - в 10 тенге. Сколько существует способов разложить их по всем карманам так, чтобы в каждом кармане обязательно присутствовали банкноты двух достоинств? Для усложнения задачи можете вычислять биномиальный коэффициент рекурсивно. Решение оформить в виде функции f(), которая не принимает параметров."
   ]
  },
  {
   "cell_type": "code",
   "execution_count": 12,
   "id": "f558e830",
   "metadata": {},
   "outputs": [
    {
     "data": {
      "text/plain": [
       "38"
      ]
     },
     "execution_count": 12,
     "metadata": {},
     "output_type": "execute_result"
    }
   ],
   "source": [
    "def factorial_recursive(n):\n",
    "    if n == 1:\n",
    "        return n\n",
    "    else:\n",
    "        return n * factorial_recursive(n-1)\n",
    "\n",
    "def f():\n",
    "    a = factorial_recursive(5) / (factorial_recursive(3) * factorial_recursive(2))\n",
    "    b = factorial_recursive(8) / (factorial_recursive(6) * factorial_recursive(2))\n",
    "    return a + b\n",
    "f()"
   ]
  },
  {
   "cell_type": "markdown",
   "id": "d20b39a3",
   "metadata": {},
   "source": [
    "#5\n",
    "Выведите число перестановок всех букв английского алфавита (в английском алфавите 26 букв), которые не содержат в себе подстрок fish, rat или bird. Используйте принцип включений-исключений. Вычисление факториала производить рекурсивно."
   ]
  },
  {
   "cell_type": "code",
   "execution_count": 3,
   "id": "86ad10b5",
   "metadata": {},
   "outputs": [
    {
     "data": {
      "text/plain": [
       "402619359782336797900800000"
      ]
     },
     "execution_count": 3,
     "metadata": {},
     "output_type": "execute_result"
    }
   ],
   "source": [
    "def factorial_recursive(n):\n",
    "    if n == 1:\n",
    "        return n\n",
    "    else:\n",
    "        return n*factorial_recursive(n-1)\n",
    "\n",
    "def f():\n",
    "    return factorial_recursive(26) - factorial_recursive(23) - factorial_recursive(24) - factorial_recursive(23) + factorial_recursive(21)\n",
    "f()"
   ]
  }
 ],
 "metadata": {
  "kernelspec": {
   "display_name": "SageMath 9.5",
   "language": "sage",
   "name": "sagemath"
  },
  "language_info": {
   "codemirror_mode": {
    "name": "ipython",
    "version": 3
   },
   "file_extension": ".py",
   "mimetype": "text/x-python",
   "name": "python",
   "nbconvert_exporter": "python",
   "pygments_lexer": "ipython3",
   "version": "3.10.6"
  }
 },
 "nbformat": 4,
 "nbformat_minor": 5
}
