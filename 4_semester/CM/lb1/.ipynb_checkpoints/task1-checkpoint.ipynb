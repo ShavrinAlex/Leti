{
 "cells": [
  {
   "cell_type": "markdown",
   "metadata": {},
   "source": [
    "# Практическая работа №1: Алгоритмы эффективного вычисления одночленов\n",
    "\n",
    "Выполнил студент гр. 1304 Шаврин Алексей. Вариант №52."
   ]
  },
  {
   "cell_type": "markdown",
   "metadata": {},
   "source": [
    "## Цель работы\n",
    "\n",
    "Сформировать знания о работе алгоритмах вычисления одночленов за минимальное число операций, привить навык использования систем компьютерной математики для реализации алгоритмов."
   ]
  },
  {
   "cell_type": "markdown",
   "metadata": {},
   "source": [
    "## Основные теоретические положения\n",
    "\n",
    "Введём понятия для оценки числа операций:<br>\n",
    "<ol>\n",
    "    <li>$\\lambda(n) = \\lfloor log_{2}(n) \\rfloor$ - уменьшенная на 1 длина бинарной записи n</li>\n",
    "    <li>$\\nu(n)$ - вес Хэмминга для бинарной записи числа $n$ (число единиц в бинарной записи)</li>\n",
    "</ol>\n",
    "Рассмотрим методы вычисления одночленов за минимальное число операций, а также приведём некоторые оценки количества операций для вычисления одночленов.<br>\n",
    "\n",
    "### 1) Бинарный метод $SX$\n",
    "Алгоритм для возведения в степень $n$ бинарным методом $SX$:\n",
    "<ol>\n",
    "<li>Представим $n$ в бинарном виде и отбросим старший бит</li>\n",
    "<li>Преобразуем бинарную запись $n$ в запись в формате $SX:$<center>$1 \\Rightarrow SX$<br>$0 \\Rightarrow S$</center></li>\n",
    "<li>Запись интерпретируем следующим образом:<center>$S \\Rightarrow x = x ^ 2$<br>$X \\Rightarrow x = x * x$</center></li>\n",
    "</ol>\n",
    "Число операций для бинарного метода $SX$ можно рассчитать по следующей формуле: $\\lambda(n) + \\nu(n) - 1$\n",
    "    \n",
    "### 2) Бинарный метод возведения справа налево \n",
    "Алгоритм для возведения в степень $n$ методом справа налево:\n",
    "<ol>\n",
    "    <li>Инициализируем стартовые параметры $N = n; Y = 1; Z = x$</li>\n",
    "    <li>Если $N$ чётно - переходим на пункт 3, иначе - на пункт 4</li>\n",
    "    <li>Переприсваиваем $N = \\lfloor N/2 \\rfloor$, а $Z = Z * Z$ и переходим на пункт 2</li>\n",
    "    <li>Переприсваиваем $N = \\lfloor N/2 \\rfloor$, а $Y = Z * Y$</li>\n",
    "    <li>Если $N = 0$, то возвращаем $Y$ как ответ и выходим из алгоритма. Иначе - переприсваиваем $Z = Z * Z$ и переходим на пункт 2</li>\n",
    "</ol>\n",
    "Число операций для бинарного метода справа налево можно вычислить по следующей формуле: $\\lambda(n) + \\nu(n)$\n",
    "\n",
    "### 3) Метод множителей\n",
    "Алгоритм для возведения в степень $n$ методом множителей:\n",
    "<ol>\n",
    "    <li>Представим $n$ в виде разложения $n = p * q$, где $p$ - наименьший простой множитель $n$, а $q > 1$. Таким образом, $x^n$ можно найти, вычислив $x^p$ и возведя эту величину в степень $q$</li>\n",
    "    <li>Если $n$ - простое, то вычислим $x^{n-1}$ и умножим его на x</li>\n",
    "    <li>При $n = 1$ - получим $x^n$</li>\n",
    "</ol>\n",
    "\n",
    "### 4) Дерево степеней\n",
    "Алгоритм построения дерева степеней до $k$-го уровня:\n",
    "<ol>\n",
    "    <li>Это корень дерева  - $1$</li>\n",
    "    <li>$k+1$-й уровень строим по следующей схеме:<br> берётся $i$ узел на $k$-м уровне слева направо и к нему присоединяются узлы $i+a_{0}, i+a_{1}, ..., i+a_{k-1}$</li>\n",
    "    <li>Если узел уже есть в дереве - он не добавляется</li>\n",
    "</ol>\n"
   ]
  },
  {
   "cell_type": "markdown",
   "metadata": {},
   "source": [
    "## Постановка задачи\n",
    "\n",
    "Реализовать алгоритмы вычисления мономов за минимальное число операций с использованием системы компьютерной алгебры SageMath, провести анализ алгоритмов. Полученные результаты содержательно проинтерпретировать."
   ]
  },
  {
   "cell_type": "markdown",
   "metadata": {},
   "source": [
    "## Выполнение работы\n",
    "\n",
    "### 1) Бинарный метод SX\n",
    "\n",
    "Реализуем функцию $binary\\_sx\\_method$, принимающую на вход целочисленное значение $degree$, являющееся степенью, в которую нужно возвести переменную. В функции значение степени записывается в бинарном виде без старшего бита. Далее, по алгоритму, единицы заменяются на $SX$, нули - на $S$. Переменная $current\\_element$ будет хранить итоговое значение на текущем шаге, которое мы получим в ходе итерации по преобразованной $SX$-строке. В переменной $answer$ будет храниться список всех хзначений на каждом шаге. Для наглядности выведем бинарный вид степени, $SX$-представление степени, а также значение $answer$."
   ]
  },
  {
   "cell_type": "code",
   "execution_count": 124,
   "metadata": {},
   "outputs": [],
   "source": [
    "def binary_sx_method(degree: int):\n",
    "    if degree < 1: # Модификация\n",
    "        return 1\n",
    "    \n",
    "    binary_degree_version = str(bin(degree)[3:]) # Представляем степень в 2СС и отбрасываем старший бит\n",
    "    show(\"binary geree version: \" + binary_degree_version)\n",
    "    \n",
    "    sx_degree_version = binary_degree_version.replace(\"0\", \"S\").replace(\"1\", \"SX\") # Представляем степень в SX формате\n",
    "    show(\"sx degree version: \" + sx_degree_version)\n",
    "    \n",
    "    current_element = var('x')\n",
    "    answer = [current_element]\n",
    "    \n",
    "    for element in sx_degree_version:\n",
    "        if element == \"S\":\n",
    "            current_element **= 2\n",
    "        else:\n",
    "            current_element *= x\n",
    "        answer.append(current_element)\n",
    "    \n",
    "    show(\"the sequence of calculations: \", answer)\n",
    "    show(\"count operation: \" + str(len(answer) - 1))\n",
    "    return current_element\n",
    "    "
   ]
  },
  {
   "cell_type": "markdown",
   "metadata": {},
   "source": [
    "Проверим работу программы при $degree = 0, 9, 23, 36$ "
   ]
  },
  {
   "cell_type": "code",
   "execution_count": 125,
   "metadata": {},
   "outputs": [
    {
     "data": {
      "text/html": [
       "<html><script type=\"math/tex; mode=display\">\\newcommand{\\Bold}[1]{\\mathbf{#1}}1</script></html>"
      ],
      "text/latex": [
       "$$\\newcommand{\\Bold}[1]{\\mathbf{#1}}1$$"
      ],
      "text/plain": [
       "1"
      ]
     },
     "metadata": {},
     "output_type": "display_data"
    }
   ],
   "source": [
    "# Пример работы программы при degree = 0\n",
    "show(binary_sx_method(0))"
   ]
  },
  {
   "cell_type": "code",
   "execution_count": 126,
   "metadata": {},
   "outputs": [
    {
     "data": {
      "text/html": [
       "<html><script type=\"math/tex; mode=display\">\\newcommand{\\Bold}[1]{\\mathbf{#1}}\\verb|binary|\\verb| |\\verb|geree|\\verb| |\\verb|version:|\\verb| |\\verb|001|</script></html>"
      ],
      "text/latex": [
       "$$\\newcommand{\\Bold}[1]{\\mathbf{#1}}\\verb|binary|\\verb| |\\verb|geree|\\verb| |\\verb|version:|\\verb| |\\verb|001|$$"
      ],
      "text/plain": [
       "'binary geree version: 001'"
      ]
     },
     "metadata": {},
     "output_type": "display_data"
    },
    {
     "data": {
      "text/html": [
       "<html><script type=\"math/tex; mode=display\">\\newcommand{\\Bold}[1]{\\mathbf{#1}}\\verb|sx|\\verb| |\\verb|degree|\\verb| |\\verb|version:|\\verb| |\\verb|SSSX|</script></html>"
      ],
      "text/latex": [
       "$$\\newcommand{\\Bold}[1]{\\mathbf{#1}}\\verb|sx|\\verb| |\\verb|degree|\\verb| |\\verb|version:|\\verb| |\\verb|SSSX|$$"
      ],
      "text/plain": [
       "'sx degree version: SSSX'"
      ]
     },
     "metadata": {},
     "output_type": "display_data"
    },
    {
     "data": {
      "text/html": [
       "<html><script type=\"math/tex; mode=display\">\\newcommand{\\Bold}[1]{\\mathbf{#1}}\\verb|the|\\verb| |\\verb|sequence|\\verb| |\\verb|of|\\verb| |\\verb|calculations:| \\left[x, x^{2}, x^{4}, x^{8}, x^{9}\\right]</script></html>"
      ],
      "text/latex": [
       "$$\\newcommand{\\Bold}[1]{\\mathbf{#1}}\\verb|the|\\verb| |\\verb|sequence|\\verb| |\\verb|of|\\verb| |\\verb|calculations:| \\left[x, x^{2}, x^{4}, x^{8}, x^{9}\\right]$$"
      ],
      "text/plain": [
       "'the sequence of calculations: ' [x, x^2, x^4, x^8, x^9]"
      ]
     },
     "metadata": {},
     "output_type": "display_data"
    },
    {
     "data": {
      "text/html": [
       "<html><script type=\"math/tex; mode=display\">\\newcommand{\\Bold}[1]{\\mathbf{#1}}\\verb|count|\\verb| |\\verb|operation:|\\verb| |\\verb|4|</script></html>"
      ],
      "text/latex": [
       "$$\\newcommand{\\Bold}[1]{\\mathbf{#1}}\\verb|count|\\verb| |\\verb|operation:|\\verb| |\\verb|4|$$"
      ],
      "text/plain": [
       "'count operation: 4'"
      ]
     },
     "metadata": {},
     "output_type": "display_data"
    },
    {
     "data": {
      "text/html": [
       "<html><script type=\"math/tex; mode=display\">\\newcommand{\\Bold}[1]{\\mathbf{#1}}x^{9}</script></html>"
      ],
      "text/latex": [
       "$$\\newcommand{\\Bold}[1]{\\mathbf{#1}}x^{9}$$"
      ],
      "text/plain": [
       "x^9"
      ]
     },
     "metadata": {},
     "output_type": "display_data"
    }
   ],
   "source": [
    "# Пример работы программы при degree = 9\n",
    "show(binary_sx_method(9))"
   ]
  },
  {
   "cell_type": "code",
   "execution_count": 127,
   "metadata": {},
   "outputs": [
    {
     "data": {
      "text/html": [
       "<html><script type=\"math/tex; mode=display\">\\newcommand{\\Bold}[1]{\\mathbf{#1}}\\verb|binary|\\verb| |\\verb|geree|\\verb| |\\verb|version:|\\verb| |\\verb|0111|</script></html>"
      ],
      "text/latex": [
       "$$\\newcommand{\\Bold}[1]{\\mathbf{#1}}\\verb|binary|\\verb| |\\verb|geree|\\verb| |\\verb|version:|\\verb| |\\verb|0111|$$"
      ],
      "text/plain": [
       "'binary geree version: 0111'"
      ]
     },
     "metadata": {},
     "output_type": "display_data"
    },
    {
     "data": {
      "text/html": [
       "<html><script type=\"math/tex; mode=display\">\\newcommand{\\Bold}[1]{\\mathbf{#1}}\\verb|sx|\\verb| |\\verb|degree|\\verb| |\\verb|version:|\\verb| |\\verb|SSXSXSX|</script></html>"
      ],
      "text/latex": [
       "$$\\newcommand{\\Bold}[1]{\\mathbf{#1}}\\verb|sx|\\verb| |\\verb|degree|\\verb| |\\verb|version:|\\verb| |\\verb|SSXSXSX|$$"
      ],
      "text/plain": [
       "'sx degree version: SSXSXSX'"
      ]
     },
     "metadata": {},
     "output_type": "display_data"
    },
    {
     "data": {
      "text/html": [
       "<html><script type=\"math/tex; mode=display\">\\newcommand{\\Bold}[1]{\\mathbf{#1}}\\verb|the|\\verb| |\\verb|sequence|\\verb| |\\verb|of|\\verb| |\\verb|calculations:| \\left[x, x^{2}, x^{4}, x^{5}, x^{10}, x^{11}, x^{22}, x^{23}\\right]</script></html>"
      ],
      "text/latex": [
       "$$\\newcommand{\\Bold}[1]{\\mathbf{#1}}\\verb|the|\\verb| |\\verb|sequence|\\verb| |\\verb|of|\\verb| |\\verb|calculations:| \\left[x, x^{2}, x^{4}, x^{5}, x^{10}, x^{11}, x^{22}, x^{23}\\right]$$"
      ],
      "text/plain": [
       "'the sequence of calculations: ' [x, x^2, x^4, x^5, x^10, x^11, x^22, x^23]"
      ]
     },
     "metadata": {},
     "output_type": "display_data"
    },
    {
     "data": {
      "text/html": [
       "<html><script type=\"math/tex; mode=display\">\\newcommand{\\Bold}[1]{\\mathbf{#1}}\\verb|count|\\verb| |\\verb|operation:|\\verb| |\\verb|7|</script></html>"
      ],
      "text/latex": [
       "$$\\newcommand{\\Bold}[1]{\\mathbf{#1}}\\verb|count|\\verb| |\\verb|operation:|\\verb| |\\verb|7|$$"
      ],
      "text/plain": [
       "'count operation: 7'"
      ]
     },
     "metadata": {},
     "output_type": "display_data"
    },
    {
     "data": {
      "text/html": [
       "<html><script type=\"math/tex; mode=display\">\\newcommand{\\Bold}[1]{\\mathbf{#1}}x^{23}</script></html>"
      ],
      "text/latex": [
       "$$\\newcommand{\\Bold}[1]{\\mathbf{#1}}x^{23}$$"
      ],
      "text/plain": [
       "x^23"
      ]
     },
     "metadata": {},
     "output_type": "display_data"
    }
   ],
   "source": [
    "# Пример работы программы при degree = 23\n",
    "show(binary_sx_method(23))"
   ]
  },
  {
   "cell_type": "code",
   "execution_count": 128,
   "metadata": {},
   "outputs": [
    {
     "data": {
      "text/html": [
       "<html><script type=\"math/tex; mode=display\">\\newcommand{\\Bold}[1]{\\mathbf{#1}}\\verb|binary|\\verb| |\\verb|geree|\\verb| |\\verb|version:|\\verb| |\\verb|00100|</script></html>"
      ],
      "text/latex": [
       "$$\\newcommand{\\Bold}[1]{\\mathbf{#1}}\\verb|binary|\\verb| |\\verb|geree|\\verb| |\\verb|version:|\\verb| |\\verb|00100|$$"
      ],
      "text/plain": [
       "'binary geree version: 00100'"
      ]
     },
     "metadata": {},
     "output_type": "display_data"
    },
    {
     "data": {
      "text/html": [
       "<html><script type=\"math/tex; mode=display\">\\newcommand{\\Bold}[1]{\\mathbf{#1}}\\verb|sx|\\verb| |\\verb|degree|\\verb| |\\verb|version:|\\verb| |\\verb|SSSXSS|</script></html>"
      ],
      "text/latex": [
       "$$\\newcommand{\\Bold}[1]{\\mathbf{#1}}\\verb|sx|\\verb| |\\verb|degree|\\verb| |\\verb|version:|\\verb| |\\verb|SSSXSS|$$"
      ],
      "text/plain": [
       "'sx degree version: SSSXSS'"
      ]
     },
     "metadata": {},
     "output_type": "display_data"
    },
    {
     "data": {
      "text/html": [
       "<html><script type=\"math/tex; mode=display\">\\newcommand{\\Bold}[1]{\\mathbf{#1}}\\verb|the|\\verb| |\\verb|sequence|\\verb| |\\verb|of|\\verb| |\\verb|calculations:| \\left[x, x^{2}, x^{4}, x^{8}, x^{9}, x^{18}, x^{36}\\right]</script></html>"
      ],
      "text/latex": [
       "$$\\newcommand{\\Bold}[1]{\\mathbf{#1}}\\verb|the|\\verb| |\\verb|sequence|\\verb| |\\verb|of|\\verb| |\\verb|calculations:| \\left[x, x^{2}, x^{4}, x^{8}, x^{9}, x^{18}, x^{36}\\right]$$"
      ],
      "text/plain": [
       "'the sequence of calculations: ' [x, x^2, x^4, x^8, x^9, x^18, x^36]"
      ]
     },
     "metadata": {},
     "output_type": "display_data"
    },
    {
     "data": {
      "text/html": [
       "<html><script type=\"math/tex; mode=display\">\\newcommand{\\Bold}[1]{\\mathbf{#1}}\\verb|count|\\verb| |\\verb|operation:|\\verb| |\\verb|6|</script></html>"
      ],
      "text/latex": [
       "$$\\newcommand{\\Bold}[1]{\\mathbf{#1}}\\verb|count|\\verb| |\\verb|operation:|\\verb| |\\verb|6|$$"
      ],
      "text/plain": [
       "'count operation: 6'"
      ]
     },
     "metadata": {},
     "output_type": "display_data"
    },
    {
     "data": {
      "text/html": [
       "<html><script type=\"math/tex; mode=display\">\\newcommand{\\Bold}[1]{\\mathbf{#1}}x^{36}</script></html>"
      ],
      "text/latex": [
       "$$\\newcommand{\\Bold}[1]{\\mathbf{#1}}x^{36}$$"
      ],
      "text/plain": [
       "x^36"
      ]
     },
     "metadata": {},
     "output_type": "display_data"
    }
   ],
   "source": [
    "# Пример работы программы при degree = 36\n",
    "show(binary_sx_method(36))"
   ]
  },
  {
   "cell_type": "markdown",
   "metadata": {},
   "source": [
    "**Проверим оценку числа операций для данных значений $degree$:**\n",
    "<ol>\n",
    "    <li>$degree = 9$<br>$lambda(n) = \\lfloor log_{2}(9) \\rfloor = 3$<br>$\\nu(n) = 2$<br>$\\lambda(n) + \\nu(n) - 1 = 4 $<br>Верно</li><br>\n",
    "    <li>$degree = 26$<br>$\\lambda(n) = \\lfloor log_{2}(26) \\rfloor = 4$<br>$\\nu(n) = 4$<br>$\\lambda(n) + \\nu(n) - 1 = 7$<br>Верно</li><br>\n",
    "    <li>$degree = 36$<br>$\\lambda(n) = \\lfloor log_{2}(36) \\rfloor = 5$<br>$\\nu(n) = 2$<br>$\\lambda(n) + \\nu(n) - 1 = 6$<br>Верно</li><br>\n",
    "Можно сделать вывод, что для наших $degree$ формула для вычисления количества операций корректна."
   ]
  },
  {
   "cell_type": "markdown",
   "metadata": {},
   "source": [
    "### Вывод\n",
    "Реализован бинарный метод $SX$, проверена его работоспособность, корректность и теоретическая оценка числа операций. Благодаря теоретической оценке можно узнать, за сколько итераций будет произведён расчёт. Метод довольно прост как в реализации, так и в понимании."
   ]
  },
  {
   "cell_type": "markdown",
   "metadata": {},
   "source": [
    "### 2) Метод возведения справа налево\n",
    "\n",
    "Реализуем функцию $right\\_to\\_left\\_construction\\_method$, принимающую на вход целочисленное значение $degree$, являющееся степенью, в которую нужно возвести переменную. Внутри функции реализована инициализация нулевой итерации, а также основной алгоритм. Реализована возможность вывода промежуточных значений $iterarion, N, Y, Z$."
   ]
  },
  {
   "cell_type": "code",
   "execution_count": 129,
   "metadata": {},
   "outputs": [],
   "source": [
    "def right_to_left_construction_method(degree):\n",
    "    if degree < 1: # Модификация\n",
    "        return 1\n",
    "    \n",
    "    iteration = 0\n",
    "    N, Y, Z = degree, 1, var('x')\n",
    "    print(f\"i: {iteration}\\tN: {N}\\tY: {Y}\\tZ: {Z}\")\n",
    "    \n",
    "    while True:\n",
    "        if (N % 2 == 0):\n",
    "            N = floor(N / 2)\n",
    "            Z *= Z\n",
    "        else:\n",
    "            N = floor(N / 2)\n",
    "            Y *= Z\n",
    "            if (N == 0):\n",
    "                iteration += 1\n",
    "                print(f\"i: {iteration}\\tN: {N}\\tY: {Y}\\tZ: {Z}\")\n",
    "                break\n",
    "            else:\n",
    "                Z *= Z\n",
    "        iteration += 1\n",
    "        print(f\"i: {iteration}\\tN: {N}\\tY: {Y}\\tZ: {Z}\")\n",
    "    return Y"
   ]
  },
  {
   "cell_type": "markdown",
   "metadata": {},
   "source": [
    "Проверим работу программы при $degree = 0, 9, 23, 36$"
   ]
  },
  {
   "cell_type": "code",
   "execution_count": 130,
   "metadata": {},
   "outputs": [
    {
     "data": {
      "text/html": [
       "<html><script type=\"math/tex; mode=display\">\\newcommand{\\Bold}[1]{\\mathbf{#1}}1</script></html>"
      ],
      "text/latex": [
       "$$\\newcommand{\\Bold}[1]{\\mathbf{#1}}1$$"
      ],
      "text/plain": [
       "1"
      ]
     },
     "metadata": {},
     "output_type": "display_data"
    }
   ],
   "source": [
    "# Пример работы программы при degree = 0\n",
    "show(right_to_left_construction_method(0))"
   ]
  },
  {
   "cell_type": "code",
   "execution_count": 131,
   "metadata": {},
   "outputs": [
    {
     "name": "stdout",
     "output_type": "stream",
     "text": [
      "i: 0\tN: 9\tY: 1\tZ: x\n",
      "i: 1\tN: 4\tY: x\tZ: x^2\n",
      "i: 2\tN: 2\tY: x\tZ: x^4\n",
      "i: 3\tN: 1\tY: x\tZ: x^8\n",
      "i: 4\tN: 0\tY: x^9\tZ: x^8\n"
     ]
    },
    {
     "data": {
      "text/html": [
       "<html><script type=\"math/tex; mode=display\">\\newcommand{\\Bold}[1]{\\mathbf{#1}}x^{9}</script></html>"
      ],
      "text/latex": [
       "$$\\newcommand{\\Bold}[1]{\\mathbf{#1}}x^{9}$$"
      ],
      "text/plain": [
       "x^9"
      ]
     },
     "metadata": {},
     "output_type": "display_data"
    }
   ],
   "source": [
    "# Пример работы программы при degree = 9\n",
    "show(right_to_left_construction_method(9))"
   ]
  },
  {
   "cell_type": "markdown",
   "metadata": {},
   "source": [
    "\n",
    "| № итерации | Значение N | Значение Y | Значение Z |\n",
    "|:----------:|:----------:|:----------:|:----------:|\n",
    "|      0     |     9      |      1     |      $x$   |\n",
    "|      1     |     4      |      $x$   |    $x^2$   |\n",
    "|      2     |     2      |      $x$   |     $x^4$  |\n",
    "|      3     |     1      |      $x$   |     $x^8$  |\n",
    "|      4     |     0      |      $x^9$ |    $x^{8}$|"
   ]
  },
  {
   "cell_type": "code",
   "execution_count": 132,
   "metadata": {},
   "outputs": [
    {
     "name": "stdout",
     "output_type": "stream",
     "text": [
      "i: 0\tN: 23\tY: 1\tZ: x\n",
      "i: 1\tN: 11\tY: x\tZ: x^2\n",
      "i: 2\tN: 5\tY: x^3\tZ: x^4\n",
      "i: 3\tN: 2\tY: x^7\tZ: x^8\n",
      "i: 4\tN: 1\tY: x^7\tZ: x^16\n",
      "i: 5\tN: 0\tY: x^23\tZ: x^16\n"
     ]
    },
    {
     "data": {
      "text/html": [
       "<html><script type=\"math/tex; mode=display\">\\newcommand{\\Bold}[1]{\\mathbf{#1}}x^{23}</script></html>"
      ],
      "text/latex": [
       "$$\\newcommand{\\Bold}[1]{\\mathbf{#1}}x^{23}$$"
      ],
      "text/plain": [
       "x^23"
      ]
     },
     "metadata": {},
     "output_type": "display_data"
    }
   ],
   "source": [
    "# Пример работы программы при degree = 23\n",
    "show(right_to_left_construction_method(23))"
   ]
  },
  {
   "cell_type": "markdown",
   "metadata": {},
   "source": [
    "\n",
    "| № итерации | Значение N | Значение Y | Значение Z |\n",
    "|:----------:|:----------:|:----------:|:----------:|\n",
    "|      0     |     23     |      1     |      $x$   |\n",
    "|      1     |     11     |      $x$   |    $x^2$   |\n",
    "|      2     |      5     |      $x^3$ |     $x^4$  |\n",
    "|      3     |      2     |      $x^7$ |     $x^8$  |\n",
    "|      4     |      1     |      $x^7$ |    $x^{16}$|\n",
    "|      5     |      0     |      $x^{23}$|    $x^{16}$|"
   ]
  },
  {
   "cell_type": "code",
   "execution_count": 133,
   "metadata": {
    "scrolled": true
   },
   "outputs": [
    {
     "name": "stdout",
     "output_type": "stream",
     "text": [
      "i: 0\tN: 36\tY: 1\tZ: x\n",
      "i: 1\tN: 18\tY: 1\tZ: x^2\n",
      "i: 2\tN: 9\tY: 1\tZ: x^4\n",
      "i: 3\tN: 4\tY: x^4\tZ: x^8\n",
      "i: 4\tN: 2\tY: x^4\tZ: x^16\n",
      "i: 5\tN: 1\tY: x^4\tZ: x^32\n",
      "i: 6\tN: 0\tY: x^36\tZ: x^32\n"
     ]
    },
    {
     "data": {
      "text/html": [
       "<html><script type=\"math/tex; mode=display\">\\newcommand{\\Bold}[1]{\\mathbf{#1}}x^{36}</script></html>"
      ],
      "text/latex": [
       "$$\\newcommand{\\Bold}[1]{\\mathbf{#1}}x^{36}$$"
      ],
      "text/plain": [
       "x^36"
      ]
     },
     "metadata": {},
     "output_type": "display_data"
    }
   ],
   "source": [
    "# Пример работы программы при degree = 36\n",
    "show(right_to_left_construction_method(36))"
   ]
  },
  {
   "cell_type": "markdown",
   "metadata": {},
   "source": [
    "\n",
    "| № итерации | Значение N | Значение Y | Значение Z |\n",
    "|:----------:|:----------:|:----------:|:----------:|\n",
    "|      0     |     36     |      1     |      $x$   |\n",
    "|      1     |     18     |      1     |    $x^2$   |\n",
    "|      2     |      9     |      1     |     $x^4$  |\n",
    "|      3     |      4     |    $x^4$   |     $x^8$  |\n",
    "|      4     |      2     |    $x^4$   |    $x^{16}$|\n",
    "|      5     |      1     |    $x^4$   |    $x^{32}$|\n",
    "|      6     |      0     |    $x^{36}$|    $x^{32}$|"
   ]
  },
  {
   "cell_type": "markdown",
   "metadata": {},
   "source": [
    "**Проверим оценку числа операций для данных значений $degree$:**\n",
    "<ol>\n",
    "    <li>$degree = 9$<br>$lambda(n) = \\lfloor log_{2}(9) \\rfloor = 3$<br>$\\nu(n) = 2$<br>$\\lambda(n) + \\nu(n) = 5 $<br>Верно</li><br>\n",
    "    <li>$degree = 26$<br>$\\lambda(n) = \\lfloor log_{2}(26) \\rfloor = 4$<br>$\\nu(n) = 4$<br>$\\lambda(n) + \\nu(n) = 8$<br>Верно</li><br>\n",
    "    <li>$degree = 36$<br>$\\lambda(n) = \\lfloor log_{2}(36) \\rfloor = 5$<br>$\\nu(n) = 2$<br>$\\lambda(n) + \\nu(n) = 7$<br>Верно</li><br>\n",
    "Можно сделать вывод, что для наших $degree$ формула для вычисления количества операций корректна."
   ]
  },
  {
   "cell_type": "markdown",
   "metadata": {},
   "source": [
    "### Вывод\n",
    "Реализован метод возведения справа на лево, проверена его работоспособность, корректность и теоретическая оценка числа операций. Благодаря теоретической оценке можно узнать, за сколько итераций будет произведён расчёт. Метод прост в реализации, но не так прост в понимании. В общем случае значение $Z$ будет равно $x^{2^{i-2}}$, где $i$ - число итераций метода."
   ]
  },
  {
   "cell_type": "markdown",
   "metadata": {},
   "source": [
    "### 3) Сравнение бинароног метода SX и метода возведения справа налево\n",
    "\n",
    "Опираясь на оценку числа операций, можно сказать, что количество операций в методе $SX$  меньше, чем в методе возведения справа налево. В методе $SX$ число операций рассчитывается как $\\lambda(n) + \\nu(n) - 1$, а в методе возведения справа налево как $\\lambda(n) + \\nu(n)$ или же можно оценить как $\\lfloor log_{2}(n) \\rfloor + 2$."
   ]
  },
  {
   "cell_type": "markdown",
   "metadata": {},
   "source": [
    "### Вывод\n",
    "\n",
    "Исходя из оценки количества иераций можно сделать вывод, что бинарный метод $SX$ выгоднее метода возведения справа налево."
   ]
  },
  {
   "cell_type": "markdown",
   "metadata": {},
   "source": [
    "### 4) Метод множителей\n",
    "\n",
    "Выполним метод множителей вручную для некоторых степеней по алгоритму из теоретического положения."
   ]
  },
  {
   "cell_type": "markdown",
   "metadata": {},
   "source": [
    "<ol>\n",
    "<li>$degree = 9$</li>\n",
    "$\\hspace{1cm}$$x^9 = (x^3)^3$<br>\n",
    "$\\hspace{1cm}$$(x^3)^3 = (x^3)^2 * (x^3)$ - (1 операция)<br>\n",
    "$\\hspace{1cm}$$(x^3)^2 = (x^3)*(x^3)$ - (1 операция)<br>\n",
    "$\\hspace{1cm}$$x^3 = (x^2)*x$ - (1 операция)<br>  \n",
    "$\\hspace{1cm}$$x^2 = x*x$ - (1 операция)<br>\n",
    "Вся последовательность: $x, x^2, x^3, x^6, x^9$<br>   \n",
    "4 операции, как и в методе $SX$<br><br>  \n",
    "    \n",
    "<li>$degree = 23$</li>\n",
    "$\\hspace{1cm}$$x^{23} = (x^{22})*x$ - (1 операция)<br>\n",
    "$\\hspace{1cm}$$x^{22} = (x^2)^{11} = (x^2)^{10}*x$ - (1 операция)<br>\n",
    "$\\hspace{1cm}$$(x^2)^{10} = ((x^2)^2)^5 = (x^2)^2*((x^2)^2)^4$ - (1 операция)<br>\n",
    "$\\hspace{1cm}$$((x^2)^2)^4 = (((x^2)^2)^2)^2 = (x^2)^2)^2 * (x^2)^2)^2$ - (1 операция)<br>  \n",
    "$\\hspace{1cm}$$((x^2)^2)^2 = (x^2)^2 * (x^2)^2$ - (1 операция)<br> \n",
    "$\\hspace{1cm}$$(x^2)^2 = x^2 * x^2$ - (1 операция)<br> \n",
    "$\\hspace{1cm}$$x^2 = x*x$ - (1 операция)<br>\n",
    "Вся последовательность: $x, x^2, x^4, x^8, x^{16}, x^{20}, x^{22}, x^{23}$<br>   \n",
    "7 операций, как и в методе $SX$<br><br>\n",
    "    \n",
    "<li>$degree = 36$</li>\n",
    "$\\hspace{1cm}$$x^{36} = (x^3)^{12}$<br>\n",
    "$\\hspace{1cm}$$(x^3)^{12} = ((x^3)^3)^4$<br>\n",
    "$\\hspace{1cm}$$((x^3)^3)^4 = ((x^3)^3)^2 * ((x^3)^3)^2$ - (1 операция)<br>\n",
    "$\\hspace{1cm}$$((x^3)^3)^2 = (x^3)^3 * (x^3)^3$ - (1 операция)<br>\n",
    "$\\hspace{1cm}$$(x^3)^3 = (x^3)^2 * x^3$ - (1 операция)<br>\n",
    "$\\hspace{1cm}$$(x^3)^2 = x^3 * x^3$ - (1 операция)<br> \n",
    "$\\hspace{1cm}$$x^3 = x^2 * x$ - (1 операция)<br>\n",
    "$\\hspace{1cm}$$x^2 = x*x$ - (1 операция)<br>\n",
    "Вся последовательность: $𝑥, 𝑥^2, 𝑥^3, x^6, 𝑥^9, 𝑥^{18}, 𝑥^{36}$<br>   \n",
    "6 операций, как и в методе $SX$<br><br>  \n",
    "</ol>"
   ]
  },
  {
   "cell_type": "markdown",
   "metadata": {},
   "source": [
    "**На всех выбранных ранее значениях метод множителей дает значения идентичные методу SX, поэтому рассмотрим еще 2 значения, при которых количество итераций будет отличаться**<br><br>\n",
    "Сначала приведены результаты работы метода $SX$ для $degree = 33, 15$"
   ]
  },
  {
   "cell_type": "code",
   "execution_count": 134,
   "metadata": {},
   "outputs": [
    {
     "data": {
      "text/html": [
       "<html><script type=\"math/tex; mode=display\">\\newcommand{\\Bold}[1]{\\mathbf{#1}}\\verb|binary|\\verb| |\\verb|geree|\\verb| |\\verb|version:|\\verb| |\\verb|00001|</script></html>"
      ],
      "text/latex": [
       "$$\\newcommand{\\Bold}[1]{\\mathbf{#1}}\\verb|binary|\\verb| |\\verb|geree|\\verb| |\\verb|version:|\\verb| |\\verb|00001|$$"
      ],
      "text/plain": [
       "'binary geree version: 00001'"
      ]
     },
     "metadata": {},
     "output_type": "display_data"
    },
    {
     "data": {
      "text/html": [
       "<html><script type=\"math/tex; mode=display\">\\newcommand{\\Bold}[1]{\\mathbf{#1}}\\verb|sx|\\verb| |\\verb|degree|\\verb| |\\verb|version:|\\verb| |\\verb|SSSSSX|</script></html>"
      ],
      "text/latex": [
       "$$\\newcommand{\\Bold}[1]{\\mathbf{#1}}\\verb|sx|\\verb| |\\verb|degree|\\verb| |\\verb|version:|\\verb| |\\verb|SSSSSX|$$"
      ],
      "text/plain": [
       "'sx degree version: SSSSSX'"
      ]
     },
     "metadata": {},
     "output_type": "display_data"
    },
    {
     "data": {
      "text/html": [
       "<html><script type=\"math/tex; mode=display\">\\newcommand{\\Bold}[1]{\\mathbf{#1}}\\verb|the|\\verb| |\\verb|sequence|\\verb| |\\verb|of|\\verb| |\\verb|calculations:| \\left[x, x^{2}, x^{4}, x^{8}, x^{16}, x^{32}, x^{33}\\right]</script></html>"
      ],
      "text/latex": [
       "$$\\newcommand{\\Bold}[1]{\\mathbf{#1}}\\verb|the|\\verb| |\\verb|sequence|\\verb| |\\verb|of|\\verb| |\\verb|calculations:| \\left[x, x^{2}, x^{4}, x^{8}, x^{16}, x^{32}, x^{33}\\right]$$"
      ],
      "text/plain": [
       "'the sequence of calculations: ' [x, x^2, x^4, x^8, x^16, x^32, x^33]"
      ]
     },
     "metadata": {},
     "output_type": "display_data"
    },
    {
     "data": {
      "text/html": [
       "<html><script type=\"math/tex; mode=display\">\\newcommand{\\Bold}[1]{\\mathbf{#1}}\\verb|count|\\verb| |\\verb|operation:|\\verb| |\\verb|6|</script></html>"
      ],
      "text/latex": [
       "$$\\newcommand{\\Bold}[1]{\\mathbf{#1}}\\verb|count|\\verb| |\\verb|operation:|\\verb| |\\verb|6|$$"
      ],
      "text/plain": [
       "'count operation: 6'"
      ]
     },
     "metadata": {},
     "output_type": "display_data"
    },
    {
     "data": {
      "text/html": [
       "<html><script type=\"math/tex; mode=display\">\\newcommand{\\Bold}[1]{\\mathbf{#1}}x^{33}</script></html>"
      ],
      "text/latex": [
       "$$\\newcommand{\\Bold}[1]{\\mathbf{#1}}x^{33}$$"
      ],
      "text/plain": [
       "x^33"
      ]
     },
     "metadata": {},
     "output_type": "display_data"
    }
   ],
   "source": [
    "# Пример работы программы при degree = 33\n",
    "show(binary_sx_method(33))"
   ]
  },
  {
   "cell_type": "code",
   "execution_count": 135,
   "metadata": {},
   "outputs": [
    {
     "data": {
      "text/html": [
       "<html><script type=\"math/tex; mode=display\">\\newcommand{\\Bold}[1]{\\mathbf{#1}}\\verb|binary|\\verb| |\\verb|geree|\\verb| |\\verb|version:|\\verb| |\\verb|111|</script></html>"
      ],
      "text/latex": [
       "$$\\newcommand{\\Bold}[1]{\\mathbf{#1}}\\verb|binary|\\verb| |\\verb|geree|\\verb| |\\verb|version:|\\verb| |\\verb|111|$$"
      ],
      "text/plain": [
       "'binary geree version: 111'"
      ]
     },
     "metadata": {},
     "output_type": "display_data"
    },
    {
     "data": {
      "text/html": [
       "<html><script type=\"math/tex; mode=display\">\\newcommand{\\Bold}[1]{\\mathbf{#1}}\\verb|sx|\\verb| |\\verb|degree|\\verb| |\\verb|version:|\\verb| |\\verb|SXSXSX|</script></html>"
      ],
      "text/latex": [
       "$$\\newcommand{\\Bold}[1]{\\mathbf{#1}}\\verb|sx|\\verb| |\\verb|degree|\\verb| |\\verb|version:|\\verb| |\\verb|SXSXSX|$$"
      ],
      "text/plain": [
       "'sx degree version: SXSXSX'"
      ]
     },
     "metadata": {},
     "output_type": "display_data"
    },
    {
     "data": {
      "text/html": [
       "<html><script type=\"math/tex; mode=display\">\\newcommand{\\Bold}[1]{\\mathbf{#1}}\\verb|the|\\verb| |\\verb|sequence|\\verb| |\\verb|of|\\verb| |\\verb|calculations:| \\left[x, x^{2}, x^{3}, x^{6}, x^{7}, x^{14}, x^{15}\\right]</script></html>"
      ],
      "text/latex": [
       "$$\\newcommand{\\Bold}[1]{\\mathbf{#1}}\\verb|the|\\verb| |\\verb|sequence|\\verb| |\\verb|of|\\verb| |\\verb|calculations:| \\left[x, x^{2}, x^{3}, x^{6}, x^{7}, x^{14}, x^{15}\\right]$$"
      ],
      "text/plain": [
       "'the sequence of calculations: ' [x, x^2, x^3, x^6, x^7, x^14, x^15]"
      ]
     },
     "metadata": {},
     "output_type": "display_data"
    },
    {
     "data": {
      "text/html": [
       "<html><script type=\"math/tex; mode=display\">\\newcommand{\\Bold}[1]{\\mathbf{#1}}\\verb|count|\\verb| |\\verb|operation:|\\verb| |\\verb|6|</script></html>"
      ],
      "text/latex": [
       "$$\\newcommand{\\Bold}[1]{\\mathbf{#1}}\\verb|count|\\verb| |\\verb|operation:|\\verb| |\\verb|6|$$"
      ],
      "text/plain": [
       "'count operation: 6'"
      ]
     },
     "metadata": {},
     "output_type": "display_data"
    },
    {
     "data": {
      "text/html": [
       "<html><script type=\"math/tex; mode=display\">\\newcommand{\\Bold}[1]{\\mathbf{#1}}x^{15}</script></html>"
      ],
      "text/latex": [
       "$$\\newcommand{\\Bold}[1]{\\mathbf{#1}}x^{15}$$"
      ],
      "text/plain": [
       "x^15"
      ]
     },
     "metadata": {},
     "output_type": "display_data"
    }
   ],
   "source": [
    "# Пример работы программы при degree = 15\n",
    "show(binary_sx_method(15))"
   ]
  },
  {
   "cell_type": "markdown",
   "metadata": {},
   "source": [
    "Теперь расчитаем метод множителей для этих же значений"
   ]
  },
  {
   "cell_type": "markdown",
   "metadata": {},
   "source": [
    "<ol>\n",
    "<li>$degree = 33$</li>\n",
    "$\\hspace{1cm}$$x^{33} = (x^3)^{11} = (x^3)^{10}*x^3$ - (1 операция)<br>\n",
    "$\\hspace{1cm}$$(x^3)^{10} = ((x^3)^5)^2 = (x^3)^5*(x^3)^5$ - (1 операция)<br> \n",
    "$\\hspace{1cm}$$(x^3)^5 = (x^3)^4*x^3$ - (1 операция)<br>\n",
    "$\\hspace{1cm}$$(x^3)^4 = (x^3)^2*(x^3)^2$ - (1 операция)<br>\n",
    "$\\hspace{1cm}$$(x^3)^2 = x^3*x^3$ - (1 операция)<br>\n",
    "$\\hspace{1cm}$$x^3 = x^2*x$ - (1 операция)<br>\n",
    "$\\hspace{1cm}$$x^2 = x*x$ - (1 операция)<br>\n",
    "Вся последовательность: $𝑥, 𝑥^2, 𝑥^3, x^6, x^{12}, 𝑥^{15}, 𝑥^{30}, 𝑥^{33}$<br>   \n",
    "7 операций, а в методе $SX$ всего 6 операций (метод множителей менее эффективен)<br><br> \n",
    "    \n",
    "<li>$degree = 15$</li>\n",
    "$\\hspace{1cm}$$x^{15} = (x^3)^5 = (x^3)^4*x^3$ - (1 операция)<br>\n",
    "$\\hspace{1cm}$$(x^3)^4 = (x^3)^2 * (x^3)^2$ - (1 операция)<br>\n",
    "$\\hspace{1cm}$$(x^3)^2 = x^3 * x^3$ - (1 операция)<br>\n",
    "$\\hspace{1cm}$$x^3 = x^2 * x$ - (1 операция)<br>\n",
    "$\\hspace{1cm}$$x^2 = x * x$ - (1 операция)<br>\n",
    "Вся последовательность: $𝑥, 𝑥^2, 𝑥^3, x^6, x^{12}, 𝑥^{15}$<br>   \n",
    "5 операций, а в методе $SX$ 6 операций (метод множителей более эффективен)<br><br>   \n",
    "</ol>"
   ]
  },
  {
   "cell_type": "markdown",
   "metadata": {},
   "source": [
    "#### Вывод\n",
    "Таким образом, рассмотрен метод множителей для нескольких $n$. Его преимущество заключается в простоте идеи и возможности легко посчитать число операций для возведения числа в степень \"руками\". Также, метод множителей может быть быстрее, чем бинарный ($n=15$), он иногда может быть медленнее ($n=33$). Его минус - сложность реализации (скорее всего придётся применять рекурсию)."
   ]
  },
  {
   "cell_type": "markdown",
   "metadata": {},
   "source": [
    "### 5) Дерево степеней\n",
    "\n",
    "Реализуем класс $DegreeTree$ до заданного уровня $count\\_level$. Для хранения структуры дерева используем словарь вида {узел: список родителей (всегда один)}. В методе $\\_\\_create\\_tree$ перебирая уровни от $0$ до $count\\_level$, просматриваем все возможные новые элементы, которые можно вставить на следующий уровень. Если элемента нет в дереве, то вставляем его. С помощью $\\_\\_get\\_path\\_to\\_node$ строим цепочку от 0-го узла до рассматриваемого. В методе  $\\_\\_get\\_branches\\_to\\_node$ строим цепочку ветвей до рассматриваемого узла, этот метод необходим для визуального выделения пути до узла. Метод show выводит граф, с выделенным путем до искомого узла $desired\\_node$. Метод $show\\_answer$ выводит цепочку элементов на каждом шаге итераций и количество вычислений. Метод $find\\_count\\_operations$ строит дерево до тех пор пока не найдет нужный узел и подсчитывает количество операций (необходим для сравнения)."
   ]
  },
  {
   "cell_type": "code",
   "execution_count": 136,
   "metadata": {},
   "outputs": [],
   "source": [
    "class DegreeTree:\n",
    "    def __init__(self, count_levels: int) -> None:\n",
    "        \"\"\"\n",
    "        This method initializes the tree\n",
    "        \"\"\"\n",
    "        \n",
    "        self.__count_levels = count_levels # количество уровней дерева\n",
    "        self.__tree = {1: []}              # словарь узлов дерева с путями до них\n",
    "        self.__create_tree()\n",
    "    \n",
    "    def __create_tree(self) -> None:\n",
    "        \"\"\"\n",
    "        This method builds a tree\n",
    "        \"\"\"\n",
    "        \n",
    "        current_level_nodes = [1]                             # список узлов на текущем уровне\n",
    "        for current_level in range(self.__count_levels):      # цикл по уровням дерева\n",
    "            next_level_nodes = []                             # список узлов на следующем уровне\n",
    "            for parent_node in current_level_nodes:           # цикл по узлам текущего уровня\n",
    "                path_to_parent_node  = self.__get_path_to_node(parent_node)\n",
    "                for node_in_path in path_to_parent_node:                 # цикл по узлам в пути до текущего родителя\n",
    "                    child_node = parent_node + node_in_path              # возможный новый дочерний узел\n",
    "                    if not(child_node in self.__tree):                   # проверка на отсутствие узла в дереве\n",
    "                        self.__tree[child_node] = [parent_node]\n",
    "                        next_level_nodes.append(child_node)\n",
    "            current_level_nodes = next_level_nodes                        # переход на новый уровень\n",
    "     \n",
    "        \n",
    "    def find_count_operations(self, desired_node):\n",
    "        \"\"\"\n",
    "        This method builds a tree until it finds the desired node and returns the number\n",
    "        of operations to search for this node\n",
    "        \"\"\"\n",
    "        \n",
    "        self.__tree = {1: []}\n",
    "        count_operation = 0\n",
    "        is_node_found = False\n",
    "        current_level_nodes = [1]                             # список узлов на текущем уровне\n",
    "        while not is_node_found:                              # строим дерево пока не найдем узел\n",
    "            count_operation += 1\n",
    "            next_level_nodes = []                             # список узлов на следующем уровне\n",
    "            for parent_node in current_level_nodes:           # цикл по узлам текущего уровня\n",
    "                path_to_parent_node  = self.__get_path_to_node(parent_node)\n",
    "                for node_in_path in path_to_parent_node:                 # цикл по узлам в пути до текущего родителя\n",
    "                    child_node = parent_node + node_in_path              # возможный новый дочерний узел\n",
    "                    if child_node == desired_node:\n",
    "                        is_node_found = True\n",
    "                    if not(child_node in self.__tree):                    # проверка на отсутствие узла в дереве\n",
    "                        self.__tree[child_node] = [parent_node]\n",
    "                        next_level_nodes.append(child_node)\n",
    "            current_level_nodes = next_level_nodes                        # переход на новый уровень\n",
    "        return count_operation\n",
    "    \n",
    "    \n",
    "    def __get_path_to_node(self, node: int):\n",
    "        \"\"\"\n",
    "        This method restores the path from the node to the root\n",
    "        \"\"\"\n",
    "        \n",
    "        path = [node]\n",
    "        while node != 1:\n",
    "            node = self.__tree[node][0]\n",
    "            path.append(node)\n",
    "            \n",
    "        return path[::-1]\n",
    "    \n",
    "    \n",
    "    def __get_branches_to_node(self, node: int):\n",
    "        \"\"\"\n",
    "        This method returns a list of branches to the desired node\n",
    "        \"\"\"\n",
    "        path = self.__get_path_to_node(node)\n",
    "        branches = []\n",
    "        for i in range(len(path)-1):\n",
    "            branches.append((path[i], path[i+1]))\n",
    "        return branches\n",
    "    \n",
    "    \n",
    "    def show(self, desired_node=None) -> None:\n",
    "        \"\"\"\n",
    "        This method displays the graph and highlights the path to the desired node on it\n",
    "        \"\"\"\n",
    "        \n",
    "        graph_view = Graph(self.__tree)\n",
    "        if not desired_node in self.__tree:\n",
    "            show(\"This node is not in the graph\")\n",
    "            \n",
    "        plt = graph_view.plot(layout='tree', tree_root=1, vertex_color=\"skyblue\", by_component=True,\n",
    "                             edge_colors={(1, 0, 0): self.__get_branches_to_node(desired_node)})\n",
    "        plt.show()\n",
    "    \n",
    "    \n",
    "    def show_answer(self, desired_node=None):\n",
    "        if not desired_node in self.__tree:\n",
    "            show(\"This node is not in the graph\")\n",
    "        \n",
    "        x = var('x')\n",
    "        answer = list()\n",
    "        for degree in self.__get_path_to_node(desired_node):\n",
    "            answer.append(x^degree)\n",
    "        show(\"chain: \", answer)\n",
    "        show(\"count operations: \" + str(len(answer) - 1))\n",
    "        "
   ]
  },
  {
   "cell_type": "code",
   "execution_count": 137,
   "metadata": {},
   "outputs": [
    {
     "data": {
      "image/png": "[encoded data removed]",
      "text/plain": [
       "Graphics object consisting of 24 graphics primitives"
      ]
     },
     "metadata": {},
     "output_type": "display_data"
    },
    {
     "data": {
      "text/html": [
       "<html><script type=\"math/tex; mode=display\">\\newcommand{\\Bold}[1]{\\mathbf{#1}}\\verb|chain:| \\left[x, x^{2}, x^{3}, x^{6}, x^{9}\\right]</script></html>"
      ],
      "text/latex": [
       "$$\\newcommand{\\Bold}[1]{\\mathbf{#1}}\\verb|chain:| \\left[x, x^{2}, x^{3}, x^{6}, x^{9}\\right]$$"
      ],
      "text/plain": [
       "'chain: ' [x, x^2, x^3, x^6, x^9]"
      ]
     },
     "metadata": {},
     "output_type": "display_data"
    },
    {
     "data": {
      "text/html": [
       "<html><script type=\"math/tex; mode=display\">\\newcommand{\\Bold}[1]{\\mathbf{#1}}\\verb|count|\\verb| |\\verb|operations:|\\verb| |\\verb|4|</script></html>"
      ],
      "text/latex": [
       "$$\\newcommand{\\Bold}[1]{\\mathbf{#1}}\\verb|count|\\verb| |\\verb|operations:|\\verb| |\\verb|4|$$"
      ],
      "text/plain": [
       "'count operations: 4'"
      ]
     },
     "metadata": {},
     "output_type": "display_data"
    }
   ],
   "source": [
    "degree_tree = DegreeTree(4)\n",
    "degree_tree.show(9)\n",
    "degree_tree.show_answer(9)"
   ]
  },
  {
   "cell_type": "code",
   "execution_count": 138,
   "metadata": {},
   "outputs": [
    {
     "data": {
      "image/png": "[encoded data removed]",
      "text/plain": [
       "Graphics object consisting of 72 graphics primitives"
      ]
     },
     "metadata": {},
     "output_type": "display_data"
    },
    {
     "data": {
      "text/html": [
       "<html><script type=\"math/tex; mode=display\">\\newcommand{\\Bold}[1]{\\mathbf{#1}}\\verb|chain:| \\left[x, x^{2}, x^{3}, x^{5}, x^{10}, x^{13}, x^{26}\\right]</script></html>"
      ],
      "text/latex": [
       "$$\\newcommand{\\Bold}[1]{\\mathbf{#1}}\\verb|chain:| \\left[x, x^{2}, x^{3}, x^{5}, x^{10}, x^{13}, x^{26}\\right]$$"
      ],
      "text/plain": [
       "'chain: ' [x, x^2, x^3, x^5, x^10, x^13, x^26]"
      ]
     },
     "metadata": {},
     "output_type": "display_data"
    },
    {
     "data": {
      "text/html": [
       "<html><script type=\"math/tex; mode=display\">\\newcommand{\\Bold}[1]{\\mathbf{#1}}\\verb|count|\\verb| |\\verb|operations:|\\verb| |\\verb|6|</script></html>"
      ],
      "text/latex": [
       "$$\\newcommand{\\Bold}[1]{\\mathbf{#1}}\\verb|count|\\verb| |\\verb|operations:|\\verb| |\\verb|6|$$"
      ],
      "text/plain": [
       "'count operations: 6'"
      ]
     },
     "metadata": {},
     "output_type": "display_data"
    }
   ],
   "source": [
    "degree_tree = DegreeTree(6)\n",
    "degree_tree.show(26)\n",
    "degree_tree.show_answer(26)"
   ]
  },
  {
   "cell_type": "code",
   "execution_count": 139,
   "metadata": {},
   "outputs": [
    {
     "data": {
      "image/png": "[encoded data removed]",
      "text/plain": [
       "Graphics object consisting of 72 graphics primitives"
      ]
     },
     "metadata": {},
     "output_type": "display_data"
    },
    {
     "data": {
      "text/html": [
       "<html><script type=\"math/tex; mode=display\">\\newcommand{\\Bold}[1]{\\mathbf{#1}}\\verb|chain:| \\left[x, x^{2}, x^{3}, x^{6}, x^{9}, x^{18}, x^{36}\\right]</script></html>"
      ],
      "text/latex": [
       "$$\\newcommand{\\Bold}[1]{\\mathbf{#1}}\\verb|chain:| \\left[x, x^{2}, x^{3}, x^{6}, x^{9}, x^{18}, x^{36}\\right]$$"
      ],
      "text/plain": [
       "'chain: ' [x, x^2, x^3, x^6, x^9, x^18, x^36]"
      ]
     },
     "metadata": {},
     "output_type": "display_data"
    },
    {
     "data": {
      "text/html": [
       "<html><script type=\"math/tex; mode=display\">\\newcommand{\\Bold}[1]{\\mathbf{#1}}\\verb|count|\\verb| |\\verb|operations:|\\verb| |\\verb|6|</script></html>"
      ],
      "text/latex": [
       "$$\\newcommand{\\Bold}[1]{\\mathbf{#1}}\\verb|count|\\verb| |\\verb|operations:|\\verb| |\\verb|6|$$"
      ],
      "text/plain": [
       "'count operations: 6'"
      ]
     },
     "metadata": {},
     "output_type": "display_data"
    }
   ],
   "source": [
    "degree_tree = DegreeTree(6)\n",
    "degree_tree.show(36)\n",
    "degree_tree.show_answer(36)"
   ]
  },
  {
   "cell_type": "markdown",
   "metadata": {},
   "source": [
    "**Сравним данный метод с методом $SX$**.<br> \n",
    "Напишем функцию, возвращающую количество операций умножения для бинарного метода $SX$:"
   ]
  },
  {
   "cell_type": "code",
   "execution_count": 140,
   "metadata": {},
   "outputs": [],
   "source": [
    "def get_sx_method_count_operations(n):\n",
    "    return floor(log(n, 2)) + bin(n)[2:].count('1') - 1"
   ]
  },
  {
   "cell_type": "markdown",
   "metadata": {},
   "source": [
    "Проверим, что дерево степеней не проигрывает бинарному методу (проверим до $n = 4444$)"
   ]
  },
  {
   "cell_type": "code",
   "execution_count": 118,
   "metadata": {},
   "outputs": [
    {
     "data": {
      "text/html": [
       "<html><script type=\"math/tex; mode=display\">\\newcommand{\\Bold}[1]{\\mathbf{#1}}\\verb|Degree|\\verb| |\\verb|tree|\\verb| |\\verb|better!|</script></html>"
      ],
      "text/latex": [
       "$$\\newcommand{\\Bold}[1]{\\mathbf{#1}}\\verb|Degree|\\verb| |\\verb|tree|\\verb| |\\verb|better!|$$"
      ],
      "text/plain": [
       "'Degree tree better!'"
      ]
     },
     "metadata": {},
     "output_type": "display_data"
    }
   ],
   "source": [
    "degree_tree = DegreeTree(3)\n",
    "is_degree_tree_better = True\n",
    "\n",
    "for n in range(2, 4444):\n",
    "    if get_sx_method_count_operations(n) < degree_tree.find_count_operations(n):\n",
    "        is_degree_tree_better = False\n",
    "        break\n",
    "        \n",
    "if is_degree_tree_better: \n",
    "    show(\"Degree tree better!\")\n",
    "else: \n",
    "    show(\"Degree tree worse!\")\n"
   ]
  },
  {
   "cell_type": "markdown",
   "metadata": {},
   "source": [
    "#### Вывод\n",
    "\n",
    "Реализовано дерево степеней. Дерево отображается средствами $SageMath$ до заданного уровня $k$, путь от вершины дерева до заданного числа $n$ выделяется цветом.<br>\n",
    "В результате сравнения данного метода с бинарным $SX$ выявлено, что дерево степеней ему не проигрывает $\\Rightarrow$ выигрывает метод справа налево и метод множителей ."
   ]
  },
  {
   "cell_type": "markdown",
   "metadata": {},
   "source": [
    "## Выводы\n",
    "\n",
    "Общий вывод по проделанной работе."
   ]
  },
  {
   "cell_type": "markdown",
   "metadata": {},
   "source": [
    "Изучены и реализованы алгоритмы вычисления одночленов за минимальное число операций, а также отработан навык использования системы компьютерной алгебры *SageMath* для реализации алгоритмов.<br>\n",
    "Реализованы следующие методы:\n",
    "<ol>\n",
    "    <li>бинарный метод $SX$</li>\n",
    "    <li>бинарный метод возведения в степень справа налево</li>\n",
    "    <li>рассмотрен метод множителей</li>\n",
    "    <li>реализован алгоритм дерева степеней</li>\n",
    "</ol>\n",
    "Алгоритмы проверены на работоспособность, произведено сравнение с теоретическими положениями.<br>"
   ]
  }
 ],
 "metadata": {
  "kernelspec": {
   "display_name": "SageMath 9.5",
   "language": "sage",
   "name": "sagemath"
  },
  "language_info": {
   "codemirror_mode": {
    "name": "ipython",
    "version": 3
   },
   "file_extension": ".py",
   "mimetype": "text/x-python",
   "name": "python",
   "nbconvert_exporter": "python",
   "pygments_lexer": "ipython3",
   "version": "3.10.6"
  }
 },
 "nbformat": 4,
 "nbformat_minor": 4
}
