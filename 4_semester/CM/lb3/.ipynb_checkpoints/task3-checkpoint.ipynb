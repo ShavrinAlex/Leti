{
 "cells": [
  {
   "cell_type": "markdown",
   "metadata": {},
   "source": [
    "# Практическая работа №3: Исследование задач о раскрасках\n",
    "\n",
    "Выполнил студент гр. 1304 Шаврин Алексей. Вариант №52."
   ]
  },
  {
   "cell_type": "markdown",
   "metadata": {},
   "source": [
    "## Цель работы\n",
    "\n",
    "Формирование представления о задачах о раскрасках, выработать умение использование леммы Бёрнсайда для решения задачи о раскрасках,привить навык использования систем компьютерной алгебры для реализации алгоритмов решения задачи."
   ]
  },
  {
   "cell_type": "markdown",
   "metadata": {},
   "source": [
    "## Основные теоретические положения\n",
    "\n",
    "### Действие группы на множество\n",
    "Пусть $G$ - группа с нейтральным элементом $e$, a $X$ - множество. Будем говорить, что $G$ действует на $X$, если задана операция $G \\times X \\rightarrow X$.   \n",
    "$\\forall$ $x \\in X$ и $g, h \\in G$, при том:\n",
    "<ol>\n",
    "<li>$ex = x$</li>\n",
    "<li>$g(h(x)) = gh(x)$</li>\n",
    "</ol>\n",
    "\n",
    "\n",
    "### Орбита\n",
    "Орбитой элемента $x \\in X$ под действием $G$ называется множество  \n",
    "$Gx = \\{gx : g \\in G\\}$\n",
    "Длина орбиты - количество элементов в ней, обозначается $\\#G$\n",
    "\n",
    "### Неподвижные точки\n",
    "Неподвижными точками элемента $g \\in G$ называются $x \\in X : gx = x$<br>\n",
    "Множество неподвижных точек элемента $g$ обозначается $X^g$\n",
    "\n",
    "### Лемма Бернсайда\n",
    "Количество орбит действия группы $G$ на множестве $X$ равно  \n",
    "$\\frac{1}{\\#G}\\sum_{g \\in G} \\#X^{g}$\n",
    "\n",
    "### Определение раскраски\n",
    "Пусть $I$ - произвольное множество, а $C$ - множество цветов. Раскраской множества $I$ называется функция из $I$ в $C$. Множество всех раскрасок обозначается через $C^I$, количество раскрасок равно $\\#C^{\\#I}$ \n",
    "\n",
    "### Количество раскрасок\n",
    "Количество раскрасок из $C^I$, которые сохраняют данный элемент $g \\in G$ равно $\\#C^{c(\\varphi(g)))}$  \n",
    "$с(\\varphi(g))$ - количество независимых циклов перестановки $\\varphi(g)$"
   ]
  },
  {
   "cell_type": "markdown",
   "metadata": {},
   "source": [
    "## Постановка задачи\n",
    "\n",
    "Реализовать точные и приближённые алгоритмы нахождения минимальных аддитивных цепочек с использованием системы компьютерной математики SageMath, провести анализ алгоритмов. Полученные результаты содержательно проинтерпретировать."
   ]
  },
  {
   "cell_type": "markdown",
   "metadata": {},
   "source": [
    "## Выполнение работы\n",
    "\n",
    "### Условие задачи\n",
    "Каждая сторона квадрата разбита на 9 равных частей и через точки деления проведены отрезки, параллельные сторонам квадрата. В получившиеся клаточки вставляют цветные стекла 3 различных цветов. Сколькими способами можно составить такую мозаику (с точностью до поворота и осевых симметрий квадрата)."
   ]
  },
  {
   "cell_type": "markdown",
   "metadata": {},
   "source": [
    "### 1) Аналитическое решение (Лемма Бернсайда)\n",
    "\n",
    "1) Обозначим множество квадратиков, на которые разбит наш квадрат как $I = ${$i_1, i_2, ..., i_{81}$}, где $i_j = j \\in [1, 81]$, а множество цветов как $C = ${$c_1, c_2, c_3$}.<br> Всего существует $3^{81}$ раскрасок, однако не все различны с точностью до поворота и осевых симметрий.<br><br> \n",
    "Для наглядности реализуем следующий функционал <em>create_matrix</em> - создает матрицу пронумерованных квадратиков и <em>print_matrix</em> - выводит переданную матрицу, <em>rotate_matrix</em> - поворачивает матрицу на заданный угол, <em>mirror_matrix</em> - отражает матрицу относительно переданой оси (вертикали, горизонтали, главной диагонали или побочной диагонали). Функции <em>test_rotate</em> и <em>test_mirror</em> реализуют тесты для поворотов и отражений матрицы. Некоторые функции имеют функционал для работы 2-го пункта работы."
   ]
  },
  {
   "cell_type": "code",
   "execution_count": 481,
   "metadata": {},
   "outputs": [],
   "source": [
    "from copy import deepcopy"
   ]
  },
  {
   "cell_type": "code",
   "execution_count": 482,
   "metadata": {},
   "outputs": [],
   "source": [
    "def create_matrix(matrix_size: int) -> list[list[int]]:\n",
    "    \"\"\"\n",
    "    Функция создания матрицы matrix_size на matrix_size, с пронумерованными элементами\n",
    "    \"\"\"\n",
    "    \n",
    "    matrix = []\n",
    "    counter = 1\n",
    "    for row in range(matrix_size):\n",
    "        current_row = []\n",
    "        for column in range(matrix_size): \n",
    "            current_row.append(counter)\n",
    "            counter += 1\n",
    "        matrix.append(current_row)\n",
    "    return matrix"
   ]
  },
  {
   "cell_type": "code",
   "execution_count": 483,
   "metadata": {},
   "outputs": [],
   "source": [
    "def print_matrix(matrix: list[list[int]], matrix_type: str=\"Classic\") -> None:\n",
    "    \"\"\"\n",
    "    Функция вывода матрицы\n",
    "    \"\"\"\n",
    "    \n",
    "    if matrix_type == \"Classic\":\n",
    "        for row in matrix:\n",
    "            print(*row, sep=' ')\n",
    "    if matrix_type == \"Coloring\":\n",
    "        matrix_plot(matrix, vmin=0, vmax=2, cmap=\"tab10\").show()"
   ]
  },
  {
   "cell_type": "code",
   "execution_count": 484,
   "metadata": {},
   "outputs": [],
   "source": [
    "def rotate_matrix(matrix: list[list[int]], degree: int=0) -> list[list[int]]:\n",
    "    \"\"\"\n",
    "    Функция поворота матрицы на 90 градусов\n",
    "    \"\"\"\n",
    "    \n",
    "    rotated_matrix = deepcopy(matrix)\n",
    "    if degree in [0, 90, 180, 270, 360]:\n",
    "        while degree != 0:\n",
    "            rotated_matrix = [list(reversed(col)) for col in zip(*rotated_matrix)]\n",
    "            degree -= 90\n",
    "    return rotated_matrix\n",
    "        "
   ]
  },
  {
   "cell_type": "code",
   "execution_count": 485,
   "metadata": {},
   "outputs": [],
   "source": [
    "def mirror_matrix(matrix: list[list[int]], asix: str) -> list[list[int]]: \n",
    "    \"\"\"\n",
    "    Функция отражения матрицы по заданой оси\n",
    "    \"\"\"\n",
    "    \n",
    "    mr_matrix = deepcopy(matrix)\n",
    "    if asix in [\"vertical\", \"horizontal\", \"main_diagonal\", \"side_diagonal\"]:\n",
    "        if asix == \"main_diagonal\":\n",
    "            mr_matrix = rotate_matrix(mr_matrix, 90)\n",
    "            \n",
    "        if asix == \"horizontal\":\n",
    "            mr_matrix = rotate_matrix(mr_matrix, 180)\n",
    "                \n",
    "        if asix == \"side_diagonal\":\n",
    "            mr_matrix = rotate_matrix(mr_matrix, 270)\n",
    "            \n",
    "        for i in range(len(matrix)):\n",
    "            mr_matrix[i] = mr_matrix[i][::-1]\n",
    "        \n",
    "    return mr_matrix"
   ]
  },
  {
   "cell_type": "code",
   "execution_count": 486,
   "metadata": {},
   "outputs": [],
   "source": [
    "def test_rotate(matrix: list[list[int]], test_type: str=\"Classic\") -> None:\n",
    "    \"\"\"\n",
    "    Функция, реализующая тест поворотов матрицы\n",
    "    \"\"\"\n",
    "    \n",
    "    for degree in [90, 180, 270, 360]:\n",
    "        print(f\"{degree} degree rotation\")\n",
    "        print_matrix(rotate_matrix(matrix, degree), matrix_type=test_type)\n",
    "        print()"
   ]
  },
  {
   "cell_type": "code",
   "execution_count": 487,
   "metadata": {},
   "outputs": [],
   "source": [
    "def test_mirror(matrix: list[list[int]], test_type: str=\"Classic\") -> None:\n",
    "    \"\"\"\n",
    "    Функция, реализующая тест отражений матрицы\n",
    "    \"\"\"\n",
    "    \n",
    "    for asix in [\"vertical\", \"main_diagonal\", \"horizontal\", \"side_diagonal\"]:\n",
    "        print(f\"{asix} asix mirror\")\n",
    "        print_matrix(mirror_matrix(matrix, asix), matrix_type=test_type)\n",
    "        print()"
   ]
  },
  {
   "cell_type": "code",
   "execution_count": 488,
   "metadata": {},
   "outputs": [
    {
     "name": "stdout",
     "output_type": "stream",
     "text": [
      "1 2 3 4 5 6 7 8 9\n",
      "10 11 12 13 14 15 16 17 18\n",
      "19 20 21 22 23 24 25 26 27\n",
      "28 29 30 31 32 33 34 35 36\n",
      "37 38 39 40 41 42 43 44 45\n",
      "46 47 48 49 50 51 52 53 54\n",
      "55 56 57 58 59 60 61 62 63\n",
      "64 65 66 67 68 69 70 71 72\n",
      "73 74 75 76 77 78 79 80 81\n"
     ]
    }
   ],
   "source": [
    "matrix = create_matrix(9)\n",
    "print_matrix(matrix)"
   ]
  },
  {
   "cell_type": "markdown",
   "metadata": {},
   "source": [
    "Для более удобного представления запишем ее в MARKDOWN стиле"
   ]
  },
  {
   "cell_type": "markdown",
   "metadata": {},
   "source": [
    "M = \n",
    "$\\left[\n",
    " \\begin{matrix}\n",
    "    1&2&3&4&5&6&7&8&9\\\\\n",
    "    10&11&12&13&14&15&16&17&18\\\\\n",
    "    19&20&21&22&23&24&25&26&27\\\\\n",
    "    28&29&30&31&32&33&34&35&36\\\\\n",
    "    37&38&39&40&41&42&43&44&45\\\\\n",
    "    46&47&48&49&50&51&52&53&54\\\\\n",
    "    55&56&57&58&59&60&61&62&63\\\\\n",
    "    64&65&66&67&68&69&70&71&72\\\\\n",
    "    73&74&75&76&77&78&79&80&81\n",
    "  \\end{matrix} \n",
    "\\right]$"
   ]
  },
  {
   "cell_type": "markdown",
   "metadata": {},
   "source": [
    "2) Пусть $\\tau$ - поворот на $90^o$. Рассмотрим повороты:\n",
    "<ol>\n",
    "    <li>На $90^o$ ($\\tau$):<br>\n",
    "        $\\tau$ = (1, 9, 81, 73)(2, 18, 80, 64)...(31,33,51,49)(41) - всего 21 цикл</li><br>\n",
    "    <li>На $180^o$ ($\\tau^2$):<br>\n",
    "        $\\tau^2$ = (1, 81)(2, 80)...(31,51)(41) - всего 41 цикл</li><br>\n",
    "    <li>На $270^o$ ($\\tau^3$):<br>\n",
    "        $\\tau^3$ = (1,73,81,9)(2,64,80,18)...(31,49,51,33)(41) - всего 21 цикл</li><br>\n",
    "    <li>На $360^o$ ($\\tau^4$ = $e$) - тождественное преобразование:<br>   \n",
    "        $e =\\tau^4$ = (1)(2)...(81) - всего 81 цикл</li><br>\n",
    "</ol>\n",
    "Ниже представлено графическое представление, подтверждающее аналитические рассуждения."
   ]
  },
  {
   "cell_type": "code",
   "execution_count": 489,
   "metadata": {},
   "outputs": [
    {
     "name": "stdout",
     "output_type": "stream",
     "text": [
      "90 degree rotation\n",
      "73 64 55 46 37 28 19 10 1\n",
      "74 65 56 47 38 29 20 11 2\n",
      "75 66 57 48 39 30 21 12 3\n",
      "76 67 58 49 40 31 22 13 4\n",
      "77 68 59 50 41 32 23 14 5\n",
      "78 69 60 51 42 33 24 15 6\n",
      "79 70 61 52 43 34 25 16 7\n",
      "80 71 62 53 44 35 26 17 8\n",
      "81 72 63 54 45 36 27 18 9\n",
      "\n",
      "180 degree rotation\n",
      "81 80 79 78 77 76 75 74 73\n",
      "72 71 70 69 68 67 66 65 64\n",
      "63 62 61 60 59 58 57 56 55\n",
      "54 53 52 51 50 49 48 47 46\n",
      "45 44 43 42 41 40 39 38 37\n",
      "36 35 34 33 32 31 30 29 28\n",
      "27 26 25 24 23 22 21 20 19\n",
      "18 17 16 15 14 13 12 11 10\n",
      "9 8 7 6 5 4 3 2 1\n",
      "\n",
      "270 degree rotation\n",
      "9 18 27 36 45 54 63 72 81\n",
      "8 17 26 35 44 53 62 71 80\n",
      "7 16 25 34 43 52 61 70 79\n",
      "6 15 24 33 42 51 60 69 78\n",
      "5 14 23 32 41 50 59 68 77\n",
      "4 13 22 31 40 49 58 67 76\n",
      "3 12 21 30 39 48 57 66 75\n",
      "2 11 20 29 38 47 56 65 74\n",
      "1 10 19 28 37 46 55 64 73\n",
      "\n",
      "360 degree rotation\n",
      "1 2 3 4 5 6 7 8 9\n",
      "10 11 12 13 14 15 16 17 18\n",
      "19 20 21 22 23 24 25 26 27\n",
      "28 29 30 31 32 33 34 35 36\n",
      "37 38 39 40 41 42 43 44 45\n",
      "46 47 48 49 50 51 52 53 54\n",
      "55 56 57 58 59 60 61 62 63\n",
      "64 65 66 67 68 69 70 71 72\n",
      "73 74 75 76 77 78 79 80 81\n",
      "\n"
     ]
    }
   ],
   "source": [
    "matrix = create_matrix(9)\n",
    "test_rotate(matrix)"
   ]
  },
  {
   "cell_type": "markdown",
   "metadata": {},
   "source": [
    "Для более удобного представления запишем их в MARKDOWN стиле"
   ]
  },
  {
   "cell_type": "markdown",
   "metadata": {},
   "source": [
    "$\\tau(M)$ = \n",
    "$\\left[\n",
    " \\begin{matrix}\n",
    "    73&64&55&46&37&28&19&10&1\\\\\n",
    "    74&65&56&47&38&29&20&11&2\\\\\n",
    "    75&66&57&48&39&30&21&12&3\\\\\n",
    "    76&67&58&49&40&31&22&13&4\\\\\n",
    "    77&68&59&50&41&32&23&14&5\\\\\n",
    "    78&69&60&51&42&33&24&15&6\\\\\n",
    "    79&70&61&52&43&34&25&16&7\\\\\n",
    "    80&71&62&53&44&35&26&17&8\\\\\n",
    "    81&72&63&54&45&36&27&18&9\n",
    "  \\end{matrix} \n",
    "\\right]$\n",
    "$\\tau^2(M)$ = \n",
    "$\\left[\n",
    " \\begin{matrix}\n",
    "    81&80&79&78&77&76&75&74&73\\\\\n",
    "    72&71&70&69&68&67&66&65&64\\\\\n",
    "    63&62&61&60&59&58&57&56&55\\\\\n",
    "    54&53&52&51&50&49&48&47&46\\\\\n",
    "    45&44&43&42&41&40&39&38&37\\\\\n",
    "    36&35&34&33&32&31&30&29&28\\\\\n",
    "    27&26&25&24&23&22&21&20&19\\\\\n",
    "    18&17&16&15&14&13&12&11&10\\\\\n",
    "    9&8&7&6&5&4&3&2&1\n",
    "  \\end{matrix} \n",
    "\\right]$<br><br>\n",
    "$\\tau^3(M)$ = \n",
    "$\\left[\n",
    " \\begin{matrix}\n",
    "    9&18&27&36&45&54&63&72&81\\\\\n",
    "    8&17&26&35&44&53&62&71&80\\\\\n",
    "    7&16&25&34&43&52&61&70&79\\\\\n",
    "    6&15&24&33&42&51&60&69&78\\\\\n",
    "    5&14&23&32&41&50&59&68&77\\\\\n",
    "    4&13&22&31&40&49&58&67&76\\\\\n",
    "    3&12&21&30&39&48&57&66&75\\\\\n",
    "    2&11&20&29&38&47&56&65&74\\\\\n",
    "    1&10&19&28&37&46&55&64&73\n",
    "  \\end{matrix} \n",
    "\\right]$\n",
    "$M = \\tau^4(M)$ = \n",
    "$\\left[\n",
    " \\begin{matrix}\n",
    "    1&2&3&4&5&6&7&8&9\\\\\n",
    "    10&11&12&13&14&15&16&17&18\\\\\n",
    "    19&20&21&22&23&24&25&26&27\\\\\n",
    "    28&29&30&31&32&33&34&35&36\\\\\n",
    "    37&38&39&40&41&42&43&44&45\\\\\n",
    "    46&47&48&49&50&51&52&53&54\\\\\n",
    "    55&56&57&58&59&60&61&62&63\\\\\n",
    "    64&65&66&67&68&69&70&71&72\\\\\n",
    "    73&74&75&76&77&78&79&80&81\\\\\n",
    "  \\end{matrix} \n",
    "\\right]$"
   ]
  },
  {
   "cell_type": "markdown",
   "metadata": {},
   "source": [
    "3) Пусть $\\sigma$ - вертикальная осевая симетрия. Рассмотрим cимметрии:\n",
    "<ol>\n",
    "    <li>$\\sigma$ - вертикальная симметрия:<br>\n",
    "        $\\sigma$ = (1, 9)(2, 8)...(76,78)(5)(14)(23)(32)(41)(50)(59)(68)(77) - всего 45 циклов</li><br>\n",
    "    <li>$\\sigma(\\tau)$ - симметрия относительно главной диагонали:<br>\n",
    "        $\\sigma(\\tau)$ = (1)(11)(21)(31)(41)(51)(61)(71)(81)(2,10)(3, 19)...(72,80) - всего 45 циклов</li><br>\n",
    "    <li>$\\sigma(\\tau^2)$ - горизонтальная симметрия:<br>\n",
    "        $\\sigma(\\tau^2)$ = (1, 73)(2, 74)...(36,54)(37)(38)(39)(40)(41)(42)(43)(44)(45) - всего 45 циклов</li><br>\n",
    "    <li>$\\sigma(\\tau^3)$ - симметрия относительно побочной диагонали:<br>\n",
    "        $\\sigma(\\tau^3)$ = (1,81)(2,72)...(31,51)(9)(17)(25)(33)(41)(49)(57)(65)(73) - всего 45 циклов</li><br>\n",
    "</ol>\n",
    "Ниже представлено графическое представление, подтверждающее аналитические рассуждения."
   ]
  },
  {
   "cell_type": "code",
   "execution_count": 490,
   "metadata": {
    "scrolled": false
   },
   "outputs": [
    {
     "name": "stdout",
     "output_type": "stream",
     "text": [
      "vertical asix mirror\n",
      "9 8 7 6 5 4 3 2 1\n",
      "18 17 16 15 14 13 12 11 10\n",
      "27 26 25 24 23 22 21 20 19\n",
      "36 35 34 33 32 31 30 29 28\n",
      "45 44 43 42 41 40 39 38 37\n",
      "54 53 52 51 50 49 48 47 46\n",
      "63 62 61 60 59 58 57 56 55\n",
      "72 71 70 69 68 67 66 65 64\n",
      "81 80 79 78 77 76 75 74 73\n",
      "\n",
      "main_diagonal asix mirror\n",
      "1 10 19 28 37 46 55 64 73\n",
      "2 11 20 29 38 47 56 65 74\n",
      "3 12 21 30 39 48 57 66 75\n",
      "4 13 22 31 40 49 58 67 76\n",
      "5 14 23 32 41 50 59 68 77\n",
      "6 15 24 33 42 51 60 69 78\n",
      "7 16 25 34 43 52 61 70 79\n",
      "8 17 26 35 44 53 62 71 80\n",
      "9 18 27 36 45 54 63 72 81\n",
      "\n",
      "horizontal asix mirror\n",
      "73 74 75 76 77 78 79 80 81\n",
      "64 65 66 67 68 69 70 71 72\n",
      "55 56 57 58 59 60 61 62 63\n",
      "46 47 48 49 50 51 52 53 54\n",
      "37 38 39 40 41 42 43 44 45\n",
      "28 29 30 31 32 33 34 35 36\n",
      "19 20 21 22 23 24 25 26 27\n",
      "10 11 12 13 14 15 16 17 18\n",
      "1 2 3 4 5 6 7 8 9\n",
      "\n",
      "side_diagonal asix mirror\n",
      "81 72 63 54 45 36 27 18 9\n",
      "80 71 62 53 44 35 26 17 8\n",
      "79 70 61 52 43 34 25 16 7\n",
      "78 69 60 51 42 33 24 15 6\n",
      "77 68 59 50 41 32 23 14 5\n",
      "76 67 58 49 40 31 22 13 4\n",
      "75 66 57 48 39 30 21 12 3\n",
      "74 65 56 47 38 29 20 11 2\n",
      "73 64 55 46 37 28 19 10 1\n",
      "\n"
     ]
    }
   ],
   "source": [
    "matrix = create_matrix(9)\n",
    "test_mirror(matrix)"
   ]
  },
  {
   "cell_type": "markdown",
   "metadata": {},
   "source": [
    "Для более удобного представления запишем их в MARKDOWN стиле"
   ]
  },
  {
   "cell_type": "markdown",
   "metadata": {},
   "source": [
    "$\\sigma(M)$ = \n",
    "$\\left[\n",
    " \\begin{matrix}\n",
    "    9&8&7&6&5&4&3&2&1\\\\\n",
    "    18&17&16&15&14&13&12&11&10\\\\\n",
    "    27&26&25&24&23&22&21&20&19\\\\\n",
    "    36&35&34&33&32&31&30&29&28\\\\\n",
    "    45&44&43&42&41&40&39&38&37\\\\\n",
    "    54&53&52&51&50&49&48&47&46\\\\\n",
    "    63&62&61&60&59&58&57&56&55\\\\\n",
    "    72&71&70&69&68&67&66&65&64\\\\\n",
    "    81&80&79&78&77&76&75&74&73\n",
    "  \\end{matrix} \n",
    "\\right]$\n",
    "$\\sigma(\\tau(M))$ = \n",
    "$\\left[\n",
    " \\begin{matrix}\n",
    "    1&10&19&28&37&46&55&64&73\\\\\n",
    "    2&11&20&29&38&47&56&65&74\\\\\n",
    "    3&12&21&30&39&48&57&66&75\\\\\n",
    "    4&13&22&31&40&49&58&67&76\\\\\n",
    "    5&14&23&32&41&50&59&68&77\\\\\n",
    "    6&15&24&33&42&51&60&69&78\\\\\n",
    "    7&16&25&34&43&52&61&70&79\\\\\n",
    "    8&17&26&35&44&53&62&71&80\\\\\n",
    "    9&18&27&36&45&54&63&72&81\n",
    "  \\end{matrix} \n",
    "\\right]$<br><br>\n",
    "$\\sigma(\\tau^2(M))$ = \n",
    "$\\left[\n",
    " \\begin{matrix}\n",
    "    73&74&75&76&77&78&79&80&81\\\\\n",
    "    64&65&66&67&68&69&70&71&72\\\\\n",
    "    55&56&57&58&59&60&61&62&63\\\\\n",
    "    46&47&48&49&50&51&52&53&54\\\\\n",
    "    37&38&39&40&41&42&43&44&45\\\\\n",
    "    28&29&30&31&32&33&34&35&36\\\\\n",
    "    19&20&21&22&23&24&25&26&27\\\\\n",
    "    10&11&12&13&14&15&16&17&18\\\\\n",
    "    1&2&3&4&5&6&7&8&9\n",
    "  \\end{matrix} \n",
    "\\right]$\n",
    "$\\sigma(\\tau^3(M))$ = \n",
    "$\\left[\n",
    " \\begin{matrix}\n",
    "    81&72&63&54&45&36&27&18&9\\\\\n",
    "    80&71&62&53&44&35&26&17&8\\\\\n",
    "    79&70&61&52&43&34&25&16&7\\\\\n",
    "    78&69&60&51&42&33&24&15&6\\\\\n",
    "    77&68&59&50&41&32&23&14&5\\\\\n",
    "    76&67&58&49&40&31&22&13&4\\\\\n",
    "    75&66&57&48&39&30&21&12&3\\\\\n",
    "    74&65&56&47&38&29&20&11&2\\\\\n",
    "    73&64&55&46&37&28&19&10&1\n",
    "  \\end{matrix} \n",
    "\\right]$"
   ]
  },
  {
   "cell_type": "markdown",
   "metadata": {},
   "source": [
    "4) Вычислим стабилизаторы (количество раскрасок образуемых каждым элементом из группы действий (вращений) $G$): ($|C|$ - количество цветов.)\n",
    "<ol>\n",
    "    <li>$Stab_{|C|}(\\tau) = Stab_{|C|}(\\tau^3) = 3^{21}$</li>\n",
    "    <li>$Stab_{|C|}(\\tau^2) = 3^{41}$</li>\n",
    "    <li>$Stab_{|C|}(\\tau^4) = 3^{81}$</li>\n",
    "    <li>$Stab_{|C|}(\\sigma) = Stab_{|C|}(\\sigma(\\tau)) = Stab_{|C|}(\\sigma(\\tau^2)) = Stab_{|C|}(\\sigma(\\tau^3))  = 3^{45}$</li>\n",
    "        \n",
    "</ol>\n",
    "\n",
    "5) По лемме Бернсайда: $N$ = $\\frac{1}{|G|}$ * $\\sum_{g \\in G}{Stab_{|C|}(g)}$, где $G$ - множество всех действий (вращений), $|G|$ - количество действий (вращений), $g$ - действие (вращение), а $|C|$ - количество цветов.<br>\n",
    "$N$ = $\\frac{1}{8}$ * $(2 * 3^{21} + 3^{41} + 3^{81} + 4 * 3^{45}) = 5.54283110*10^{37}$"
   ]
  },
  {
   "cell_type": "markdown",
   "metadata": {},
   "source": [
    "#### Вывод\n",
    "\n",
    "Таким образом, посчитали способы раскраски матрицы 9 на 9 используя краски 3 цветов с точностью до поворотов применяя данные из теоретических положений, в частности лемму Бернсайда."
   ]
  },
  {
   "cell_type": "markdown",
   "metadata": {},
   "source": [
    "### 2) Графическое представление раскраски\n",
    "\n",
    "Для графического составления раскраски с заданным номером реализуем функцию <em>create_coloring_matrix</em> - создающую раскрашенную матрицу по заданному номеру раскраски."
   ]
  },
  {
   "cell_type": "code",
   "execution_count": 491,
   "metadata": {},
   "outputs": [],
   "source": [
    "def create_coloring_matrix(coloring_number: int, count_colors: int=3, matrix_size: int=9) -> list[list[int]]:\n",
    "    \"\"\"\n",
    "    Функция, которая строит раскраску по переданному номеру для данной задачи.\n",
    "    \"\"\"\n",
    "    \n",
    "    count_cells = matrix_size * matrix_size\n",
    "    if (coloring_number < 0) or (coloring_number > count_colors ** (count_cells)): # Проверка корректности номера раскраски\n",
    "        print(\"Не корректный номер раскраски\")\n",
    "        return [[0]]\n",
    "    \n",
    "    # Создание списка цветов для каждого квадратика (индекс - номер квадратика, значения - цвет)\n",
    "    coloring = list(reversed(coloring_number.digits(count_colors))) # Рассчет раскраски по номеру\n",
    "    coloring = [0] * (count_cells - len(coloring)) + coloring # Дополнение первых не значащих нулей (до 81 элемента)\n",
    "    \n",
    "    coloring_matrix = [coloring[i: i + matrix_size] for i in range(0, (count_cells - matrix_size) + 1, matrix_size)] # Создание матрицы для отображения\n",
    "    \n",
    "    return coloring_matrix"
   ]
  },
  {
   "cell_type": "markdown",
   "metadata": {},
   "source": [
    "Рассмотрим пример работы программы на нескольких значениях номеров раскрасски. А также продемонстрируем повороты и отражения данных раскрасок."
   ]
  },
  {
   "cell_type": "code",
   "execution_count": 492,
   "metadata": {},
   "outputs": [
    {
     "data": {
      "image/png": "[encoded data removed]",
      "text/plain": [
       "Graphics object consisting of 1 graphics primitive"
      ]
     },
     "metadata": {},
     "output_type": "display_data"
    }
   ],
   "source": [
    "# Test 1\n",
    "\n",
    "print_matrix(create_coloring_matrix(7**41), matrix_type=\"Coloring\")"
   ]
  },
  {
   "cell_type": "code",
   "execution_count": 493,
   "metadata": {},
   "outputs": [
    {
     "name": "stdout",
     "output_type": "stream",
     "text": [
      "90 degree rotation\n"
     ]
    },
    {
     "data": {
      "image/png": "[encoded data removed]",
      "text/plain": [
       "Graphics object consisting of 1 graphics primitive"
      ]
     },
     "metadata": {},
     "output_type": "display_data"
    },
    {
     "name": "stdout",
     "output_type": "stream",
     "text": [
      "\n",
      "180 degree rotation\n"
     ]
    },
    {
     "data": {
      "image/png": "[encoded data removed]",
      "text/plain": [
       "Graphics object consisting of 1 graphics primitive"
      ]
     },
     "metadata": {},
     "output_type": "display_data"
    },
    {
     "name": "stdout",
     "output_type": "stream",
     "text": [
      "\n",
      "270 degree rotation\n"
     ]
    },
    {
     "data": {
      "image/png": "[encoded data removed]",
      "text/plain": [
       "Graphics object consisting of 1 graphics primitive"
      ]
     },
     "metadata": {},
     "output_type": "display_data"
    },
    {
     "name": "stdout",
     "output_type": "stream",
     "text": [
      "\n",
      "360 degree rotation\n"
     ]
    },
    {
     "data": {
      "image/png": "[encoded data removed]",
      "text/plain": [
       "Graphics object consisting of 1 graphics primitive"
      ]
     },
     "metadata": {},
     "output_type": "display_data"
    },
    {
     "name": "stdout",
     "output_type": "stream",
     "text": [
      "\n"
     ]
    }
   ],
   "source": [
    "# Код реализующий повороты матрицы\n",
    "\n",
    "matrix = create_coloring_matrix(7**41)\n",
    "test_rotate(matrix, test_type=\"Coloring\")"
   ]
  },
  {
   "cell_type": "code",
   "execution_count": 494,
   "metadata": {},
   "outputs": [
    {
     "name": "stdout",
     "output_type": "stream",
     "text": [
      "vertical asix mirror\n"
     ]
    },
    {
     "data": {
      "image/png": "[encoded data removed]",
      "text/plain": [
       "Graphics object consisting of 1 graphics primitive"
      ]
     },
     "metadata": {},
     "output_type": "display_data"
    },
    {
     "name": "stdout",
     "output_type": "stream",
     "text": [
      "\n",
      "main_diagonal asix mirror\n"
     ]
    },
    {
     "data": {
      "image/png": "[encoded data removed]",
      "text/plain": [
       "Graphics object consisting of 1 graphics primitive"
      ]
     },
     "metadata": {},
     "output_type": "display_data"
    },
    {
     "name": "stdout",
     "output_type": "stream",
     "text": [
      "\n",
      "horizontal asix mirror\n"
     ]
    },
    {
     "data": {
      "image/png": "[encoded data removed]",
      "text/plain": [
       "Graphics object consisting of 1 graphics primitive"
      ]
     },
     "metadata": {},
     "output_type": "display_data"
    },
    {
     "name": "stdout",
     "output_type": "stream",
     "text": [
      "\n",
      "side_diagonal asix mirror\n"
     ]
    },
    {
     "data": {
      "image/png": "[encoded data removed]",
      "text/plain": [
       "Graphics object consisting of 1 graphics primitive"
      ]
     },
     "metadata": {},
     "output_type": "display_data"
    },
    {
     "name": "stdout",
     "output_type": "stream",
     "text": [
      "\n"
     ]
    }
   ],
   "source": [
    "# Код реализующий отражения матрицы\n",
    "\n",
    "matrix = create_coloring_matrix(7**41)\n",
    "test_mirror(matrix, test_type=\"Coloring\")"
   ]
  },
  {
   "cell_type": "code",
   "execution_count": 495,
   "metadata": {},
   "outputs": [
    {
     "data": {
      "image/png": "[encoded data removed]",
      "text/plain": [
       "Graphics object consisting of 1 graphics primitive"
      ]
     },
     "metadata": {},
     "output_type": "display_data"
    }
   ],
   "source": [
    "# Test 2\n",
    "\n",
    "print_matrix(create_coloring_matrix(19**25), matrix_type=\"Coloring\")"
   ]
  },
  {
   "cell_type": "code",
   "execution_count": 496,
   "metadata": {},
   "outputs": [
    {
     "name": "stdout",
     "output_type": "stream",
     "text": [
      "90 degree rotation\n"
     ]
    },
    {
     "data": {
      "image/png": "[encoded data removed]",
      "text/plain": [
       "Graphics object consisting of 1 graphics primitive"
      ]
     },
     "metadata": {},
     "output_type": "display_data"
    },
    {
     "name": "stdout",
     "output_type": "stream",
     "text": [
      "\n",
      "180 degree rotation\n"
     ]
    },
    {
     "data": {
      "image/png": "[encoded data removed]",
      "text/plain": [
       "Graphics object consisting of 1 graphics primitive"
      ]
     },
     "metadata": {},
     "output_type": "display_data"
    },
    {
     "name": "stdout",
     "output_type": "stream",
     "text": [
      "\n",
      "270 degree rotation\n"
     ]
    },
    {
     "data": {
      "image/png": "[encoded data removed]",
      "text/plain": [
       "Graphics object consisting of 1 graphics primitive"
      ]
     },
     "metadata": {},
     "output_type": "display_data"
    },
    {
     "name": "stdout",
     "output_type": "stream",
     "text": [
      "\n",
      "360 degree rotation\n"
     ]
    },
    {
     "data": {
      "image/png": "[encoded data removed]",
      "text/plain": [
       "Graphics object consisting of 1 graphics primitive"
      ]
     },
     "metadata": {},
     "output_type": "display_data"
    },
    {
     "name": "stdout",
     "output_type": "stream",
     "text": [
      "\n"
     ]
    }
   ],
   "source": [
    "# Код реализующий повороты матрицы\n",
    "\n",
    "matrix = create_coloring_matrix(19**25)\n",
    "test_rotate(matrix, test_type=\"Coloring\")"
   ]
  },
  {
   "cell_type": "code",
   "execution_count": 497,
   "metadata": {},
   "outputs": [
    {
     "name": "stdout",
     "output_type": "stream",
     "text": [
      "vertical asix mirror\n"
     ]
    },
    {
     "data": {
      "image/png": "[encoded data removed]",
      "text/plain": [
       "Graphics object consisting of 1 graphics primitive"
      ]
     },
     "metadata": {},
     "output_type": "display_data"
    },
    {
     "name": "stdout",
     "output_type": "stream",
     "text": [
      "\n",
      "main_diagonal asix mirror\n"
     ]
    },
    {
     "data": {
      "image/png": "[encoded data removed]",
      "text/plain": [
       "Graphics object consisting of 1 graphics primitive"
      ]
     },
     "metadata": {},
     "output_type": "display_data"
    },
    {
     "name": "stdout",
     "output_type": "stream",
     "text": [
      "\n",
      "horizontal asix mirror\n"
     ]
    },
    {
     "data": {
      "image/png": "[encoded data removed]",
      "text/plain": [
       "Graphics object consisting of 1 graphics primitive"
      ]
     },
     "metadata": {},
     "output_type": "display_data"
    },
    {
     "name": "stdout",
     "output_type": "stream",
     "text": [
      "\n",
      "side_diagonal asix mirror\n"
     ]
    },
    {
     "data": {
      "image/png": "[encoded data removed]",
      "text/plain": [
       "Graphics object consisting of 1 graphics primitive"
      ]
     },
     "metadata": {},
     "output_type": "display_data"
    },
    {
     "name": "stdout",
     "output_type": "stream",
     "text": [
      "\n"
     ]
    }
   ],
   "source": [
    "# Код реализующий отражения матрицы\n",
    "\n",
    "matrix = create_coloring_matrix(19**25)\n",
    "test_mirror(matrix, test_type=\"Coloring\")"
   ]
  },
  {
   "cell_type": "code",
   "execution_count": 498,
   "metadata": {
    "scrolled": false
   },
   "outputs": [
    {
     "data": {
      "image/png": "[encoded data removed]",
      "text/plain": [
       "Graphics object consisting of 1 graphics primitive"
      ]
     },
     "metadata": {},
     "output_type": "display_data"
    }
   ],
   "source": [
    "# Test 3\n",
    "\n",
    "print_matrix(create_coloring_matrix(211**15 - 23), matrix_type=\"Coloring\")"
   ]
  },
  {
   "cell_type": "code",
   "execution_count": 499,
   "metadata": {},
   "outputs": [
    {
     "name": "stdout",
     "output_type": "stream",
     "text": [
      "90 degree rotation\n"
     ]
    },
    {
     "data": {
      "image/png": "[encoded data removed]",
      "text/plain": [
       "Graphics object consisting of 1 graphics primitive"
      ]
     },
     "metadata": {},
     "output_type": "display_data"
    },
    {
     "name": "stdout",
     "output_type": "stream",
     "text": [
      "\n",
      "180 degree rotation\n"
     ]
    },
    {
     "data": {
      "image/png": "[encoded data removed]",
      "text/plain": [
       "Graphics object consisting of 1 graphics primitive"
      ]
     },
     "metadata": {},
     "output_type": "display_data"
    },
    {
     "name": "stdout",
     "output_type": "stream",
     "text": [
      "\n",
      "270 degree rotation\n"
     ]
    },
    {
     "data": {
      "image/png": "[encoded data removed]",
      "text/plain": [
       "Graphics object consisting of 1 graphics primitive"
      ]
     },
     "metadata": {},
     "output_type": "display_data"
    },
    {
     "name": "stdout",
     "output_type": "stream",
     "text": [
      "\n",
      "360 degree rotation\n"
     ]
    },
    {
     "data": {
      "image/png": "[encoded data removed]",
      "text/plain": [
       "Graphics object consisting of 1 graphics primitive"
      ]
     },
     "metadata": {},
     "output_type": "display_data"
    },
    {
     "name": "stdout",
     "output_type": "stream",
     "text": [
      "\n"
     ]
    }
   ],
   "source": [
    "# Код реализующий повороты матрицы\n",
    "\n",
    "matrix = create_coloring_matrix(211**15 - 23)\n",
    "test_rotate(matrix, test_type=\"Coloring\")"
   ]
  },
  {
   "cell_type": "code",
   "execution_count": 500,
   "metadata": {},
   "outputs": [
    {
     "name": "stdout",
     "output_type": "stream",
     "text": [
      "vertical asix mirror\n"
     ]
    },
    {
     "data": {
      "image/png": "[encoded data removed]",
      "text/plain": [
       "Graphics object consisting of 1 graphics primitive"
      ]
     },
     "metadata": {},
     "output_type": "display_data"
    },
    {
     "name": "stdout",
     "output_type": "stream",
     "text": [
      "\n",
      "main_diagonal asix mirror\n"
     ]
    },
    {
     "data": {
      "image/png": "[encoded data removed]",
      "text/plain": [
       "Graphics object consisting of 1 graphics primitive"
      ]
     },
     "metadata": {},
     "output_type": "display_data"
    },
    {
     "name": "stdout",
     "output_type": "stream",
     "text": [
      "\n",
      "horizontal asix mirror\n"
     ]
    },
    {
     "data": {
      "image/png": "[encoded data removed]",
      "text/plain": [
       "Graphics object consisting of 1 graphics primitive"
      ]
     },
     "metadata": {},
     "output_type": "display_data"
    },
    {
     "name": "stdout",
     "output_type": "stream",
     "text": [
      "\n",
      "side_diagonal asix mirror\n"
     ]
    },
    {
     "data": {
      "image/png": "[encoded data removed]",
      "text/plain": [
       "Graphics object consisting of 1 graphics primitive"
      ]
     },
     "metadata": {},
     "output_type": "display_data"
    },
    {
     "name": "stdout",
     "output_type": "stream",
     "text": [
      "\n"
     ]
    }
   ],
   "source": [
    "# Код реализующий отражения матрицы\n",
    "\n",
    "matrix = create_coloring_matrix(211**15 - 23)\n",
    "test_mirror(matrix, test_type=\"Coloring\")"
   ]
  },
  {
   "cell_type": "markdown",
   "metadata": {},
   "source": [
    "#### Вывод\n",
    "\n",
    "Написали функцию создающую раскраску по заданному номеру. А также написали функцию ее графического отображения (<em>print_matrix</em>). Функцию протестировали на нескольких значениях, а также посмотрели на данную раскраску под действием всех элементов группы действий (вращений) мартицы. Для графического отображения использован встроенный функционал <em>sage</em> (<em>sage.plot.matrix_plot</em>)."
   ]
  },
  {
   "cell_type": "markdown",
   "metadata": {},
   "source": [
    "## Выводы\n",
    "\n",
    "Сформировано представления о задачах о раскрасках, выработано умение использовать лемму Бёрнсайда для решения задачи о раскрасках,привит навык использования систем компьютерной алгебры <em>SageMath</em> для реализации алгоритмов решения задачи.<br><br>\n",
    "В ходе выполнения работы, была аналитически решена задача о раскрасках матрицы, а аналитические рассуждения подкреплены визуальным отображением матрицы. Также была написана функция раскраски матрицы по заданому номеру и для нее осуществлены все возможные действия над матрицей.\n"
   ]
  }
 ],
 "metadata": {
  "kernelspec": {
   "display_name": "SageMath 9.5",
   "language": "sage",
   "name": "sagemath"
  },
  "language_info": {
   "codemirror_mode": {
    "name": "ipython",
    "version": 3
   },
   "file_extension": ".py",
   "mimetype": "text/x-python",
   "name": "python",
   "nbconvert_exporter": "python",
   "pygments_lexer": "ipython3",
   "version": "3.10.6"
  }
 },
 "nbformat": 4,
 "nbformat_minor": 4
}
